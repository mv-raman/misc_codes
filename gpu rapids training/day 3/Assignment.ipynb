{
 "cells": [
  {
   "cell_type": "markdown",
   "metadata": {},
   "source": [
    "**Problem Statement :**  \n",
    "Using the previous tables, Write a dask cudf accelerated code to get the `top 5 most sold items` on given day along with their units sold. And then get the transactions for those items(i.e. find the store number and all other information) \n",
    "\n",
    "---"
   ]
  },
  {
   "cell_type": "code",
   "execution_count": 2,
   "metadata": {},
   "outputs": [],
   "source": [
    "from dask_cudf import read_csv, read_parquet, read_orc, DataFrame, concat\n",
    "## Q1. Right Import\n",
    "from dask_cudf import read_csv, read_parquet, read_orc, DataFrame, concat\n"
   ]
  },
  {
   "cell_type": "code",
   "execution_count": 3,
   "metadata": {},
   "outputs": [
    {
     "name": "stderr",
     "output_type": "stream",
     "text": [
      "/conda/envs/rapids/lib/python3.7/site-packages/distributed/node.py:155: UserWarning: Port 8001 is already in use.\n",
      "Perhaps you already have a cluster running?\n",
      "Hosting the HTTP server on port 41251 instead\n",
      "  http_address[\"port\"], self.http_server.port\n"
     ]
    },
    {
     "data": {
      "text/html": [
       "<table style=\"border: 2px solid white;\">\n",
       "<tr>\n",
       "<td style=\"vertical-align: top; border: 0px solid white\">\n",
       "<h3 style=\"text-align: left;\">Client</h3>\n",
       "<ul style=\"text-align: left; list-style: none; margin: 0; padding: 0;\">\n",
       "  <li><b>Scheduler: </b>tcp://127.0.0.1:46220</li>\n",
       "  <li><b>Dashboard: </b><a href='http://127.0.0.1:41251/status' target='_blank'>http://127.0.0.1:41251/status</a></li>\n",
       "</ul>\n",
       "</td>\n",
       "<td style=\"vertical-align: top; border: 0px solid white\">\n",
       "<h3 style=\"text-align: left;\">Cluster</h3>\n",
       "<ul style=\"text-align: left; list-style:none; margin: 0; padding: 0;\">\n",
       "  <li><b>Workers: </b>2</li>\n",
       "  <li><b>Cores: </b>2</li>\n",
       "  <li><b>Memory: </b>810.04 GB</li>\n",
       "</ul>\n",
       "</td>\n",
       "</tr>\n",
       "</table>"
      ],
      "text/plain": [
       "<Client: 'tcp://127.0.0.1:46220' processes=2 threads=2, memory=810.04 GB>"
      ]
     },
     "execution_count": 3,
     "metadata": {},
     "output_type": "execute_result"
    }
   ],
   "source": [
    "from dask.distributed import Client\n",
    "from dask_cuda import LocalCUDACluster\n",
    "\n",
    "## Q2. Create a Cluster\n",
    "cluster = LocalCUDACluster(dashboard_address=':8001')\n",
    "\n",
    "## Q3. Create a Client\n",
    "client = Client(cluster)\n",
    "client"
   ]
  },
  {
   "cell_type": "markdown",
   "metadata": {},
   "source": [
    "---\n",
    "#### Reading the cal_dim table from `/data/calendar.csv` stored in csv format"
   ]
  },
  {
   "cell_type": "code",
   "execution_count": 4,
   "metadata": {},
   "outputs": [
    {
     "name": "stdout",
     "output_type": "stream",
     "text": [
      "CPU times: user 2.14 s, sys: 741 ms, total: 2.88 s\n",
      "Wall time: 2.75 s\n"
     ]
    }
   ],
   "source": [
    "%%time\n",
    "cal = read_csv('/data/calendar.csv')\n",
    "cal['cal_dt'] = cal['cal_dt'].astype('datetime64[ms]')\n",
    "cal['ly_date'] = cal['ly_date'].astype('datetime64[ms]')\n",
    "cal['ly_comp_visit_dt'] = cal['ly_comp_visit_dt'].astype('datetime64[ms]')"
   ]
  },
  {
   "cell_type": "code",
   "execution_count": 5,
   "metadata": {},
   "outputs": [],
   "source": [
    "## Q4 Compute cal to cudf dataframe\n",
    "cal = cal.compute()\n"
   ]
  },
  {
   "cell_type": "code",
   "execution_count": 6,
   "metadata": {},
   "outputs": [
    {
     "data": {
      "text/html": [
       "<div>\n",
       "<style scoped>\n",
       "    .dataframe tbody tr th:only-of-type {\n",
       "        vertical-align: middle;\n",
       "    }\n",
       "\n",
       "    .dataframe tbody tr th {\n",
       "        vertical-align: top;\n",
       "    }\n",
       "\n",
       "    .dataframe thead th {\n",
       "        text-align: right;\n",
       "    }\n",
       "</style>\n",
       "<table border=\"1\" class=\"dataframe\">\n",
       "  <thead>\n",
       "    <tr style=\"text-align: right;\">\n",
       "      <th></th>\n",
       "      <th>cal_dt</th>\n",
       "      <th>ly_date</th>\n",
       "      <th>ly_comp_visit_dt</th>\n",
       "      <th>wm_yr_wk_nbr</th>\n",
       "    </tr>\n",
       "  </thead>\n",
       "  <tbody>\n",
       "    <tr>\n",
       "      <th>0</th>\n",
       "      <td>2017-04-11</td>\n",
       "      <td>2016-04-11</td>\n",
       "      <td>2016-04-12</td>\n",
       "      <td>201711</td>\n",
       "    </tr>\n",
       "  </tbody>\n",
       "</table>\n",
       "</div>"
      ],
      "text/plain": [
       "      cal_dt    ly_date ly_comp_visit_dt  wm_yr_wk_nbr\n",
       "0 2017-04-11 2016-04-11       2016-04-12        201711"
      ]
     },
     "execution_count": 6,
     "metadata": {},
     "output_type": "execute_result"
    }
   ],
   "source": [
    "cal"
   ]
  },
  {
   "cell_type": "markdown",
   "metadata": {},
   "source": [
    "---\n",
    "#### Reading the store_visit_scan table from `/data/store_visit_scan_mask.parquet` stored in parquet format"
   ]
  },
  {
   "cell_type": "code",
   "execution_count": 7,
   "metadata": {},
   "outputs": [
    {
     "name": "stdout",
     "output_type": "stream",
     "text": [
      "CPU times: user 45.6 ms, sys: 12.5 ms, total: 58.1 ms\n",
      "Wall time: 48.2 ms\n"
     ]
    }
   ],
   "source": [
    "%%time\n",
    "svs = read_parquet('/data/store_visit_scan_mask.parquet')\n",
    "svs['load_ts'] = svs['load_ts'].astype('datetime64[ms]')\n",
    "svs['visit_dt'] = svs['visit_dt'].astype('datetime64[ms]')\n"
   ]
  },
  {
   "cell_type": "code",
   "execution_count": 8,
   "metadata": {},
   "outputs": [
    {
     "data": {
      "text/html": [
       "<div><strong>Dask DataFrame Structure:</strong></div>\n",
       "<div>\n",
       "<style scoped>\n",
       "    .dataframe tbody tr th:only-of-type {\n",
       "        vertical-align: middle;\n",
       "    }\n",
       "\n",
       "    .dataframe tbody tr th {\n",
       "        vertical-align: top;\n",
       "    }\n",
       "\n",
       "    .dataframe thead th {\n",
       "        text-align: right;\n",
       "    }\n",
       "</style>\n",
       "<table border=\"1\" class=\"dataframe\">\n",
       "  <thead>\n",
       "    <tr style=\"text-align: right;\">\n",
       "      <th></th>\n",
       "      <th>visit_nbr</th>\n",
       "      <th>store_nbr</th>\n",
       "      <th>scan_seq_nbr</th>\n",
       "      <th>scan_id</th>\n",
       "      <th>scan_type</th>\n",
       "      <th>load_ts</th>\n",
       "      <th>visit_dt</th>\n",
       "      <th>op_cmpny_cd</th>\n",
       "    </tr>\n",
       "    <tr>\n",
       "      <th>npartitions=7</th>\n",
       "      <th></th>\n",
       "      <th></th>\n",
       "      <th></th>\n",
       "      <th></th>\n",
       "      <th></th>\n",
       "      <th></th>\n",
       "      <th></th>\n",
       "      <th></th>\n",
       "    </tr>\n",
       "  </thead>\n",
       "  <tbody>\n",
       "    <tr>\n",
       "      <th></th>\n",
       "      <td>int64</td>\n",
       "      <td>int64</td>\n",
       "      <td>int64</td>\n",
       "      <td>int64</td>\n",
       "      <td>int64</td>\n",
       "      <td>datetime64[ms]</td>\n",
       "      <td>datetime64[ms]</td>\n",
       "      <td>object</td>\n",
       "    </tr>\n",
       "    <tr>\n",
       "      <th></th>\n",
       "      <td>...</td>\n",
       "      <td>...</td>\n",
       "      <td>...</td>\n",
       "      <td>...</td>\n",
       "      <td>...</td>\n",
       "      <td>...</td>\n",
       "      <td>...</td>\n",
       "      <td>...</td>\n",
       "    </tr>\n",
       "    <tr>\n",
       "      <th>...</th>\n",
       "      <td>...</td>\n",
       "      <td>...</td>\n",
       "      <td>...</td>\n",
       "      <td>...</td>\n",
       "      <td>...</td>\n",
       "      <td>...</td>\n",
       "      <td>...</td>\n",
       "      <td>...</td>\n",
       "    </tr>\n",
       "    <tr>\n",
       "      <th></th>\n",
       "      <td>...</td>\n",
       "      <td>...</td>\n",
       "      <td>...</td>\n",
       "      <td>...</td>\n",
       "      <td>...</td>\n",
       "      <td>...</td>\n",
       "      <td>...</td>\n",
       "      <td>...</td>\n",
       "    </tr>\n",
       "    <tr>\n",
       "      <th></th>\n",
       "      <td>...</td>\n",
       "      <td>...</td>\n",
       "      <td>...</td>\n",
       "      <td>...</td>\n",
       "      <td>...</td>\n",
       "      <td>...</td>\n",
       "      <td>...</td>\n",
       "      <td>...</td>\n",
       "    </tr>\n",
       "  </tbody>\n",
       "</table>\n",
       "</div>\n",
       "<div>Dask Name: assign, 49 tasks</div>"
      ],
      "text/plain": [
       "<dask_cudf.DataFrame | 49 tasks | 7 npartitions>"
      ]
     },
     "execution_count": 8,
     "metadata": {},
     "output_type": "execute_result"
    }
   ],
   "source": [
    "svs"
   ]
  },
  {
   "cell_type": "code",
   "execution_count": null,
   "metadata": {},
   "outputs": [],
   "source": [
    "## Q5. How many partitions does the dask_cudf data frame has?\n",
    "## A. 7"
   ]
  },
  {
   "cell_type": "code",
   "execution_count": 10,
   "metadata": {},
   "outputs": [],
   "source": [
    "## Q6. Change the data farme from previous number of partitons to to 4 partitions\n",
    "\n",
    "svs = svs.repartition(npartitions=4)"
   ]
  },
  {
   "cell_type": "code",
   "execution_count": 11,
   "metadata": {},
   "outputs": [
    {
     "data": {
      "text/html": [
       "<div>\n",
       "<style scoped>\n",
       "    .dataframe tbody tr th:only-of-type {\n",
       "        vertical-align: middle;\n",
       "    }\n",
       "\n",
       "    .dataframe tbody tr th {\n",
       "        vertical-align: top;\n",
       "    }\n",
       "\n",
       "    .dataframe thead th {\n",
       "        text-align: right;\n",
       "    }\n",
       "</style>\n",
       "<table border=\"1\" class=\"dataframe\">\n",
       "  <thead>\n",
       "    <tr style=\"text-align: right;\">\n",
       "      <th></th>\n",
       "      <th>visit_nbr</th>\n",
       "      <th>store_nbr</th>\n",
       "      <th>scan_seq_nbr</th>\n",
       "      <th>scan_id</th>\n",
       "      <th>scan_type</th>\n",
       "      <th>load_ts</th>\n",
       "      <th>visit_dt</th>\n",
       "      <th>op_cmpny_cd</th>\n",
       "    </tr>\n",
       "  </thead>\n",
       "  <tbody>\n",
       "    <tr>\n",
       "      <th>0</th>\n",
       "      <td>710103784</td>\n",
       "      <td>1099</td>\n",
       "      <td>8</td>\n",
       "      <td>877534402</td>\n",
       "      <td>0</td>\n",
       "      <td>2017-06-23 12:46:35</td>\n",
       "      <td>2017-04-11</td>\n",
       "      <td>WMT-US</td>\n",
       "    </tr>\n",
       "    <tr>\n",
       "      <th>1</th>\n",
       "      <td>710104362</td>\n",
       "      <td>1999</td>\n",
       "      <td>7</td>\n",
       "      <td>867174169</td>\n",
       "      <td>0</td>\n",
       "      <td>2017-06-23 12:46:35</td>\n",
       "      <td>2017-04-11</td>\n",
       "      <td>WMT-US</td>\n",
       "    </tr>\n",
       "    <tr>\n",
       "      <th>2</th>\n",
       "      <td>710101771</td>\n",
       "      <td>17377</td>\n",
       "      <td>6</td>\n",
       "      <td>738523462</td>\n",
       "      <td>0</td>\n",
       "      <td>2017-06-23 12:46:35</td>\n",
       "      <td>2017-04-11</td>\n",
       "      <td>WMT-US</td>\n",
       "    </tr>\n",
       "    <tr>\n",
       "      <th>3</th>\n",
       "      <td>710103327</td>\n",
       "      <td>9700</td>\n",
       "      <td>10</td>\n",
       "      <td>892230403</td>\n",
       "      <td>0</td>\n",
       "      <td>2017-06-23 12:46:35</td>\n",
       "      <td>2017-04-11</td>\n",
       "      <td>WMT-US</td>\n",
       "    </tr>\n",
       "    <tr>\n",
       "      <th>4</th>\n",
       "      <td>710101361</td>\n",
       "      <td>8737</td>\n",
       "      <td>4</td>\n",
       "      <td>851258830</td>\n",
       "      <td>0</td>\n",
       "      <td>2017-06-23 12:46:35</td>\n",
       "      <td>2017-04-11</td>\n",
       "      <td>WMT-US</td>\n",
       "    </tr>\n",
       "  </tbody>\n",
       "</table>\n",
       "</div>"
      ],
      "text/plain": [
       "   visit_nbr  store_nbr  scan_seq_nbr    scan_id  scan_type  \\\n",
       "0  710103784       1099             8  877534402          0   \n",
       "1  710104362       1999             7  867174169          0   \n",
       "2  710101771      17377             6  738523462          0   \n",
       "3  710103327       9700            10  892230403          0   \n",
       "4  710101361       8737             4  851258830          0   \n",
       "\n",
       "              load_ts   visit_dt op_cmpny_cd  \n",
       "0 2017-06-23 12:46:35 2017-04-11      WMT-US  \n",
       "1 2017-06-23 12:46:35 2017-04-11      WMT-US  \n",
       "2 2017-06-23 12:46:35 2017-04-11      WMT-US  \n",
       "3 2017-06-23 12:46:35 2017-04-11      WMT-US  \n",
       "4 2017-06-23 12:46:35 2017-04-11      WMT-US  "
      ]
     },
     "execution_count": 11,
     "metadata": {},
     "output_type": "execute_result"
    }
   ],
   "source": [
    "## Q7. Print the head to understand the DataFrame \n",
    "svs.head()"
   ]
  },
  {
   "cell_type": "code",
   "execution_count": 12,
   "metadata": {},
   "outputs": [
    {
     "data": {
      "text/html": [
       "<div><strong>Dask DataFrame Structure:</strong></div>\n",
       "<div>\n",
       "<style scoped>\n",
       "    .dataframe tbody tr th:only-of-type {\n",
       "        vertical-align: middle;\n",
       "    }\n",
       "\n",
       "    .dataframe tbody tr th {\n",
       "        vertical-align: top;\n",
       "    }\n",
       "\n",
       "    .dataframe thead th {\n",
       "        text-align: right;\n",
       "    }\n",
       "</style>\n",
       "<table border=\"1\" class=\"dataframe\">\n",
       "  <thead>\n",
       "    <tr style=\"text-align: right;\">\n",
       "      <th></th>\n",
       "      <th>visit_nbr</th>\n",
       "      <th>store_nbr</th>\n",
       "      <th>scan_seq_nbr</th>\n",
       "      <th>scan_id</th>\n",
       "      <th>scan_type</th>\n",
       "      <th>load_ts</th>\n",
       "      <th>visit_dt</th>\n",
       "      <th>op_cmpny_cd</th>\n",
       "    </tr>\n",
       "    <tr>\n",
       "      <th>npartitions=4</th>\n",
       "      <th></th>\n",
       "      <th></th>\n",
       "      <th></th>\n",
       "      <th></th>\n",
       "      <th></th>\n",
       "      <th></th>\n",
       "      <th></th>\n",
       "      <th></th>\n",
       "    </tr>\n",
       "  </thead>\n",
       "  <tbody>\n",
       "    <tr>\n",
       "      <th></th>\n",
       "      <td>int64</td>\n",
       "      <td>int64</td>\n",
       "      <td>int64</td>\n",
       "      <td>int64</td>\n",
       "      <td>int64</td>\n",
       "      <td>datetime64[ms]</td>\n",
       "      <td>datetime64[ms]</td>\n",
       "      <td>object</td>\n",
       "    </tr>\n",
       "    <tr>\n",
       "      <th></th>\n",
       "      <td>...</td>\n",
       "      <td>...</td>\n",
       "      <td>...</td>\n",
       "      <td>...</td>\n",
       "      <td>...</td>\n",
       "      <td>...</td>\n",
       "      <td>...</td>\n",
       "      <td>...</td>\n",
       "    </tr>\n",
       "    <tr>\n",
       "      <th></th>\n",
       "      <td>...</td>\n",
       "      <td>...</td>\n",
       "      <td>...</td>\n",
       "      <td>...</td>\n",
       "      <td>...</td>\n",
       "      <td>...</td>\n",
       "      <td>...</td>\n",
       "      <td>...</td>\n",
       "    </tr>\n",
       "    <tr>\n",
       "      <th></th>\n",
       "      <td>...</td>\n",
       "      <td>...</td>\n",
       "      <td>...</td>\n",
       "      <td>...</td>\n",
       "      <td>...</td>\n",
       "      <td>...</td>\n",
       "      <td>...</td>\n",
       "      <td>...</td>\n",
       "    </tr>\n",
       "    <tr>\n",
       "      <th></th>\n",
       "      <td>...</td>\n",
       "      <td>...</td>\n",
       "      <td>...</td>\n",
       "      <td>...</td>\n",
       "      <td>...</td>\n",
       "      <td>...</td>\n",
       "      <td>...</td>\n",
       "      <td>...</td>\n",
       "    </tr>\n",
       "  </tbody>\n",
       "</table>\n",
       "</div>\n",
       "<div>Dask Name: repartition, 53 tasks</div>"
      ],
      "text/plain": [
       "<dask_cudf.DataFrame | 53 tasks | 4 npartitions>"
      ]
     },
     "execution_count": 12,
     "metadata": {},
     "output_type": "execute_result"
    }
   ],
   "source": [
    "## Q8. Print the dask DataFrame to understand the partitions\n",
    "svs"
   ]
  },
  {
   "cell_type": "markdown",
   "metadata": {},
   "source": [
    "---\n",
    "#### Reading the store_visit table from `/data/store_visit_mask.parquet` stored in parquet format"
   ]
  },
  {
   "cell_type": "code",
   "execution_count": 13,
   "metadata": {},
   "outputs": [
    {
     "name": "stdout",
     "output_type": "stream",
     "text": [
      "CPU times: user 1.03 s, sys: 47.2 ms, total: 1.08 s\n",
      "Wall time: 1.03 s\n"
     ]
    }
   ],
   "source": [
    "%%time\n",
    "\n",
    "vst = read_parquet('/data/store_visit_mask.parquet')\n",
    "\n",
    "## Q9. read parquet files with dask cudf\n",
    "vst = read_parquet('/data/store_visit_mask.parquet')\n",
    "vst['visit_dt'] = vst['visit_dt'].astype('datetime64[ms]')\n",
    "vst['visit_hr'] = (vst.visit_tm / 100).astype('i2')\n",
    "vst['visit_min'] = (vst.visit_tm%100).astype('i2')\n",
    "vst = vst.drop(['visit_tm'], axis=1)"
   ]
  },
  {
   "cell_type": "code",
   "execution_count": 14,
   "metadata": {},
   "outputs": [
    {
     "data": {
      "text/html": [
       "<div><strong>Dask DataFrame Structure:</strong></div>\n",
       "<div>\n",
       "<style scoped>\n",
       "    .dataframe tbody tr th:only-of-type {\n",
       "        vertical-align: middle;\n",
       "    }\n",
       "\n",
       "    .dataframe tbody tr th {\n",
       "        vertical-align: top;\n",
       "    }\n",
       "\n",
       "    .dataframe thead th {\n",
       "        text-align: right;\n",
       "    }\n",
       "</style>\n",
       "<table border=\"1\" class=\"dataframe\">\n",
       "  <thead>\n",
       "    <tr style=\"text-align: right;\">\n",
       "      <th></th>\n",
       "      <th>store_nbr</th>\n",
       "      <th>visit_nbr</th>\n",
       "      <th>visit_dt</th>\n",
       "      <th>op_cmpny_cd</th>\n",
       "      <th>visit_hr</th>\n",
       "      <th>visit_min</th>\n",
       "    </tr>\n",
       "    <tr>\n",
       "      <th>npartitions=8</th>\n",
       "      <th></th>\n",
       "      <th></th>\n",
       "      <th></th>\n",
       "      <th></th>\n",
       "      <th></th>\n",
       "      <th></th>\n",
       "    </tr>\n",
       "  </thead>\n",
       "  <tbody>\n",
       "    <tr>\n",
       "      <th></th>\n",
       "      <td>int64</td>\n",
       "      <td>int64</td>\n",
       "      <td>datetime64[ms]</td>\n",
       "      <td>object</td>\n",
       "      <td>int16</td>\n",
       "      <td>int16</td>\n",
       "    </tr>\n",
       "    <tr>\n",
       "      <th></th>\n",
       "      <td>...</td>\n",
       "      <td>...</td>\n",
       "      <td>...</td>\n",
       "      <td>...</td>\n",
       "      <td>...</td>\n",
       "      <td>...</td>\n",
       "    </tr>\n",
       "    <tr>\n",
       "      <th>...</th>\n",
       "      <td>...</td>\n",
       "      <td>...</td>\n",
       "      <td>...</td>\n",
       "      <td>...</td>\n",
       "      <td>...</td>\n",
       "      <td>...</td>\n",
       "    </tr>\n",
       "    <tr>\n",
       "      <th></th>\n",
       "      <td>...</td>\n",
       "      <td>...</td>\n",
       "      <td>...</td>\n",
       "      <td>...</td>\n",
       "      <td>...</td>\n",
       "      <td>...</td>\n",
       "    </tr>\n",
       "    <tr>\n",
       "      <th></th>\n",
       "      <td>...</td>\n",
       "      <td>...</td>\n",
       "      <td>...</td>\n",
       "      <td>...</td>\n",
       "      <td>...</td>\n",
       "      <td>...</td>\n",
       "    </tr>\n",
       "  </tbody>\n",
       "</table>\n",
       "</div>\n",
       "<div>Dask Name: drop_by_shallow_copy, 104 tasks</div>"
      ],
      "text/plain": [
       "<dask_cudf.DataFrame | 104 tasks | 8 npartitions>"
      ]
     },
     "execution_count": 14,
     "metadata": {},
     "output_type": "execute_result"
    }
   ],
   "source": [
    "vst"
   ]
  },
  {
   "cell_type": "code",
   "execution_count": 16,
   "metadata": {},
   "outputs": [],
   "source": [
    "## Q10. Change the data farme from previous number of partitons to to 4 partitions\n",
    "vst = vst.repartition(npartitions=4)\n"
   ]
  },
  {
   "cell_type": "code",
   "execution_count": 17,
   "metadata": {},
   "outputs": [
    {
     "data": {
      "text/html": [
       "<div>\n",
       "<style scoped>\n",
       "    .dataframe tbody tr th:only-of-type {\n",
       "        vertical-align: middle;\n",
       "    }\n",
       "\n",
       "    .dataframe tbody tr th {\n",
       "        vertical-align: top;\n",
       "    }\n",
       "\n",
       "    .dataframe thead th {\n",
       "        text-align: right;\n",
       "    }\n",
       "</style>\n",
       "<table border=\"1\" class=\"dataframe\">\n",
       "  <thead>\n",
       "    <tr style=\"text-align: right;\">\n",
       "      <th></th>\n",
       "      <th>store_nbr</th>\n",
       "      <th>visit_nbr</th>\n",
       "      <th>visit_dt</th>\n",
       "      <th>op_cmpny_cd</th>\n",
       "      <th>visit_hr</th>\n",
       "      <th>visit_min</th>\n",
       "    </tr>\n",
       "  </thead>\n",
       "  <tbody>\n",
       "    <tr>\n",
       "      <th>0</th>\n",
       "      <td>11680</td>\n",
       "      <td>710100004</td>\n",
       "      <td>2017-04-11</td>\n",
       "      <td>WMT-US</td>\n",
       "      <td>0</td>\n",
       "      <td>1</td>\n",
       "    </tr>\n",
       "    <tr>\n",
       "      <th>1</th>\n",
       "      <td>16237</td>\n",
       "      <td>710100004</td>\n",
       "      <td>2017-04-11</td>\n",
       "      <td>WMT-US</td>\n",
       "      <td>0</td>\n",
       "      <td>1</td>\n",
       "    </tr>\n",
       "    <tr>\n",
       "      <th>2</th>\n",
       "      <td>17365</td>\n",
       "      <td>710100004</td>\n",
       "      <td>2017-04-11</td>\n",
       "      <td>WMT-US</td>\n",
       "      <td>0</td>\n",
       "      <td>2</td>\n",
       "    </tr>\n",
       "    <tr>\n",
       "      <th>3</th>\n",
       "      <td>5071</td>\n",
       "      <td>710100005</td>\n",
       "      <td>2017-04-11</td>\n",
       "      <td>WMT-US</td>\n",
       "      <td>0</td>\n",
       "      <td>3</td>\n",
       "    </tr>\n",
       "    <tr>\n",
       "      <th>4</th>\n",
       "      <td>5443</td>\n",
       "      <td>710100005</td>\n",
       "      <td>2017-04-11</td>\n",
       "      <td>WMT-US</td>\n",
       "      <td>0</td>\n",
       "      <td>3</td>\n",
       "    </tr>\n",
       "  </tbody>\n",
       "</table>\n",
       "</div>"
      ],
      "text/plain": [
       "   store_nbr  visit_nbr   visit_dt op_cmpny_cd  visit_hr  visit_min\n",
       "0      11680  710100004 2017-04-11      WMT-US         0          1\n",
       "1      16237  710100004 2017-04-11      WMT-US         0          1\n",
       "2      17365  710100004 2017-04-11      WMT-US         0          2\n",
       "3       5071  710100005 2017-04-11      WMT-US         0          3\n",
       "4       5443  710100005 2017-04-11      WMT-US         0          3"
      ]
     },
     "execution_count": 17,
     "metadata": {},
     "output_type": "execute_result"
    }
   ],
   "source": [
    "vst.head()"
   ]
  },
  {
   "cell_type": "code",
   "execution_count": 18,
   "metadata": {},
   "outputs": [
    {
     "data": {
      "text/html": [
       "<div><strong>Dask DataFrame Structure:</strong></div>\n",
       "<div>\n",
       "<style scoped>\n",
       "    .dataframe tbody tr th:only-of-type {\n",
       "        vertical-align: middle;\n",
       "    }\n",
       "\n",
       "    .dataframe tbody tr th {\n",
       "        vertical-align: top;\n",
       "    }\n",
       "\n",
       "    .dataframe thead th {\n",
       "        text-align: right;\n",
       "    }\n",
       "</style>\n",
       "<table border=\"1\" class=\"dataframe\">\n",
       "  <thead>\n",
       "    <tr style=\"text-align: right;\">\n",
       "      <th></th>\n",
       "      <th>store_nbr</th>\n",
       "      <th>visit_nbr</th>\n",
       "      <th>visit_dt</th>\n",
       "      <th>op_cmpny_cd</th>\n",
       "      <th>visit_hr</th>\n",
       "      <th>visit_min</th>\n",
       "    </tr>\n",
       "    <tr>\n",
       "      <th>npartitions=4</th>\n",
       "      <th></th>\n",
       "      <th></th>\n",
       "      <th></th>\n",
       "      <th></th>\n",
       "      <th></th>\n",
       "      <th></th>\n",
       "    </tr>\n",
       "  </thead>\n",
       "  <tbody>\n",
       "    <tr>\n",
       "      <th></th>\n",
       "      <td>int64</td>\n",
       "      <td>int64</td>\n",
       "      <td>datetime64[ms]</td>\n",
       "      <td>object</td>\n",
       "      <td>int16</td>\n",
       "      <td>int16</td>\n",
       "    </tr>\n",
       "    <tr>\n",
       "      <th></th>\n",
       "      <td>...</td>\n",
       "      <td>...</td>\n",
       "      <td>...</td>\n",
       "      <td>...</td>\n",
       "      <td>...</td>\n",
       "      <td>...</td>\n",
       "    </tr>\n",
       "    <tr>\n",
       "      <th></th>\n",
       "      <td>...</td>\n",
       "      <td>...</td>\n",
       "      <td>...</td>\n",
       "      <td>...</td>\n",
       "      <td>...</td>\n",
       "      <td>...</td>\n",
       "    </tr>\n",
       "    <tr>\n",
       "      <th></th>\n",
       "      <td>...</td>\n",
       "      <td>...</td>\n",
       "      <td>...</td>\n",
       "      <td>...</td>\n",
       "      <td>...</td>\n",
       "      <td>...</td>\n",
       "    </tr>\n",
       "    <tr>\n",
       "      <th></th>\n",
       "      <td>...</td>\n",
       "      <td>...</td>\n",
       "      <td>...</td>\n",
       "      <td>...</td>\n",
       "      <td>...</td>\n",
       "      <td>...</td>\n",
       "    </tr>\n",
       "  </tbody>\n",
       "</table>\n",
       "</div>\n",
       "<div>Dask Name: repartition, 108 tasks</div>"
      ],
      "text/plain": [
       "<dask_cudf.DataFrame | 108 tasks | 4 npartitions>"
      ]
     },
     "execution_count": 18,
     "metadata": {},
     "output_type": "execute_result"
    }
   ],
   "source": [
    "vst"
   ]
  },
  {
   "cell_type": "markdown",
   "metadata": {},
   "source": [
    "---\n",
    "### Performing inner join between store_visit_scan and store_visit"
   ]
  },
  {
   "cell_type": "code",
   "execution_count": 19,
   "metadata": {},
   "outputs": [
    {
     "name": "stdout",
     "output_type": "stream",
     "text": [
      "CPU times: user 42.6 ms, sys: 15.7 ms, total: 58.3 ms\n",
      "Wall time: 52.6 ms\n"
     ]
    }
   ],
   "source": [
    "%%time\n",
    "# Q11. inner join the svs and vst tables on ['visit_dt', 'store_nbr', 'visit_nbr']\n",
    "df = svs.merge(vst, on=['visit_dt', 'store_nbr', 'visit_nbr'], how='inner')\n",
    "\n",
    "df = df.drop_duplicates()"
   ]
  },
  {
   "cell_type": "code",
   "execution_count": 20,
   "metadata": {},
   "outputs": [
    {
     "data": {
      "text/html": [
       "<div>\n",
       "<style scoped>\n",
       "    .dataframe tbody tr th:only-of-type {\n",
       "        vertical-align: middle;\n",
       "    }\n",
       "\n",
       "    .dataframe tbody tr th {\n",
       "        vertical-align: top;\n",
       "    }\n",
       "\n",
       "    .dataframe thead th {\n",
       "        text-align: right;\n",
       "    }\n",
       "</style>\n",
       "<table border=\"1\" class=\"dataframe\">\n",
       "  <thead>\n",
       "    <tr style=\"text-align: right;\">\n",
       "      <th></th>\n",
       "      <th>visit_nbr</th>\n",
       "      <th>store_nbr</th>\n",
       "      <th>scan_seq_nbr</th>\n",
       "      <th>scan_id</th>\n",
       "      <th>scan_type</th>\n",
       "      <th>load_ts</th>\n",
       "      <th>visit_dt</th>\n",
       "      <th>op_cmpny_cd_x</th>\n",
       "      <th>op_cmpny_cd_y</th>\n",
       "      <th>visit_hr</th>\n",
       "      <th>visit_min</th>\n",
       "    </tr>\n",
       "  </thead>\n",
       "  <tbody>\n",
       "    <tr>\n",
       "      <th>334921</th>\n",
       "      <td>710100013</td>\n",
       "      <td>31</td>\n",
       "      <td>1</td>\n",
       "      <td>926596021</td>\n",
       "      <td>0</td>\n",
       "      <td>2017-06-23 12:10:28</td>\n",
       "      <td>2017-04-11</td>\n",
       "      <td>WMT-US</td>\n",
       "      <td>WMT-US</td>\n",
       "      <td>0</td>\n",
       "      <td>11</td>\n",
       "    </tr>\n",
       "    <tr>\n",
       "      <th>334923</th>\n",
       "      <td>710100013</td>\n",
       "      <td>31</td>\n",
       "      <td>2</td>\n",
       "      <td>885408808</td>\n",
       "      <td>0</td>\n",
       "      <td>2017-06-23 12:10:27</td>\n",
       "      <td>2017-04-11</td>\n",
       "      <td>WMT-US</td>\n",
       "      <td>WMT-US</td>\n",
       "      <td>0</td>\n",
       "      <td>11</td>\n",
       "    </tr>\n",
       "    <tr>\n",
       "      <th>334922</th>\n",
       "      <td>710100013</td>\n",
       "      <td>31</td>\n",
       "      <td>3</td>\n",
       "      <td>247820944</td>\n",
       "      <td>0</td>\n",
       "      <td>2017-06-23 12:10:27</td>\n",
       "      <td>2017-04-11</td>\n",
       "      <td>WMT-US</td>\n",
       "      <td>WMT-US</td>\n",
       "      <td>0</td>\n",
       "      <td>11</td>\n",
       "    </tr>\n",
       "    <tr>\n",
       "      <th>143788</th>\n",
       "      <td>710100013</td>\n",
       "      <td>106</td>\n",
       "      <td>1</td>\n",
       "      <td>399520165</td>\n",
       "      <td>0</td>\n",
       "      <td>2017-06-23 12:09:44</td>\n",
       "      <td>2017-04-11</td>\n",
       "      <td>WMT-US</td>\n",
       "      <td>WMT-US</td>\n",
       "      <td>0</td>\n",
       "      <td>21</td>\n",
       "    </tr>\n",
       "    <tr>\n",
       "      <th>237869</th>\n",
       "      <td>710100013</td>\n",
       "      <td>115</td>\n",
       "      <td>1</td>\n",
       "      <td>846065128</td>\n",
       "      <td>0</td>\n",
       "      <td>2017-06-23 12:10:10</td>\n",
       "      <td>2017-04-11</td>\n",
       "      <td>WMT-US</td>\n",
       "      <td>WMT-US</td>\n",
       "      <td>0</td>\n",
       "      <td>8</td>\n",
       "    </tr>\n",
       "  </tbody>\n",
       "</table>\n",
       "</div>"
      ],
      "text/plain": [
       "        visit_nbr  store_nbr  scan_seq_nbr    scan_id  scan_type  \\\n",
       "334921  710100013         31             1  926596021          0   \n",
       "334923  710100013         31             2  885408808          0   \n",
       "334922  710100013         31             3  247820944          0   \n",
       "143788  710100013        106             1  399520165          0   \n",
       "237869  710100013        115             1  846065128          0   \n",
       "\n",
       "                   load_ts   visit_dt op_cmpny_cd_x op_cmpny_cd_y  visit_hr  \\\n",
       "334921 2017-06-23 12:10:28 2017-04-11        WMT-US        WMT-US         0   \n",
       "334923 2017-06-23 12:10:27 2017-04-11        WMT-US        WMT-US         0   \n",
       "334922 2017-06-23 12:10:27 2017-04-11        WMT-US        WMT-US         0   \n",
       "143788 2017-06-23 12:09:44 2017-04-11        WMT-US        WMT-US         0   \n",
       "237869 2017-06-23 12:10:10 2017-04-11        WMT-US        WMT-US         0   \n",
       "\n",
       "        visit_min  \n",
       "334921         11  \n",
       "334923         11  \n",
       "334922         11  \n",
       "143788         21  \n",
       "237869          8  "
      ]
     },
     "execution_count": 20,
     "metadata": {},
     "output_type": "execute_result"
    }
   ],
   "source": [
    "df.head()"
   ]
  },
  {
   "cell_type": "code",
   "execution_count": 21,
   "metadata": {},
   "outputs": [
    {
     "data": {
      "text/html": [
       "<div><strong>Dask DataFrame Structure:</strong></div>\n",
       "<div>\n",
       "<style scoped>\n",
       "    .dataframe tbody tr th:only-of-type {\n",
       "        vertical-align: middle;\n",
       "    }\n",
       "\n",
       "    .dataframe tbody tr th {\n",
       "        vertical-align: top;\n",
       "    }\n",
       "\n",
       "    .dataframe thead th {\n",
       "        text-align: right;\n",
       "    }\n",
       "</style>\n",
       "<table border=\"1\" class=\"dataframe\">\n",
       "  <thead>\n",
       "    <tr style=\"text-align: right;\">\n",
       "      <th></th>\n",
       "      <th>visit_nbr</th>\n",
       "      <th>store_nbr</th>\n",
       "      <th>scan_seq_nbr</th>\n",
       "      <th>scan_id</th>\n",
       "      <th>scan_type</th>\n",
       "      <th>load_ts</th>\n",
       "      <th>visit_dt</th>\n",
       "      <th>op_cmpny_cd_x</th>\n",
       "      <th>op_cmpny_cd_y</th>\n",
       "      <th>visit_hr</th>\n",
       "      <th>visit_min</th>\n",
       "    </tr>\n",
       "    <tr>\n",
       "      <th>npartitions=1</th>\n",
       "      <th></th>\n",
       "      <th></th>\n",
       "      <th></th>\n",
       "      <th></th>\n",
       "      <th></th>\n",
       "      <th></th>\n",
       "      <th></th>\n",
       "      <th></th>\n",
       "      <th></th>\n",
       "      <th></th>\n",
       "      <th></th>\n",
       "    </tr>\n",
       "  </thead>\n",
       "  <tbody>\n",
       "    <tr>\n",
       "      <th></th>\n",
       "      <td>int64</td>\n",
       "      <td>int64</td>\n",
       "      <td>int64</td>\n",
       "      <td>int64</td>\n",
       "      <td>int64</td>\n",
       "      <td>datetime64[ms]</td>\n",
       "      <td>datetime64[ms]</td>\n",
       "      <td>object</td>\n",
       "      <td>object</td>\n",
       "      <td>int16</td>\n",
       "      <td>int16</td>\n",
       "    </tr>\n",
       "    <tr>\n",
       "      <th></th>\n",
       "      <td>...</td>\n",
       "      <td>...</td>\n",
       "      <td>...</td>\n",
       "      <td>...</td>\n",
       "      <td>...</td>\n",
       "      <td>...</td>\n",
       "      <td>...</td>\n",
       "      <td>...</td>\n",
       "      <td>...</td>\n",
       "      <td>...</td>\n",
       "      <td>...</td>\n",
       "    </tr>\n",
       "  </tbody>\n",
       "</table>\n",
       "</div>\n",
       "<div>Dask Name: drop-duplicates-agg, 218 tasks</div>"
      ],
      "text/plain": [
       "<dask_cudf.DataFrame | 218 tasks | 1 npartitions>"
      ]
     },
     "execution_count": 21,
     "metadata": {},
     "output_type": "execute_result"
    }
   ],
   "source": [
    "df"
   ]
  },
  {
   "cell_type": "code",
   "execution_count": null,
   "metadata": {},
   "outputs": [],
   "source": [
    "## Q12. How many partitions is your df deivided into now?\n",
    "## A. "
   ]
  },
  {
   "cell_type": "code",
   "execution_count": null,
   "metadata": {},
   "outputs": [],
   "source": [
    "## Q13. Change the datafarme(df) from previous number of partitons to to 4 partitions\n",
    "df = df.<________>"
   ]
  },
  {
   "cell_type": "markdown",
   "metadata": {},
   "source": [
    "---\n",
    "#### Reading the item_dim table from `/data/item_dim_mask.orc` stored in orc format"
   ]
  },
  {
   "cell_type": "code",
   "execution_count": null,
   "metadata": {},
   "outputs": [],
   "source": [
    "%%time\n",
    "## Q14.  load the orc file as 6 partitons into dask dat frame\n",
    "item = <____>('/data/item_dim_mask.orc').repartition(<_________>)\n"
   ]
  },
  {
   "cell_type": "code",
   "execution_count": null,
   "metadata": {},
   "outputs": [],
   "source": [
    "item.head(), item"
   ]
  },
  {
   "cell_type": "markdown",
   "metadata": {},
   "source": [
    "---\n",
    "### Performing inner join with item_dim"
   ]
  },
  {
   "cell_type": "code",
   "execution_count": null,
   "metadata": {},
   "outputs": [],
   "source": [
    "%%time\n",
    "df = df.rename(columns = {'scan_id':'mds_fam_id'})\n",
    "\n",
    "## Q15. merge df on item \n",
    "df = <_______>(item, on=['mds_fam_id'], how='inner')\n"
   ]
  },
  {
   "cell_type": "code",
   "execution_count": null,
   "metadata": {},
   "outputs": [],
   "source": [
    "df.head(), df"
   ]
  },
  {
   "cell_type": "code",
   "execution_count": null,
   "metadata": {},
   "outputs": [],
   "source": [
    "%%time\n",
    "df = df.rename(columns = {'visit_dt':'cal_dt'})\n",
    "## Q16. inner join df and cal on cal_dt \n",
    "df = df.<___________>"
   ]
  },
  {
   "cell_type": "code",
   "execution_count": null,
   "metadata": {},
   "outputs": [],
   "source": [
    "df.head()"
   ]
  },
  {
   "cell_type": "code",
   "execution_count": null,
   "metadata": {},
   "outputs": [],
   "source": [
    "df"
   ]
  },
  {
   "cell_type": "code",
   "execution_count": null,
   "metadata": {},
   "outputs": [],
   "source": [
    "## Q17. How many partitions does your result df have?\n",
    "## A. "
   ]
  },
  {
   "cell_type": "code",
   "execution_count": null,
   "metadata": {},
   "outputs": [],
   "source": [
    "## Q18. Persist the dataframe and make sure go and check your dask_graph in Bokeh link\n",
    "\n",
    "df = df.<________>"
   ]
  },
  {
   "cell_type": "markdown",
   "metadata": {},
   "source": [
    "### top 5 most sold items and their count"
   ]
  },
  {
   "cell_type": "code",
   "execution_count": null,
   "metadata": {},
   "outputs": [],
   "source": [
    "most_selling_item_series = df['mds_fam_id'].value_counts().head(5)\n",
    "most_selling_item_df = most_selling_item_series.to_frame(\"mds_fam_id_count\")\n",
    "most_selling_item_df"
   ]
  },
  {
   "cell_type": "markdown",
   "metadata": {},
   "source": [
    "---\n",
    "### get the other attributes corresponding to those items"
   ]
  },
  {
   "cell_type": "code",
   "execution_count": null,
   "metadata": {},
   "outputs": [],
   "source": [
    "out_df = df.merge(most_selling_item_df, left_on='mds_fam_id', right_index=True, how='inner')\n",
    "out_df.head()"
   ]
  },
  {
   "cell_type": "code",
   "execution_count": null,
   "metadata": {},
   "outputs": [],
   "source": [
    "## Q19-20. Clean Up, Close the Client\n",
    "\n",
    "cluster.<_____>\n",
    "client.<_____>"
   ]
  }
 ],
 "metadata": {
  "kernelspec": {
   "display_name": "Python 3",
   "language": "python",
   "name": "python3"
  },
  "language_info": {
   "codemirror_mode": {
    "name": "ipython",
    "version": 3
   },
   "file_extension": ".py",
   "mimetype": "text/x-python",
   "name": "python",
   "nbconvert_exporter": "python",
   "pygments_lexer": "ipython3",
   "version": "3.7.9"
  }
 },
 "nbformat": 4,
 "nbformat_minor": 4
}
