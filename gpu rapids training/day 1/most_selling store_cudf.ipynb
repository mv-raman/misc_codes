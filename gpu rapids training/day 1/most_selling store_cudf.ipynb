{
 "cells": [
  {
   "cell_type": "markdown",
   "metadata": {},
   "source": [
    "#### GPU device information"
   ]
  },
  {
   "cell_type": "code",
   "execution_count": 27,
   "metadata": {},
   "outputs": [
    {
     "name": "stdout",
     "output_type": "stream",
     "text": [
      "Fri Jan 22 17:47:00 2021       \n",
      "+-----------------------------------------------------------------------------+\n",
      "| NVIDIA-SMI 455.23.05    Driver Version: 455.23.05    CUDA Version: 11.1     |\n",
      "|-------------------------------+----------------------+----------------------+\n",
      "| GPU  Name        Persistence-M| Bus-Id        Disp.A | Volatile Uncorr. ECC |\n",
      "| Fan  Temp  Perf  Pwr:Usage/Cap|         Memory-Usage | GPU-Util  Compute M. |\n",
      "|                               |                      |               MIG M. |\n",
      "|===============================+======================+======================|\n",
      "|   0  Tesla V100-SXM2...  On   | 00000000:89:00.0 Off |                    0 |\n",
      "| N/A   32C    P0    55W / 300W |   7617MiB / 32510MiB |      0%      Default |\n",
      "|                               |                      |                  N/A |\n",
      "+-------------------------------+----------------------+----------------------+\n",
      "                                                                               \n",
      "+-----------------------------------------------------------------------------+\n",
      "| Processes:                                                                  |\n",
      "|  GPU   GI   CI        PID   Type   Process name                  GPU Memory |\n",
      "|        ID   ID                                                   Usage      |\n",
      "|=============================================================================|\n",
      "+-----------------------------------------------------------------------------+\n"
     ]
    }
   ],
   "source": [
    "!nvidia-smi"
   ]
  },
  {
   "cell_type": "markdown",
   "metadata": {},
   "source": [
    "---"
   ]
  },
  {
   "cell_type": "code",
   "execution_count": 7,
   "metadata": {},
   "outputs": [],
   "source": [
    "from cudf import read_csv, read_parquet, read_orc, DataFrame, concat\n",
    "import numpy as np"
   ]
  },
  {
   "cell_type": "code",
   "execution_count": 8,
   "metadata": {},
   "outputs": [],
   "source": [
    "# #to warmup the gpu\n",
    "df = DataFrame({'a':range(10)})"
   ]
  },
  {
   "cell_type": "markdown",
   "metadata": {},
   "source": [
    "---\n",
    "#### Reading the cal_dim table from `/data/calendar.csv` stored in csv format"
   ]
  },
  {
   "cell_type": "code",
   "execution_count": 9,
   "metadata": {},
   "outputs": [
    {
     "name": "stdout",
     "output_type": "stream",
     "text": [
      "CPU times: user 14.4 ms, sys: 10.5 ms, total: 25 ms\n",
      "Wall time: 22 ms\n"
     ]
    }
   ],
   "source": [
    "%%time\n",
    "cal = read_csv('/data/calendar.csv')\n",
    "cal['cal_dt'] = cal['cal_dt'].astype('datetime64[ms]')\n",
    "cal['ly_date'] = cal['ly_date'].astype('datetime64[ms]')\n",
    "cal['ly_comp_visit_dt'] = cal['ly_comp_visit_dt'].astype('datetime64[ms]')"
   ]
  },
  {
   "cell_type": "code",
   "execution_count": 10,
   "metadata": {},
   "outputs": [
    {
     "data": {
      "text/html": [
       "<div>\n",
       "<style scoped>\n",
       "    .dataframe tbody tr th:only-of-type {\n",
       "        vertical-align: middle;\n",
       "    }\n",
       "\n",
       "    .dataframe tbody tr th {\n",
       "        vertical-align: top;\n",
       "    }\n",
       "\n",
       "    .dataframe thead th {\n",
       "        text-align: right;\n",
       "    }\n",
       "</style>\n",
       "<table border=\"1\" class=\"dataframe\">\n",
       "  <thead>\n",
       "    <tr style=\"text-align: right;\">\n",
       "      <th></th>\n",
       "      <th>cal_dt</th>\n",
       "      <th>ly_date</th>\n",
       "      <th>ly_comp_visit_dt</th>\n",
       "      <th>wm_yr_wk_nbr</th>\n",
       "    </tr>\n",
       "  </thead>\n",
       "  <tbody>\n",
       "    <tr>\n",
       "      <th>0</th>\n",
       "      <td>2017-04-11</td>\n",
       "      <td>2016-04-11</td>\n",
       "      <td>2016-04-12</td>\n",
       "      <td>201711</td>\n",
       "    </tr>\n",
       "  </tbody>\n",
       "</table>\n",
       "</div>"
      ],
      "text/plain": [
       "      cal_dt    ly_date ly_comp_visit_dt  wm_yr_wk_nbr\n",
       "0 2017-04-11 2016-04-11       2016-04-12        201711"
      ]
     },
     "execution_count": 10,
     "metadata": {},
     "output_type": "execute_result"
    }
   ],
   "source": [
    "cal.head()"
   ]
  },
  {
   "cell_type": "code",
   "execution_count": 11,
   "metadata": {},
   "outputs": [
    {
     "data": {
      "text/html": [
       "<div>\n",
       "<style scoped>\n",
       "    .dataframe tbody tr th:only-of-type {\n",
       "        vertical-align: middle;\n",
       "    }\n",
       "\n",
       "    .dataframe tbody tr th {\n",
       "        vertical-align: top;\n",
       "    }\n",
       "\n",
       "    .dataframe thead th {\n",
       "        text-align: right;\n",
       "    }\n",
       "</style>\n",
       "<table border=\"1\" class=\"dataframe\">\n",
       "  <thead>\n",
       "    <tr style=\"text-align: right;\">\n",
       "      <th></th>\n",
       "      <th>cal_dt</th>\n",
       "      <th>cal_ind</th>\n",
       "      <th>join_date</th>\n",
       "    </tr>\n",
       "  </thead>\n",
       "  <tbody>\n",
       "    <tr>\n",
       "      <th>0</th>\n",
       "      <td>2017-04-11</td>\n",
       "      <td>C</td>\n",
       "      <td>2017-04-11</td>\n",
       "    </tr>\n",
       "    <tr>\n",
       "      <th>0</th>\n",
       "      <td>2017-04-11</td>\n",
       "      <td>L</td>\n",
       "      <td>2016-04-11</td>\n",
       "    </tr>\n",
       "    <tr>\n",
       "      <th>0</th>\n",
       "      <td>2017-04-11</td>\n",
       "      <td>R</td>\n",
       "      <td>2016-04-12</td>\n",
       "    </tr>\n",
       "  </tbody>\n",
       "</table>\n",
       "</div>"
      ],
      "text/plain": [
       "      cal_dt cal_ind  join_date\n",
       "0 2017-04-11       C 2017-04-11\n",
       "0 2017-04-11       L 2016-04-11\n",
       "0 2017-04-11       R 2016-04-12"
      ]
     },
     "execution_count": 11,
     "metadata": {},
     "output_type": "execute_result"
    }
   ],
   "source": [
    "join_dates = concat([\n",
    "        DataFrame({'cal_dt':cal['cal_dt'], 'cal_ind':col_ind , 'join_date':cal[col]}) \n",
    "        for (col_ind, col) in [('C', 'cal_dt'), ('L', 'ly_date'), ('R', 'ly_comp_visit_dt')]\n",
    "    ])\n",
    "join_dates.head()"
   ]
  },
  {
   "cell_type": "markdown",
   "metadata": {},
   "source": [
    "---\n",
    "#### Reading the store_visit_scan table from `/data/store_visit_scan_mask.parquet` stored in parquet format"
   ]
  },
  {
   "cell_type": "code",
   "execution_count": 12,
   "metadata": {},
   "outputs": [
    {
     "name": "stdout",
     "output_type": "stream",
     "text": [
      "CPU times: user 43.4 ms, sys: 87.4 ms, total: 131 ms\n",
      "Wall time: 128 ms\n"
     ]
    }
   ],
   "source": [
    "%%time\n",
    "svs = read_parquet('/data/store_visit_scan_mask.parquet')\n",
    "svs['load_ts'] = svs['load_ts'].astype('datetime64[ms]')\n",
    "svs['visit_dt'] = svs['visit_dt'].astype('datetime64[ms]')"
   ]
  },
  {
   "cell_type": "code",
   "execution_count": 13,
   "metadata": {},
   "outputs": [
    {
     "name": "stdout",
     "output_type": "stream",
     "text": [
      "shape :  (6599219, 8)\n"
     ]
    },
    {
     "data": {
      "text/html": [
       "<div>\n",
       "<style scoped>\n",
       "    .dataframe tbody tr th:only-of-type {\n",
       "        vertical-align: middle;\n",
       "    }\n",
       "\n",
       "    .dataframe tbody tr th {\n",
       "        vertical-align: top;\n",
       "    }\n",
       "\n",
       "    .dataframe thead th {\n",
       "        text-align: right;\n",
       "    }\n",
       "</style>\n",
       "<table border=\"1\" class=\"dataframe\">\n",
       "  <thead>\n",
       "    <tr style=\"text-align: right;\">\n",
       "      <th></th>\n",
       "      <th>visit_nbr</th>\n",
       "      <th>store_nbr</th>\n",
       "      <th>scan_seq_nbr</th>\n",
       "      <th>scan_id</th>\n",
       "      <th>scan_type</th>\n",
       "      <th>load_ts</th>\n",
       "      <th>visit_dt</th>\n",
       "      <th>op_cmpny_cd</th>\n",
       "    </tr>\n",
       "  </thead>\n",
       "  <tbody>\n",
       "    <tr>\n",
       "      <th>0</th>\n",
       "      <td>710103784</td>\n",
       "      <td>1099</td>\n",
       "      <td>8</td>\n",
       "      <td>877534402</td>\n",
       "      <td>0</td>\n",
       "      <td>2017-06-23 12:46:35</td>\n",
       "      <td>2017-04-11</td>\n",
       "      <td>WMT-US</td>\n",
       "    </tr>\n",
       "    <tr>\n",
       "      <th>1</th>\n",
       "      <td>710104362</td>\n",
       "      <td>1999</td>\n",
       "      <td>7</td>\n",
       "      <td>867174169</td>\n",
       "      <td>0</td>\n",
       "      <td>2017-06-23 12:46:35</td>\n",
       "      <td>2017-04-11</td>\n",
       "      <td>WMT-US</td>\n",
       "    </tr>\n",
       "    <tr>\n",
       "      <th>2</th>\n",
       "      <td>710101771</td>\n",
       "      <td>17377</td>\n",
       "      <td>6</td>\n",
       "      <td>738523462</td>\n",
       "      <td>0</td>\n",
       "      <td>2017-06-23 12:46:35</td>\n",
       "      <td>2017-04-11</td>\n",
       "      <td>WMT-US</td>\n",
       "    </tr>\n",
       "    <tr>\n",
       "      <th>3</th>\n",
       "      <td>710103327</td>\n",
       "      <td>9700</td>\n",
       "      <td>10</td>\n",
       "      <td>892230403</td>\n",
       "      <td>0</td>\n",
       "      <td>2017-06-23 12:46:35</td>\n",
       "      <td>2017-04-11</td>\n",
       "      <td>WMT-US</td>\n",
       "    </tr>\n",
       "    <tr>\n",
       "      <th>4</th>\n",
       "      <td>710101361</td>\n",
       "      <td>8737</td>\n",
       "      <td>4</td>\n",
       "      <td>851258830</td>\n",
       "      <td>0</td>\n",
       "      <td>2017-06-23 12:46:35</td>\n",
       "      <td>2017-04-11</td>\n",
       "      <td>WMT-US</td>\n",
       "    </tr>\n",
       "  </tbody>\n",
       "</table>\n",
       "</div>"
      ],
      "text/plain": [
       "   visit_nbr  store_nbr  scan_seq_nbr    scan_id  scan_type  \\\n",
       "0  710103784       1099             8  877534402          0   \n",
       "1  710104362       1999             7  867174169          0   \n",
       "2  710101771      17377             6  738523462          0   \n",
       "3  710103327       9700            10  892230403          0   \n",
       "4  710101361       8737             4  851258830          0   \n",
       "\n",
       "              load_ts   visit_dt op_cmpny_cd  \n",
       "0 2017-06-23 12:46:35 2017-04-11      WMT-US  \n",
       "1 2017-06-23 12:46:35 2017-04-11      WMT-US  \n",
       "2 2017-06-23 12:46:35 2017-04-11      WMT-US  \n",
       "3 2017-06-23 12:46:35 2017-04-11      WMT-US  \n",
       "4 2017-06-23 12:46:35 2017-04-11      WMT-US  "
      ]
     },
     "execution_count": 13,
     "metadata": {},
     "output_type": "execute_result"
    }
   ],
   "source": [
    "print(\"shape : \", svs.shape)\n",
    "svs.head()"
   ]
  },
  {
   "cell_type": "markdown",
   "metadata": {},
   "source": [
    "---\n",
    "#### Reading the store_visit table from `/data/store_visit_mask.parquet` stored in parquet format"
   ]
  },
  {
   "cell_type": "code",
   "execution_count": 14,
   "metadata": {},
   "outputs": [
    {
     "name": "stdout",
     "output_type": "stream",
     "text": [
      "CPU times: user 3.98 s, sys: 137 ms, total: 4.12 s\n",
      "Wall time: 4.12 s\n"
     ]
    }
   ],
   "source": [
    "%%time\n",
    "vst = read_parquet('/data/store_visit_mask.parquet')\n",
    "vst['visit_dt'] = vst['visit_dt'].astype('datetime64[ms]')\n",
    "vst['visit_hr'] = (vst.visit_tm / 100).astype('i2')\n",
    "vst['visit_min'] = (vst.visit_tm%100).astype('i2')\n",
    "vst = vst.drop(['visit_tm'], axis=1)"
   ]
  },
  {
   "cell_type": "code",
   "execution_count": 15,
   "metadata": {},
   "outputs": [
    {
     "name": "stdout",
     "output_type": "stream",
     "text": [
      "shape :  (7189981, 6)\n"
     ]
    },
    {
     "data": {
      "text/html": [
       "<div>\n",
       "<style scoped>\n",
       "    .dataframe tbody tr th:only-of-type {\n",
       "        vertical-align: middle;\n",
       "    }\n",
       "\n",
       "    .dataframe tbody tr th {\n",
       "        vertical-align: top;\n",
       "    }\n",
       "\n",
       "    .dataframe thead th {\n",
       "        text-align: right;\n",
       "    }\n",
       "</style>\n",
       "<table border=\"1\" class=\"dataframe\">\n",
       "  <thead>\n",
       "    <tr style=\"text-align: right;\">\n",
       "      <th></th>\n",
       "      <th>store_nbr</th>\n",
       "      <th>visit_nbr</th>\n",
       "      <th>visit_dt</th>\n",
       "      <th>op_cmpny_cd</th>\n",
       "      <th>visit_hr</th>\n",
       "      <th>visit_min</th>\n",
       "    </tr>\n",
       "  </thead>\n",
       "  <tbody>\n",
       "    <tr>\n",
       "      <th>0</th>\n",
       "      <td>11680</td>\n",
       "      <td>710100004</td>\n",
       "      <td>2017-04-11</td>\n",
       "      <td>WMT-US</td>\n",
       "      <td>0</td>\n",
       "      <td>1</td>\n",
       "    </tr>\n",
       "    <tr>\n",
       "      <th>1</th>\n",
       "      <td>16237</td>\n",
       "      <td>710100004</td>\n",
       "      <td>2017-04-11</td>\n",
       "      <td>WMT-US</td>\n",
       "      <td>0</td>\n",
       "      <td>1</td>\n",
       "    </tr>\n",
       "    <tr>\n",
       "      <th>2</th>\n",
       "      <td>17365</td>\n",
       "      <td>710100004</td>\n",
       "      <td>2017-04-11</td>\n",
       "      <td>WMT-US</td>\n",
       "      <td>0</td>\n",
       "      <td>2</td>\n",
       "    </tr>\n",
       "    <tr>\n",
       "      <th>3</th>\n",
       "      <td>5071</td>\n",
       "      <td>710100005</td>\n",
       "      <td>2017-04-11</td>\n",
       "      <td>WMT-US</td>\n",
       "      <td>0</td>\n",
       "      <td>3</td>\n",
       "    </tr>\n",
       "    <tr>\n",
       "      <th>4</th>\n",
       "      <td>5443</td>\n",
       "      <td>710100005</td>\n",
       "      <td>2017-04-11</td>\n",
       "      <td>WMT-US</td>\n",
       "      <td>0</td>\n",
       "      <td>3</td>\n",
       "    </tr>\n",
       "  </tbody>\n",
       "</table>\n",
       "</div>"
      ],
      "text/plain": [
       "   store_nbr  visit_nbr   visit_dt op_cmpny_cd  visit_hr  visit_min\n",
       "0      11680  710100004 2017-04-11      WMT-US         0          1\n",
       "1      16237  710100004 2017-04-11      WMT-US         0          1\n",
       "2      17365  710100004 2017-04-11      WMT-US         0          2\n",
       "3       5071  710100005 2017-04-11      WMT-US         0          3\n",
       "4       5443  710100005 2017-04-11      WMT-US         0          3"
      ]
     },
     "execution_count": 15,
     "metadata": {},
     "output_type": "execute_result"
    }
   ],
   "source": [
    "print(\"shape : \", vst.shape)\n",
    "vst.head()"
   ]
  },
  {
   "cell_type": "markdown",
   "metadata": {},
   "source": [
    "---\n",
    "### Performing inner join between store_visit_scan and store_visit"
   ]
  },
  {
   "cell_type": "code",
   "execution_count": 16,
   "metadata": {},
   "outputs": [
    {
     "name": "stdout",
     "output_type": "stream",
     "text": [
      "CPU times: user 28.1 ms, sys: 105 ms, total: 133 ms\n",
      "Wall time: 130 ms\n"
     ]
    }
   ],
   "source": [
    "%%time\n",
    "# merging the scan and visite tables\n",
    "df = svs.merge(vst, on=['visit_dt', 'store_nbr', 'visit_nbr'], how='inner')\n",
    "df = df.drop_duplicates()"
   ]
  },
  {
   "cell_type": "code",
   "execution_count": 17,
   "metadata": {},
   "outputs": [
    {
     "name": "stdout",
     "output_type": "stream",
     "text": [
      "shape :  (2338031, 11)\n"
     ]
    },
    {
     "data": {
      "text/html": [
       "<div>\n",
       "<style scoped>\n",
       "    .dataframe tbody tr th:only-of-type {\n",
       "        vertical-align: middle;\n",
       "    }\n",
       "\n",
       "    .dataframe tbody tr th {\n",
       "        vertical-align: top;\n",
       "    }\n",
       "\n",
       "    .dataframe thead th {\n",
       "        text-align: right;\n",
       "    }\n",
       "</style>\n",
       "<table border=\"1\" class=\"dataframe\">\n",
       "  <thead>\n",
       "    <tr style=\"text-align: right;\">\n",
       "      <th></th>\n",
       "      <th>visit_nbr</th>\n",
       "      <th>store_nbr</th>\n",
       "      <th>scan_seq_nbr</th>\n",
       "      <th>scan_id</th>\n",
       "      <th>scan_type</th>\n",
       "      <th>load_ts</th>\n",
       "      <th>visit_dt</th>\n",
       "      <th>op_cmpny_cd_x</th>\n",
       "      <th>op_cmpny_cd_y</th>\n",
       "      <th>visit_hr</th>\n",
       "      <th>visit_min</th>\n",
       "    </tr>\n",
       "  </thead>\n",
       "  <tbody>\n",
       "    <tr>\n",
       "      <th>1372954</th>\n",
       "      <td>710100013</td>\n",
       "      <td>31</td>\n",
       "      <td>1</td>\n",
       "      <td>926596021</td>\n",
       "      <td>0</td>\n",
       "      <td>2017-06-23 12:10:28</td>\n",
       "      <td>2017-04-11</td>\n",
       "      <td>WMT-US</td>\n",
       "      <td>WMT-US</td>\n",
       "      <td>0</td>\n",
       "      <td>11</td>\n",
       "    </tr>\n",
       "    <tr>\n",
       "      <th>1372953</th>\n",
       "      <td>710100013</td>\n",
       "      <td>31</td>\n",
       "      <td>2</td>\n",
       "      <td>885408808</td>\n",
       "      <td>0</td>\n",
       "      <td>2017-06-23 12:10:27</td>\n",
       "      <td>2017-04-11</td>\n",
       "      <td>WMT-US</td>\n",
       "      <td>WMT-US</td>\n",
       "      <td>0</td>\n",
       "      <td>11</td>\n",
       "    </tr>\n",
       "    <tr>\n",
       "      <th>1372952</th>\n",
       "      <td>710100013</td>\n",
       "      <td>31</td>\n",
       "      <td>3</td>\n",
       "      <td>247820944</td>\n",
       "      <td>0</td>\n",
       "      <td>2017-06-23 12:10:27</td>\n",
       "      <td>2017-04-11</td>\n",
       "      <td>WMT-US</td>\n",
       "      <td>WMT-US</td>\n",
       "      <td>0</td>\n",
       "      <td>11</td>\n",
       "    </tr>\n",
       "    <tr>\n",
       "      <th>620456</th>\n",
       "      <td>710100013</td>\n",
       "      <td>106</td>\n",
       "      <td>1</td>\n",
       "      <td>399520165</td>\n",
       "      <td>0</td>\n",
       "      <td>2017-06-23 12:09:44</td>\n",
       "      <td>2017-04-11</td>\n",
       "      <td>WMT-US</td>\n",
       "      <td>WMT-US</td>\n",
       "      <td>0</td>\n",
       "      <td>21</td>\n",
       "    </tr>\n",
       "    <tr>\n",
       "      <th>1000526</th>\n",
       "      <td>710100013</td>\n",
       "      <td>115</td>\n",
       "      <td>1</td>\n",
       "      <td>846065128</td>\n",
       "      <td>0</td>\n",
       "      <td>2017-06-23 12:10:10</td>\n",
       "      <td>2017-04-11</td>\n",
       "      <td>WMT-US</td>\n",
       "      <td>WMT-US</td>\n",
       "      <td>0</td>\n",
       "      <td>8</td>\n",
       "    </tr>\n",
       "  </tbody>\n",
       "</table>\n",
       "</div>"
      ],
      "text/plain": [
       "         visit_nbr  store_nbr  scan_seq_nbr    scan_id  scan_type  \\\n",
       "1372954  710100013         31             1  926596021          0   \n",
       "1372953  710100013         31             2  885408808          0   \n",
       "1372952  710100013         31             3  247820944          0   \n",
       "620456   710100013        106             1  399520165          0   \n",
       "1000526  710100013        115             1  846065128          0   \n",
       "\n",
       "                    load_ts   visit_dt op_cmpny_cd_x op_cmpny_cd_y  visit_hr  \\\n",
       "1372954 2017-06-23 12:10:28 2017-04-11        WMT-US        WMT-US         0   \n",
       "1372953 2017-06-23 12:10:27 2017-04-11        WMT-US        WMT-US         0   \n",
       "1372952 2017-06-23 12:10:27 2017-04-11        WMT-US        WMT-US         0   \n",
       "620456  2017-06-23 12:09:44 2017-04-11        WMT-US        WMT-US         0   \n",
       "1000526 2017-06-23 12:10:10 2017-04-11        WMT-US        WMT-US         0   \n",
       "\n",
       "         visit_min  \n",
       "1372954         11  \n",
       "1372953         11  \n",
       "1372952         11  \n",
       "620456          21  \n",
       "1000526          8  "
      ]
     },
     "execution_count": 17,
     "metadata": {},
     "output_type": "execute_result"
    }
   ],
   "source": [
    "print(\"shape : \", df.shape)\n",
    "df.head()"
   ]
  },
  {
   "cell_type": "markdown",
   "metadata": {},
   "source": [
    "---\n",
    "#### Reading the item_dim table from `/data/item_dim_mask.orc` stored in orc format"
   ]
  },
  {
   "cell_type": "code",
   "execution_count": 18,
   "metadata": {},
   "outputs": [
    {
     "name": "stdout",
     "output_type": "stream",
     "text": [
      "CPU times: user 203 ms, sys: 233 ms, total: 436 ms\n",
      "Wall time: 435 ms\n"
     ]
    }
   ],
   "source": [
    "%%time\n",
    "item = read_orc('/data/item_dim_mask.orc')"
   ]
  },
  {
   "cell_type": "code",
   "execution_count": 19,
   "metadata": {},
   "outputs": [
    {
     "name": "stdout",
     "output_type": "stream",
     "text": [
      "shape :  (34110184, 4)\n"
     ]
    },
    {
     "data": {
      "text/html": [
       "<div>\n",
       "<style scoped>\n",
       "    .dataframe tbody tr th:only-of-type {\n",
       "        vertical-align: middle;\n",
       "    }\n",
       "\n",
       "    .dataframe tbody tr th {\n",
       "        vertical-align: top;\n",
       "    }\n",
       "\n",
       "    .dataframe thead th {\n",
       "        text-align: right;\n",
       "    }\n",
       "</style>\n",
       "<table border=\"1\" class=\"dataframe\">\n",
       "  <thead>\n",
       "    <tr style=\"text-align: right;\">\n",
       "      <th></th>\n",
       "      <th>mds_fam_id</th>\n",
       "      <th>item_nbr</th>\n",
       "      <th>upc_nbr</th>\n",
       "      <th>dept_nbr</th>\n",
       "    </tr>\n",
       "  </thead>\n",
       "  <tbody>\n",
       "    <tr>\n",
       "      <th>0</th>\n",
       "      <td>-905</td>\n",
       "      <td>-6989</td>\n",
       "      <td>-1994.0</td>\n",
       "      <td>8</td>\n",
       "    </tr>\n",
       "    <tr>\n",
       "      <th>1</th>\n",
       "      <td>-1787</td>\n",
       "      <td>-6989</td>\n",
       "      <td>-1994.0</td>\n",
       "      <td>400</td>\n",
       "    </tr>\n",
       "    <tr>\n",
       "      <th>2</th>\n",
       "      <td>-1778</td>\n",
       "      <td>-6989</td>\n",
       "      <td>-1994.0</td>\n",
       "      <td>396</td>\n",
       "    </tr>\n",
       "    <tr>\n",
       "      <th>3</th>\n",
       "      <td>-1769</td>\n",
       "      <td>-6989</td>\n",
       "      <td>-1994.0</td>\n",
       "      <td>392</td>\n",
       "    </tr>\n",
       "    <tr>\n",
       "      <th>4</th>\n",
       "      <td>-1760</td>\n",
       "      <td>-6989</td>\n",
       "      <td>-1994.0</td>\n",
       "      <td>388</td>\n",
       "    </tr>\n",
       "  </tbody>\n",
       "</table>\n",
       "</div>"
      ],
      "text/plain": [
       "   mds_fam_id  item_nbr  upc_nbr  dept_nbr\n",
       "0        -905     -6989  -1994.0         8\n",
       "1       -1787     -6989  -1994.0       400\n",
       "2       -1778     -6989  -1994.0       396\n",
       "3       -1769     -6989  -1994.0       392\n",
       "4       -1760     -6989  -1994.0       388"
      ]
     },
     "execution_count": 19,
     "metadata": {},
     "output_type": "execute_result"
    }
   ],
   "source": [
    "print(\"shape : \", item.shape)\n",
    "item.head()"
   ]
  },
  {
   "cell_type": "markdown",
   "metadata": {},
   "source": [
    "---\n",
    "### Performing inner join with item_dim"
   ]
  },
  {
   "cell_type": "code",
   "execution_count": 20,
   "metadata": {},
   "outputs": [
    {
     "name": "stdout",
     "output_type": "stream",
     "text": [
      "CPU times: user 379 ms, sys: 1.63 s, total: 2.01 s\n",
      "Wall time: 2.02 s\n"
     ]
    }
   ],
   "source": [
    "%%time\n",
    "df = df.rename(columns = {'scan_id':'mds_fam_id'})\n",
    "df = df.merge(item, on=['mds_fam_id'], how='inner')"
   ]
  },
  {
   "cell_type": "code",
   "execution_count": 21,
   "metadata": {},
   "outputs": [
    {
     "name": "stdout",
     "output_type": "stream",
     "text": [
      "shape :  (2319138, 14)\n"
     ]
    },
    {
     "data": {
      "text/html": [
       "<div>\n",
       "<style scoped>\n",
       "    .dataframe tbody tr th:only-of-type {\n",
       "        vertical-align: middle;\n",
       "    }\n",
       "\n",
       "    .dataframe tbody tr th {\n",
       "        vertical-align: top;\n",
       "    }\n",
       "\n",
       "    .dataframe thead th {\n",
       "        text-align: right;\n",
       "    }\n",
       "</style>\n",
       "<table border=\"1\" class=\"dataframe\">\n",
       "  <thead>\n",
       "    <tr style=\"text-align: right;\">\n",
       "      <th></th>\n",
       "      <th>visit_nbr</th>\n",
       "      <th>store_nbr</th>\n",
       "      <th>scan_seq_nbr</th>\n",
       "      <th>mds_fam_id</th>\n",
       "      <th>scan_type</th>\n",
       "      <th>load_ts</th>\n",
       "      <th>visit_dt</th>\n",
       "      <th>op_cmpny_cd_x</th>\n",
       "      <th>op_cmpny_cd_y</th>\n",
       "      <th>visit_hr</th>\n",
       "      <th>visit_min</th>\n",
       "      <th>item_nbr</th>\n",
       "      <th>upc_nbr</th>\n",
       "      <th>dept_nbr</th>\n",
       "    </tr>\n",
       "  </thead>\n",
       "  <tbody>\n",
       "    <tr>\n",
       "      <th>0</th>\n",
       "      <td>710101582</td>\n",
       "      <td>16159</td>\n",
       "      <td>1</td>\n",
       "      <td>22138933</td>\n",
       "      <td>3</td>\n",
       "      <td>2017-06-23 12:13:08</td>\n",
       "      <td>2017-04-11</td>\n",
       "      <td>WMT-US</td>\n",
       "      <td>WMT-US</td>\n",
       "      <td>13</td>\n",
       "      <td>36</td>\n",
       "      <td>1810579880</td>\n",
       "      <td>4.000000e+00</td>\n",
       "      <td>104</td>\n",
       "    </tr>\n",
       "    <tr>\n",
       "      <th>1</th>\n",
       "      <td>710103603</td>\n",
       "      <td>238</td>\n",
       "      <td>16</td>\n",
       "      <td>30839692</td>\n",
       "      <td>3</td>\n",
       "      <td>2017-06-23 12:18:45</td>\n",
       "      <td>2017-04-11</td>\n",
       "      <td>WMT-US</td>\n",
       "      <td>WMT-US</td>\n",
       "      <td>19</td>\n",
       "      <td>10</td>\n",
       "      <td>19138949</td>\n",
       "      <td>8.809889e+09</td>\n",
       "      <td>112</td>\n",
       "    </tr>\n",
       "    <tr>\n",
       "      <th>2</th>\n",
       "      <td>710100470</td>\n",
       "      <td>154</td>\n",
       "      <td>3</td>\n",
       "      <td>30492499</td>\n",
       "      <td>3</td>\n",
       "      <td>2017-06-23 12:32:01</td>\n",
       "      <td>2017-04-11</td>\n",
       "      <td>WMT-US</td>\n",
       "      <td>WMT-US</td>\n",
       "      <td>10</td>\n",
       "      <td>38</td>\n",
       "      <td>4309323</td>\n",
       "      <td>7.200820e+09</td>\n",
       "      <td>28</td>\n",
       "    </tr>\n",
       "    <tr>\n",
       "      <th>3</th>\n",
       "      <td>710100470</td>\n",
       "      <td>6694</td>\n",
       "      <td>5</td>\n",
       "      <td>31950688</td>\n",
       "      <td>3</td>\n",
       "      <td>2017-06-23 12:31:56</td>\n",
       "      <td>2017-04-11</td>\n",
       "      <td>WMT-US</td>\n",
       "      <td>WMT-US</td>\n",
       "      <td>9</td>\n",
       "      <td>25</td>\n",
       "      <td>14200407</td>\n",
       "      <td>8.661226e+09</td>\n",
       "      <td>84</td>\n",
       "    </tr>\n",
       "    <tr>\n",
       "      <th>4</th>\n",
       "      <td>710101285</td>\n",
       "      <td>2227</td>\n",
       "      <td>2</td>\n",
       "      <td>47745895</td>\n",
       "      <td>3</td>\n",
       "      <td>2017-06-23 13:03:41</td>\n",
       "      <td>2017-04-11</td>\n",
       "      <td>WMT-US</td>\n",
       "      <td>WMT-US</td>\n",
       "      <td>11</td>\n",
       "      <td>41</td>\n",
       "      <td>2184790409</td>\n",
       "      <td>4.000000e+00</td>\n",
       "      <td>128</td>\n",
       "    </tr>\n",
       "  </tbody>\n",
       "</table>\n",
       "</div>"
      ],
      "text/plain": [
       "   visit_nbr  store_nbr  scan_seq_nbr  mds_fam_id  scan_type  \\\n",
       "0  710101582      16159             1    22138933          3   \n",
       "1  710103603        238            16    30839692          3   \n",
       "2  710100470        154             3    30492499          3   \n",
       "3  710100470       6694             5    31950688          3   \n",
       "4  710101285       2227             2    47745895          3   \n",
       "\n",
       "              load_ts   visit_dt op_cmpny_cd_x op_cmpny_cd_y  visit_hr  \\\n",
       "0 2017-06-23 12:13:08 2017-04-11        WMT-US        WMT-US        13   \n",
       "1 2017-06-23 12:18:45 2017-04-11        WMT-US        WMT-US        19   \n",
       "2 2017-06-23 12:32:01 2017-04-11        WMT-US        WMT-US        10   \n",
       "3 2017-06-23 12:31:56 2017-04-11        WMT-US        WMT-US         9   \n",
       "4 2017-06-23 13:03:41 2017-04-11        WMT-US        WMT-US        11   \n",
       "\n",
       "   visit_min    item_nbr       upc_nbr  dept_nbr  \n",
       "0         36  1810579880  4.000000e+00       104  \n",
       "1         10    19138949  8.809889e+09       112  \n",
       "2         38     4309323  7.200820e+09        28  \n",
       "3         25    14200407  8.661226e+09        84  \n",
       "4         41  2184790409  4.000000e+00       128  "
      ]
     },
     "execution_count": 21,
     "metadata": {},
     "output_type": "execute_result"
    }
   ],
   "source": [
    "print(\"shape : \", df.shape)\n",
    "df.head()"
   ]
  },
  {
   "cell_type": "code",
   "execution_count": 22,
   "metadata": {},
   "outputs": [
    {
     "name": "stdout",
     "output_type": "stream",
     "text": [
      "CPU times: user 19.7 ms, sys: 25.8 ms, total: 45.5 ms\n",
      "Wall time: 42.6 ms\n"
     ]
    }
   ],
   "source": [
    "%%time\n",
    "df = df.rename(columns = {'visit_dt':'cal_dt'})\n",
    "df = df.merge(join_dates, on=['cal_dt'], how='inner')"
   ]
  },
  {
   "cell_type": "code",
   "execution_count": 23,
   "metadata": {},
   "outputs": [
    {
     "data": {
      "text/html": [
       "<div>\n",
       "<style scoped>\n",
       "    .dataframe tbody tr th:only-of-type {\n",
       "        vertical-align: middle;\n",
       "    }\n",
       "\n",
       "    .dataframe tbody tr th {\n",
       "        vertical-align: top;\n",
       "    }\n",
       "\n",
       "    .dataframe thead th {\n",
       "        text-align: right;\n",
       "    }\n",
       "</style>\n",
       "<table border=\"1\" class=\"dataframe\">\n",
       "  <thead>\n",
       "    <tr style=\"text-align: right;\">\n",
       "      <th></th>\n",
       "      <th>visit_nbr</th>\n",
       "      <th>store_nbr</th>\n",
       "      <th>scan_seq_nbr</th>\n",
       "      <th>mds_fam_id</th>\n",
       "      <th>scan_type</th>\n",
       "      <th>load_ts</th>\n",
       "      <th>cal_dt</th>\n",
       "      <th>op_cmpny_cd_x</th>\n",
       "      <th>op_cmpny_cd_y</th>\n",
       "      <th>visit_hr</th>\n",
       "      <th>visit_min</th>\n",
       "      <th>item_nbr</th>\n",
       "      <th>upc_nbr</th>\n",
       "      <th>dept_nbr</th>\n",
       "      <th>cal_ind</th>\n",
       "      <th>join_date</th>\n",
       "    </tr>\n",
       "  </thead>\n",
       "  <tbody>\n",
       "    <tr>\n",
       "      <th>0</th>\n",
       "      <td>710101189</td>\n",
       "      <td>16495</td>\n",
       "      <td>52</td>\n",
       "      <td>942517732</td>\n",
       "      <td>0</td>\n",
       "      <td>2017-06-23 12:11:04</td>\n",
       "      <td>2017-04-11</td>\n",
       "      <td>WMT-US</td>\n",
       "      <td>WMT-US</td>\n",
       "      <td>12</td>\n",
       "      <td>10</td>\n",
       "      <td>3893860863</td>\n",
       "      <td>4.499845e+09</td>\n",
       "      <td>32</td>\n",
       "      <td>C</td>\n",
       "      <td>2017-04-11</td>\n",
       "    </tr>\n",
       "    <tr>\n",
       "      <th>1</th>\n",
       "      <td>710101189</td>\n",
       "      <td>16495</td>\n",
       "      <td>53</td>\n",
       "      <td>942517732</td>\n",
       "      <td>0</td>\n",
       "      <td>2017-06-23 12:11:04</td>\n",
       "      <td>2017-04-11</td>\n",
       "      <td>WMT-US</td>\n",
       "      <td>WMT-US</td>\n",
       "      <td>12</td>\n",
       "      <td>10</td>\n",
       "      <td>3893860863</td>\n",
       "      <td>4.499845e+09</td>\n",
       "      <td>32</td>\n",
       "      <td>C</td>\n",
       "      <td>2017-04-11</td>\n",
       "    </tr>\n",
       "    <tr>\n",
       "      <th>2</th>\n",
       "      <td>710101189</td>\n",
       "      <td>16495</td>\n",
       "      <td>54</td>\n",
       "      <td>942517732</td>\n",
       "      <td>0</td>\n",
       "      <td>2017-06-23 12:11:05</td>\n",
       "      <td>2017-04-11</td>\n",
       "      <td>WMT-US</td>\n",
       "      <td>WMT-US</td>\n",
       "      <td>12</td>\n",
       "      <td>10</td>\n",
       "      <td>3893860863</td>\n",
       "      <td>4.499845e+09</td>\n",
       "      <td>32</td>\n",
       "      <td>C</td>\n",
       "      <td>2017-04-11</td>\n",
       "    </tr>\n",
       "    <tr>\n",
       "      <th>3</th>\n",
       "      <td>710101252</td>\n",
       "      <td>1093</td>\n",
       "      <td>5</td>\n",
       "      <td>942517732</td>\n",
       "      <td>0</td>\n",
       "      <td>2017-06-23 12:49:06</td>\n",
       "      <td>2017-04-11</td>\n",
       "      <td>WMT-US</td>\n",
       "      <td>WMT-US</td>\n",
       "      <td>12</td>\n",
       "      <td>4</td>\n",
       "      <td>3893860863</td>\n",
       "      <td>4.499845e+09</td>\n",
       "      <td>32</td>\n",
       "      <td>C</td>\n",
       "      <td>2017-04-11</td>\n",
       "    </tr>\n",
       "    <tr>\n",
       "      <th>4</th>\n",
       "      <td>710101252</td>\n",
       "      <td>1093</td>\n",
       "      <td>6</td>\n",
       "      <td>942517732</td>\n",
       "      <td>0</td>\n",
       "      <td>2017-06-23 12:49:07</td>\n",
       "      <td>2017-04-11</td>\n",
       "      <td>WMT-US</td>\n",
       "      <td>WMT-US</td>\n",
       "      <td>12</td>\n",
       "      <td>4</td>\n",
       "      <td>3893860863</td>\n",
       "      <td>4.499845e+09</td>\n",
       "      <td>32</td>\n",
       "      <td>C</td>\n",
       "      <td>2017-04-11</td>\n",
       "    </tr>\n",
       "  </tbody>\n",
       "</table>\n",
       "</div>"
      ],
      "text/plain": [
       "   visit_nbr  store_nbr  scan_seq_nbr  mds_fam_id  scan_type  \\\n",
       "0  710101189      16495            52   942517732          0   \n",
       "1  710101189      16495            53   942517732          0   \n",
       "2  710101189      16495            54   942517732          0   \n",
       "3  710101252       1093             5   942517732          0   \n",
       "4  710101252       1093             6   942517732          0   \n",
       "\n",
       "              load_ts     cal_dt op_cmpny_cd_x op_cmpny_cd_y  visit_hr  \\\n",
       "0 2017-06-23 12:11:04 2017-04-11        WMT-US        WMT-US        12   \n",
       "1 2017-06-23 12:11:04 2017-04-11        WMT-US        WMT-US        12   \n",
       "2 2017-06-23 12:11:05 2017-04-11        WMT-US        WMT-US        12   \n",
       "3 2017-06-23 12:49:06 2017-04-11        WMT-US        WMT-US        12   \n",
       "4 2017-06-23 12:49:07 2017-04-11        WMT-US        WMT-US        12   \n",
       "\n",
       "   visit_min    item_nbr       upc_nbr  dept_nbr cal_ind  join_date  \n",
       "0         10  3893860863  4.499845e+09        32       C 2017-04-11  \n",
       "1         10  3893860863  4.499845e+09        32       C 2017-04-11  \n",
       "2         10  3893860863  4.499845e+09        32       C 2017-04-11  \n",
       "3          4  3893860863  4.499845e+09        32       C 2017-04-11  \n",
       "4          4  3893860863  4.499845e+09        32       C 2017-04-11  "
      ]
     },
     "execution_count": 23,
     "metadata": {},
     "output_type": "execute_result"
    }
   ],
   "source": [
    "df.head()"
   ]
  },
  {
   "cell_type": "markdown",
   "metadata": {},
   "source": [
    "### Perfroming groupby on store number to get the item counts"
   ]
  },
  {
   "cell_type": "code",
   "execution_count": 24,
   "metadata": {},
   "outputs": [
    {
     "name": "stdout",
     "output_type": "stream",
     "text": [
      "CPU times: user 14 ms, sys: 8.03 ms, total: 22.1 ms\n",
      "Wall time: 19.4 ms\n"
     ]
    }
   ],
   "source": [
    "%%time\n",
    "df_grpd = df.groupby('store_nbr').agg({'mds_fam_id':'count'})"
   ]
  },
  {
   "cell_type": "code",
   "execution_count": 25,
   "metadata": {},
   "outputs": [
    {
     "data": {
      "text/html": [
       "<div>\n",
       "<style scoped>\n",
       "    .dataframe tbody tr th:only-of-type {\n",
       "        vertical-align: middle;\n",
       "    }\n",
       "\n",
       "    .dataframe tbody tr th {\n",
       "        vertical-align: top;\n",
       "    }\n",
       "\n",
       "    .dataframe thead th {\n",
       "        text-align: right;\n",
       "    }\n",
       "</style>\n",
       "<table border=\"1\" class=\"dataframe\">\n",
       "  <thead>\n",
       "    <tr style=\"text-align: right;\">\n",
       "      <th></th>\n",
       "      <th>mds_fam_id_count</th>\n",
       "    </tr>\n",
       "    <tr>\n",
       "      <th>store_nbr</th>\n",
       "      <th></th>\n",
       "    </tr>\n",
       "  </thead>\n",
       "  <tbody>\n",
       "    <tr>\n",
       "      <th>7</th>\n",
       "      <td>2307</td>\n",
       "    </tr>\n",
       "    <tr>\n",
       "      <th>10</th>\n",
       "      <td>2826</td>\n",
       "    </tr>\n",
       "    <tr>\n",
       "      <th>13</th>\n",
       "      <td>2100</td>\n",
       "    </tr>\n",
       "    <tr>\n",
       "      <th>16</th>\n",
       "      <td>2193</td>\n",
       "    </tr>\n",
       "    <tr>\n",
       "      <th>19</th>\n",
       "      <td>1587</td>\n",
       "    </tr>\n",
       "    <tr>\n",
       "      <th>...</th>\n",
       "      <td>...</td>\n",
       "    </tr>\n",
       "    <tr>\n",
       "      <th>22051</th>\n",
       "      <td>606</td>\n",
       "    </tr>\n",
       "    <tr>\n",
       "      <th>22075</th>\n",
       "      <td>540</td>\n",
       "    </tr>\n",
       "    <tr>\n",
       "      <th>22087</th>\n",
       "      <td>450</td>\n",
       "    </tr>\n",
       "    <tr>\n",
       "      <th>22090</th>\n",
       "      <td>477</td>\n",
       "    </tr>\n",
       "    <tr>\n",
       "      <th>26794</th>\n",
       "      <td>1410</td>\n",
       "    </tr>\n",
       "  </tbody>\n",
       "</table>\n",
       "<p>4673 rows × 1 columns</p>\n",
       "</div>"
      ],
      "text/plain": [
       "           mds_fam_id_count\n",
       "store_nbr                  \n",
       "7                      2307\n",
       "10                     2826\n",
       "13                     2100\n",
       "16                     2193\n",
       "19                     1587\n",
       "...                     ...\n",
       "22051                   606\n",
       "22075                   540\n",
       "22087                   450\n",
       "22090                   477\n",
       "26794                  1410\n",
       "\n",
       "[4673 rows x 1 columns]"
      ]
     },
     "execution_count": 25,
     "metadata": {},
     "output_type": "execute_result"
    }
   ],
   "source": [
    "df_grpd = df_grpd.rename(columns = {'mds_fam_id':'mds_fam_id_count'})\n",
    "df_grpd"
   ]
  },
  {
   "cell_type": "markdown",
   "metadata": {},
   "source": [
    "---\n",
    "### Top 5 store with maximum item sold on given day"
   ]
  },
  {
   "cell_type": "code",
   "execution_count": 26,
   "metadata": {},
   "outputs": [
    {
     "data": {
      "text/html": [
       "<div>\n",
       "<style scoped>\n",
       "    .dataframe tbody tr th:only-of-type {\n",
       "        vertical-align: middle;\n",
       "    }\n",
       "\n",
       "    .dataframe tbody tr th {\n",
       "        vertical-align: top;\n",
       "    }\n",
       "\n",
       "    .dataframe thead th {\n",
       "        text-align: right;\n",
       "    }\n",
       "</style>\n",
       "<table border=\"1\" class=\"dataframe\">\n",
       "  <thead>\n",
       "    <tr style=\"text-align: right;\">\n",
       "      <th></th>\n",
       "      <th>mds_fam_id_count</th>\n",
       "    </tr>\n",
       "    <tr>\n",
       "      <th>store_nbr</th>\n",
       "      <th></th>\n",
       "    </tr>\n",
       "  </thead>\n",
       "  <tbody>\n",
       "    <tr>\n",
       "      <th>15883</th>\n",
       "      <td>5466</td>\n",
       "    </tr>\n",
       "    <tr>\n",
       "      <th>5221</th>\n",
       "      <td>5100</td>\n",
       "    </tr>\n",
       "    <tr>\n",
       "      <th>6277</th>\n",
       "      <td>5061</td>\n",
       "    </tr>\n",
       "    <tr>\n",
       "      <th>11389</th>\n",
       "      <td>4929</td>\n",
       "    </tr>\n",
       "    <tr>\n",
       "      <th>15901</th>\n",
       "      <td>4479</td>\n",
       "    </tr>\n",
       "  </tbody>\n",
       "</table>\n",
       "</div>"
      ],
      "text/plain": [
       "           mds_fam_id_count\n",
       "store_nbr                  \n",
       "15883                  5466\n",
       "5221                   5100\n",
       "6277                   5061\n",
       "11389                  4929\n",
       "15901                  4479"
      ]
     },
     "execution_count": 26,
     "metadata": {},
     "output_type": "execute_result"
    }
   ],
   "source": [
    "df_grpd.mds_fam_id_count.nlargest(5).to_frame()"
   ]
  },
  {
   "cell_type": "markdown",
   "metadata": {},
   "source": [
    "---\n",
    "#### Total execution time:  \n",
    " = 17.5ms + 76ms + 102ms + 91.8ms + 399ms + 3.58s + 23.4ms + 13.5ms  \n",
    " ~ 5s approx."
   ]
  },
  {
   "cell_type": "code",
   "execution_count": null,
   "metadata": {},
   "outputs": [],
   "source": []
  }
 ],
 "metadata": {
  "kernelspec": {
   "display_name": "Python 3",
   "language": "python",
   "name": "python3"
  },
  "language_info": {
   "codemirror_mode": {
    "name": "ipython",
    "version": 3
   },
   "file_extension": ".py",
   "mimetype": "text/x-python",
   "name": "python",
   "nbconvert_exporter": "python",
   "pygments_lexer": "ipython3",
   "version": "3.7.9"
  }
 },
 "nbformat": 4,
 "nbformat_minor": 4
}
