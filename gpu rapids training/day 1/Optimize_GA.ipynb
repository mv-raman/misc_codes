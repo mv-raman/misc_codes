{
 "cells": [
  {
   "cell_type": "code",
   "execution_count": 1,
   "metadata": {},
   "outputs": [],
   "source": [
    "import math\n",
    "import pandas as pd\n",
    "import platypus as ptp"
   ]
  },
  {
   "cell_type": "code",
   "execution_count": 2,
   "metadata": {},
   "outputs": [],
   "source": [
    "def functionCalc(optVar):\n",
    "\n",
    "    x = optVar[0]\n",
    "    y = optVar[1]\n",
    "\n",
    "    num = ((math.sin(x ** 2 - y ** 2)) ** 2 - 0.5)\n",
    "    denom = (1 + 0.001 * (x ** 2 + y ** 2)) ** 2\n",
    "    func = 0.5 + num / denom\n",
    "\n",
    "    return [func]"
   ]
  },
  {
   "cell_type": "code",
   "execution_count": 3,
   "metadata": {},
   "outputs": [
    {
     "name": "stdout",
     "output_type": "stream",
     "text": [
      "GA Solution\n",
      "[-0.0007061936261231749, -0.00011593137991223351] [5.123849122767865e-10]\n"
     ]
    }
   ],
   "source": [
    "# define the problem definition\n",
    "nVar = 2\n",
    "nObj = 1\n",
    "\n",
    "# define 3 inputs and 1 objective (and no constraints)\n",
    "problem = ptp.Problem(nVar, nObj)\n",
    "problem.types[:] = ptp.Real(-100, 100)\n",
    "problem.directions[0] = ptp.Problem.MINIMIZE\n",
    "problem.function = functionCalc\n",
    "\n",
    "# problem.constraints[:] = \"<=0\"\n",
    "\n",
    "iteration_history = []\n",
    "\n",
    "with ptp.ProcessPoolEvaluator(12) as evaluator:\n",
    "    algorithm = ptp.GeneticAlgorithm(problem, population_size=20, offspring_size=20, archive=iteration_history,\n",
    "                                     evaluator=evaluator)\n",
    "    algorithm.run(40000)\n",
    "\n",
    "solutionHistory = pd.DataFrame(iteration_history)\n",
    "#solutionHistory.to_csv(\"IterationHistory.csv\")\n",
    "\n",
    "# display the results\n",
    "print(\"GA Solution\")\n",
    "for solution in ptp.unique(ptp.nondominated(algorithm.result)):\n",
    "    print(solution.variables, solution.objectives)\n"
   ]
  }
 ],
 "metadata": {
  "kernelspec": {
   "display_name": "Python 3",
   "language": "python",
   "name": "python3"
  },
  "language_info": {
   "codemirror_mode": {
    "name": "ipython",
    "version": 3
   },
   "file_extension": ".py",
   "mimetype": "text/x-python",
   "name": "python",
   "nbconvert_exporter": "python",
   "pygments_lexer": "ipython3",
   "version": "3.6.8"
  }
 },
 "nbformat": 4,
 "nbformat_minor": 4
}
