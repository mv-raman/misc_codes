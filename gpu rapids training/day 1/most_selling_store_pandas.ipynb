{
 "cells": [
  {
   "cell_type": "code",
   "execution_count": 43,
   "metadata": {},
   "outputs": [],
   "source": [
    "from pandas import read_csv, read_parquet, read_orc, DataFrame, concat\n",
    "import numpy as np"
   ]
  },
  {
   "cell_type": "code",
   "execution_count": 44,
   "metadata": {},
   "outputs": [],
   "source": [
    "#to warmup the gpu\n",
    "df = DataFrame({'a':range(10)})"
   ]
  },
  {
   "cell_type": "code",
   "execution_count": 45,
   "metadata": {},
   "outputs": [
    {
     "data": {
      "text/html": [
       "<div>\n",
       "<style scoped>\n",
       "    .dataframe tbody tr th:only-of-type {\n",
       "        vertical-align: middle;\n",
       "    }\n",
       "\n",
       "    .dataframe tbody tr th {\n",
       "        vertical-align: top;\n",
       "    }\n",
       "\n",
       "    .dataframe thead th {\n",
       "        text-align: right;\n",
       "    }\n",
       "</style>\n",
       "<table border=\"1\" class=\"dataframe\">\n",
       "  <thead>\n",
       "    <tr style=\"text-align: right;\">\n",
       "      <th></th>\n",
       "      <th>a</th>\n",
       "    </tr>\n",
       "  </thead>\n",
       "  <tbody>\n",
       "    <tr>\n",
       "      <th>0</th>\n",
       "      <td>0</td>\n",
       "    </tr>\n",
       "    <tr>\n",
       "      <th>1</th>\n",
       "      <td>1</td>\n",
       "    </tr>\n",
       "    <tr>\n",
       "      <th>2</th>\n",
       "      <td>2</td>\n",
       "    </tr>\n",
       "    <tr>\n",
       "      <th>3</th>\n",
       "      <td>3</td>\n",
       "    </tr>\n",
       "    <tr>\n",
       "      <th>4</th>\n",
       "      <td>4</td>\n",
       "    </tr>\n",
       "  </tbody>\n",
       "</table>\n",
       "</div>"
      ],
      "text/plain": [
       "   a\n",
       "0  0\n",
       "1  1\n",
       "2  2\n",
       "3  3\n",
       "4  4"
      ]
     },
     "execution_count": 45,
     "metadata": {},
     "output_type": "execute_result"
    }
   ],
   "source": [
    "df.head()"
   ]
  },
  {
   "cell_type": "markdown",
   "metadata": {},
   "source": [
    "---\n",
    "#### Reading the cal_dim table from `/data/calendar.csv` stored in csv format"
   ]
  },
  {
   "cell_type": "code",
   "execution_count": 46,
   "metadata": {},
   "outputs": [
    {
     "name": "stdout",
     "output_type": "stream",
     "text": [
      "CPU times: user 7.18 ms, sys: 7.74 ms, total: 14.9 ms\n",
      "Wall time: 11.2 ms\n"
     ]
    }
   ],
   "source": [
    "%%time\n",
    "cal = read_csv('/data/calendar.csv')\n",
    "cal['cal_dt'] = cal['cal_dt'].astype('datetime64[ms]')\n",
    "cal['ly_date'] = cal['ly_date'].astype('datetime64[ms]')\n",
    "cal['ly_comp_visit_dt'] = cal['ly_comp_visit_dt'].astype('datetime64[ms]')"
   ]
  },
  {
   "cell_type": "code",
   "execution_count": 47,
   "metadata": {},
   "outputs": [
    {
     "data": {
      "text/plain": [
       "(1, 4)"
      ]
     },
     "execution_count": 47,
     "metadata": {},
     "output_type": "execute_result"
    }
   ],
   "source": [
    "cal.shape"
   ]
  },
  {
   "cell_type": "code",
   "execution_count": 48,
   "metadata": {},
   "outputs": [
    {
     "data": {
      "text/html": [
       "<div>\n",
       "<style scoped>\n",
       "    .dataframe tbody tr th:only-of-type {\n",
       "        vertical-align: middle;\n",
       "    }\n",
       "\n",
       "    .dataframe tbody tr th {\n",
       "        vertical-align: top;\n",
       "    }\n",
       "\n",
       "    .dataframe thead th {\n",
       "        text-align: right;\n",
       "    }\n",
       "</style>\n",
       "<table border=\"1\" class=\"dataframe\">\n",
       "  <thead>\n",
       "    <tr style=\"text-align: right;\">\n",
       "      <th></th>\n",
       "      <th>cal_dt</th>\n",
       "      <th>ly_date</th>\n",
       "      <th>ly_comp_visit_dt</th>\n",
       "      <th>wm_yr_wk_nbr</th>\n",
       "    </tr>\n",
       "  </thead>\n",
       "  <tbody>\n",
       "    <tr>\n",
       "      <th>0</th>\n",
       "      <td>2017-04-11</td>\n",
       "      <td>2016-04-11</td>\n",
       "      <td>2016-04-12</td>\n",
       "      <td>201711</td>\n",
       "    </tr>\n",
       "  </tbody>\n",
       "</table>\n",
       "</div>"
      ],
      "text/plain": [
       "      cal_dt    ly_date ly_comp_visit_dt  wm_yr_wk_nbr\n",
       "0 2017-04-11 2016-04-11       2016-04-12        201711"
      ]
     },
     "execution_count": 48,
     "metadata": {},
     "output_type": "execute_result"
    }
   ],
   "source": [
    "cal.head()"
   ]
  },
  {
   "cell_type": "code",
   "execution_count": 49,
   "metadata": {},
   "outputs": [
    {
     "data": {
      "text/html": [
       "<div>\n",
       "<style scoped>\n",
       "    .dataframe tbody tr th:only-of-type {\n",
       "        vertical-align: middle;\n",
       "    }\n",
       "\n",
       "    .dataframe tbody tr th {\n",
       "        vertical-align: top;\n",
       "    }\n",
       "\n",
       "    .dataframe thead th {\n",
       "        text-align: right;\n",
       "    }\n",
       "</style>\n",
       "<table border=\"1\" class=\"dataframe\">\n",
       "  <thead>\n",
       "    <tr style=\"text-align: right;\">\n",
       "      <th></th>\n",
       "      <th>cal_dt</th>\n",
       "      <th>cal_ind</th>\n",
       "      <th>join_date</th>\n",
       "    </tr>\n",
       "  </thead>\n",
       "  <tbody>\n",
       "    <tr>\n",
       "      <th>0</th>\n",
       "      <td>2017-04-11</td>\n",
       "      <td>C</td>\n",
       "      <td>2017-04-11</td>\n",
       "    </tr>\n",
       "    <tr>\n",
       "      <th>0</th>\n",
       "      <td>2017-04-11</td>\n",
       "      <td>L</td>\n",
       "      <td>2016-04-11</td>\n",
       "    </tr>\n",
       "    <tr>\n",
       "      <th>0</th>\n",
       "      <td>2017-04-11</td>\n",
       "      <td>R</td>\n",
       "      <td>2016-04-12</td>\n",
       "    </tr>\n",
       "  </tbody>\n",
       "</table>\n",
       "</div>"
      ],
      "text/plain": [
       "      cal_dt cal_ind  join_date\n",
       "0 2017-04-11       C 2017-04-11\n",
       "0 2017-04-11       L 2016-04-11\n",
       "0 2017-04-11       R 2016-04-12"
      ]
     },
     "execution_count": 49,
     "metadata": {},
     "output_type": "execute_result"
    }
   ],
   "source": [
    "join_dates = concat([\n",
    "        DataFrame({'cal_dt':cal['cal_dt'], 'cal_ind':col_ind , 'join_date':cal[col]}) \n",
    "        for (col_ind, col) in [('C', 'cal_dt'), ('L', 'ly_date'), ('R', 'ly_comp_visit_dt')]\n",
    "    ])\n",
    "join_dates.head()"
   ]
  },
  {
   "cell_type": "markdown",
   "metadata": {},
   "source": [
    "---\n",
    "#### Reading the store_visit_scan table from `/data/store_visit_scan_mask.parquet` stored in parquet format"
   ]
  },
  {
   "cell_type": "code",
   "execution_count": 50,
   "metadata": {},
   "outputs": [
    {
     "name": "stdout",
     "output_type": "stream",
     "text": [
      "CPU times: user 2.83 s, sys: 467 ms, total: 3.3 s\n",
      "Wall time: 2.27 s\n"
     ]
    }
   ],
   "source": [
    "%%time\n",
    "svs = read_parquet('/data/store_visit_scan_mask.parquet')\n",
    "svs['visit_dt'] = svs['visit_dt'].astype('datetime64[ms]')"
   ]
  },
  {
   "cell_type": "code",
   "execution_count": 21,
   "metadata": {},
   "outputs": [
    {
     "name": "stdout",
     "output_type": "stream",
     "text": [
      "shape :  (6599219, 8)\n"
     ]
    },
    {
     "data": {
      "text/html": [
       "<div>\n",
       "<style scoped>\n",
       "    .dataframe tbody tr th:only-of-type {\n",
       "        vertical-align: middle;\n",
       "    }\n",
       "\n",
       "    .dataframe tbody tr th {\n",
       "        vertical-align: top;\n",
       "    }\n",
       "\n",
       "    .dataframe thead th {\n",
       "        text-align: right;\n",
       "    }\n",
       "</style>\n",
       "<table border=\"1\" class=\"dataframe\">\n",
       "  <thead>\n",
       "    <tr style=\"text-align: right;\">\n",
       "      <th></th>\n",
       "      <th>visit_nbr</th>\n",
       "      <th>store_nbr</th>\n",
       "      <th>scan_seq_nbr</th>\n",
       "      <th>scan_id</th>\n",
       "      <th>scan_type</th>\n",
       "      <th>load_ts</th>\n",
       "      <th>visit_dt</th>\n",
       "      <th>op_cmpny_cd</th>\n",
       "    </tr>\n",
       "  </thead>\n",
       "  <tbody>\n",
       "    <tr>\n",
       "      <th>0</th>\n",
       "      <td>710103784</td>\n",
       "      <td>1099</td>\n",
       "      <td>8</td>\n",
       "      <td>877534402</td>\n",
       "      <td>0</td>\n",
       "      <td>2017-06-23T12:46:35.000Z</td>\n",
       "      <td>2017-04-11</td>\n",
       "      <td>WMT-US</td>\n",
       "    </tr>\n",
       "    <tr>\n",
       "      <th>1</th>\n",
       "      <td>710104362</td>\n",
       "      <td>1999</td>\n",
       "      <td>7</td>\n",
       "      <td>867174169</td>\n",
       "      <td>0</td>\n",
       "      <td>2017-06-23T12:46:35.000Z</td>\n",
       "      <td>2017-04-11</td>\n",
       "      <td>WMT-US</td>\n",
       "    </tr>\n",
       "    <tr>\n",
       "      <th>2</th>\n",
       "      <td>710101771</td>\n",
       "      <td>17377</td>\n",
       "      <td>6</td>\n",
       "      <td>738523462</td>\n",
       "      <td>0</td>\n",
       "      <td>2017-06-23T12:46:35.000Z</td>\n",
       "      <td>2017-04-11</td>\n",
       "      <td>WMT-US</td>\n",
       "    </tr>\n",
       "    <tr>\n",
       "      <th>3</th>\n",
       "      <td>710103327</td>\n",
       "      <td>9700</td>\n",
       "      <td>10</td>\n",
       "      <td>892230403</td>\n",
       "      <td>0</td>\n",
       "      <td>2017-06-23T12:46:35.000Z</td>\n",
       "      <td>2017-04-11</td>\n",
       "      <td>WMT-US</td>\n",
       "    </tr>\n",
       "    <tr>\n",
       "      <th>4</th>\n",
       "      <td>710101361</td>\n",
       "      <td>8737</td>\n",
       "      <td>4</td>\n",
       "      <td>851258830</td>\n",
       "      <td>0</td>\n",
       "      <td>2017-06-23T12:46:35.000Z</td>\n",
       "      <td>2017-04-11</td>\n",
       "      <td>WMT-US</td>\n",
       "    </tr>\n",
       "  </tbody>\n",
       "</table>\n",
       "</div>"
      ],
      "text/plain": [
       "   visit_nbr  store_nbr  scan_seq_nbr    scan_id  scan_type  \\\n",
       "0  710103784       1099             8  877534402          0   \n",
       "1  710104362       1999             7  867174169          0   \n",
       "2  710101771      17377             6  738523462          0   \n",
       "3  710103327       9700            10  892230403          0   \n",
       "4  710101361       8737             4  851258830          0   \n",
       "\n",
       "                    load_ts   visit_dt op_cmpny_cd  \n",
       "0  2017-06-23T12:46:35.000Z 2017-04-11      WMT-US  \n",
       "1  2017-06-23T12:46:35.000Z 2017-04-11      WMT-US  \n",
       "2  2017-06-23T12:46:35.000Z 2017-04-11      WMT-US  \n",
       "3  2017-06-23T12:46:35.000Z 2017-04-11      WMT-US  \n",
       "4  2017-06-23T12:46:35.000Z 2017-04-11      WMT-US  "
      ]
     },
     "execution_count": 21,
     "metadata": {},
     "output_type": "execute_result"
    }
   ],
   "source": [
    "print(\"shape : \", svs.shape)\n",
    "svs.head()"
   ]
  },
  {
   "cell_type": "markdown",
   "metadata": {},
   "source": [
    "---\n",
    "#### Reading the store_visit table from `/data/store_visit_mask.parquet` stored in parquet format"
   ]
  },
  {
   "cell_type": "code",
   "execution_count": 22,
   "metadata": {},
   "outputs": [
    {
     "name": "stdout",
     "output_type": "stream",
     "text": [
      "CPU times: user 2.54 s, sys: 384 ms, total: 2.93 s\n",
      "Wall time: 2.17 s\n"
     ]
    }
   ],
   "source": [
    "%%time\n",
    "vst = read_parquet('/data/store_visit_mask.parquet')\n",
    "vst['visit_dt'] = vst['visit_dt'].astype('datetime64[ms]')"
   ]
  },
  {
   "cell_type": "code",
   "execution_count": 23,
   "metadata": {},
   "outputs": [
    {
     "name": "stdout",
     "output_type": "stream",
     "text": [
      "shape :  (7189981, 5)\n"
     ]
    },
    {
     "data": {
      "text/html": [
       "<div>\n",
       "<style scoped>\n",
       "    .dataframe tbody tr th:only-of-type {\n",
       "        vertical-align: middle;\n",
       "    }\n",
       "\n",
       "    .dataframe tbody tr th {\n",
       "        vertical-align: top;\n",
       "    }\n",
       "\n",
       "    .dataframe thead th {\n",
       "        text-align: right;\n",
       "    }\n",
       "</style>\n",
       "<table border=\"1\" class=\"dataframe\">\n",
       "  <thead>\n",
       "    <tr style=\"text-align: right;\">\n",
       "      <th></th>\n",
       "      <th>store_nbr</th>\n",
       "      <th>visit_nbr</th>\n",
       "      <th>visit_tm</th>\n",
       "      <th>visit_dt</th>\n",
       "      <th>op_cmpny_cd</th>\n",
       "    </tr>\n",
       "  </thead>\n",
       "  <tbody>\n",
       "    <tr>\n",
       "      <th>0</th>\n",
       "      <td>11680</td>\n",
       "      <td>710100004</td>\n",
       "      <td>1</td>\n",
       "      <td>2017-04-11</td>\n",
       "      <td>WMT-US</td>\n",
       "    </tr>\n",
       "    <tr>\n",
       "      <th>1</th>\n",
       "      <td>16237</td>\n",
       "      <td>710100004</td>\n",
       "      <td>1</td>\n",
       "      <td>2017-04-11</td>\n",
       "      <td>WMT-US</td>\n",
       "    </tr>\n",
       "    <tr>\n",
       "      <th>2</th>\n",
       "      <td>17365</td>\n",
       "      <td>710100004</td>\n",
       "      <td>2</td>\n",
       "      <td>2017-04-11</td>\n",
       "      <td>WMT-US</td>\n",
       "    </tr>\n",
       "    <tr>\n",
       "      <th>3</th>\n",
       "      <td>5071</td>\n",
       "      <td>710100005</td>\n",
       "      <td>3</td>\n",
       "      <td>2017-04-11</td>\n",
       "      <td>WMT-US</td>\n",
       "    </tr>\n",
       "    <tr>\n",
       "      <th>4</th>\n",
       "      <td>5443</td>\n",
       "      <td>710100005</td>\n",
       "      <td>3</td>\n",
       "      <td>2017-04-11</td>\n",
       "      <td>WMT-US</td>\n",
       "    </tr>\n",
       "  </tbody>\n",
       "</table>\n",
       "</div>"
      ],
      "text/plain": [
       "   store_nbr  visit_nbr  visit_tm   visit_dt op_cmpny_cd\n",
       "0      11680  710100004         1 2017-04-11      WMT-US\n",
       "1      16237  710100004         1 2017-04-11      WMT-US\n",
       "2      17365  710100004         2 2017-04-11      WMT-US\n",
       "3       5071  710100005         3 2017-04-11      WMT-US\n",
       "4       5443  710100005         3 2017-04-11      WMT-US"
      ]
     },
     "execution_count": 23,
     "metadata": {},
     "output_type": "execute_result"
    }
   ],
   "source": [
    "print(\"shape : \", vst.shape)\n",
    "vst.head()"
   ]
  },
  {
   "cell_type": "markdown",
   "metadata": {},
   "source": [
    "---\n",
    "### Performing inner join between store_visit_scan and store_visit"
   ]
  },
  {
   "cell_type": "code",
   "execution_count": 24,
   "metadata": {},
   "outputs": [
    {
     "name": "stdout",
     "output_type": "stream",
     "text": [
      "CPU times: user 4.02 s, sys: 721 ms, total: 4.74 s\n",
      "Wall time: 4.74 s\n"
     ]
    }
   ],
   "source": [
    "%%time\n",
    "# merging the scan and visite tables\n",
    "df = svs.merge(vst, on=['visit_dt', 'store_nbr', 'visit_nbr'], how='inner')\n",
    "df = df.drop_duplicates()"
   ]
  },
  {
   "cell_type": "code",
   "execution_count": 25,
   "metadata": {},
   "outputs": [
    {
     "name": "stdout",
     "output_type": "stream",
     "text": [
      "shape :  (2338031, 10)\n"
     ]
    },
    {
     "data": {
      "text/html": [
       "<div>\n",
       "<style scoped>\n",
       "    .dataframe tbody tr th:only-of-type {\n",
       "        vertical-align: middle;\n",
       "    }\n",
       "\n",
       "    .dataframe tbody tr th {\n",
       "        vertical-align: top;\n",
       "    }\n",
       "\n",
       "    .dataframe thead th {\n",
       "        text-align: right;\n",
       "    }\n",
       "</style>\n",
       "<table border=\"1\" class=\"dataframe\">\n",
       "  <thead>\n",
       "    <tr style=\"text-align: right;\">\n",
       "      <th></th>\n",
       "      <th>visit_nbr</th>\n",
       "      <th>store_nbr</th>\n",
       "      <th>scan_seq_nbr</th>\n",
       "      <th>scan_id</th>\n",
       "      <th>scan_type</th>\n",
       "      <th>load_ts</th>\n",
       "      <th>visit_dt</th>\n",
       "      <th>op_cmpny_cd_x</th>\n",
       "      <th>visit_tm</th>\n",
       "      <th>op_cmpny_cd_y</th>\n",
       "    </tr>\n",
       "  </thead>\n",
       "  <tbody>\n",
       "    <tr>\n",
       "      <th>0</th>\n",
       "      <td>710103784</td>\n",
       "      <td>1099</td>\n",
       "      <td>8</td>\n",
       "      <td>877534402</td>\n",
       "      <td>0</td>\n",
       "      <td>2017-06-23T12:46:35.000Z</td>\n",
       "      <td>2017-04-11</td>\n",
       "      <td>WMT-US</td>\n",
       "      <td>1546</td>\n",
       "      <td>WMT-US</td>\n",
       "    </tr>\n",
       "    <tr>\n",
       "      <th>1</th>\n",
       "      <td>710103784</td>\n",
       "      <td>1099</td>\n",
       "      <td>4</td>\n",
       "      <td>986506717</td>\n",
       "      <td>0</td>\n",
       "      <td>2017-06-23T12:46:36.000Z</td>\n",
       "      <td>2017-04-11</td>\n",
       "      <td>WMT-US</td>\n",
       "      <td>1546</td>\n",
       "      <td>WMT-US</td>\n",
       "    </tr>\n",
       "    <tr>\n",
       "      <th>2</th>\n",
       "      <td>710103507</td>\n",
       "      <td>4027</td>\n",
       "      <td>9</td>\n",
       "      <td>278938867</td>\n",
       "      <td>0</td>\n",
       "      <td>2017-06-23T12:46:35.000Z</td>\n",
       "      <td>2017-04-11</td>\n",
       "      <td>WMT-US</td>\n",
       "      <td>1540</td>\n",
       "      <td>WMT-US</td>\n",
       "    </tr>\n",
       "    <tr>\n",
       "      <th>3</th>\n",
       "      <td>710103507</td>\n",
       "      <td>4027</td>\n",
       "      <td>10</td>\n",
       "      <td>278938867</td>\n",
       "      <td>0</td>\n",
       "      <td>2017-06-23T12:46:36.000Z</td>\n",
       "      <td>2017-04-11</td>\n",
       "      <td>WMT-US</td>\n",
       "      <td>1540</td>\n",
       "      <td>WMT-US</td>\n",
       "    </tr>\n",
       "    <tr>\n",
       "      <th>4</th>\n",
       "      <td>710103507</td>\n",
       "      <td>4027</td>\n",
       "      <td>11</td>\n",
       "      <td>770584414</td>\n",
       "      <td>0</td>\n",
       "      <td>2017-06-23T12:46:36.000Z</td>\n",
       "      <td>2017-04-11</td>\n",
       "      <td>WMT-US</td>\n",
       "      <td>1540</td>\n",
       "      <td>WMT-US</td>\n",
       "    </tr>\n",
       "  </tbody>\n",
       "</table>\n",
       "</div>"
      ],
      "text/plain": [
       "   visit_nbr  store_nbr  scan_seq_nbr    scan_id  scan_type  \\\n",
       "0  710103784       1099             8  877534402          0   \n",
       "1  710103784       1099             4  986506717          0   \n",
       "2  710103507       4027             9  278938867          0   \n",
       "3  710103507       4027            10  278938867          0   \n",
       "4  710103507       4027            11  770584414          0   \n",
       "\n",
       "                    load_ts   visit_dt op_cmpny_cd_x  visit_tm op_cmpny_cd_y  \n",
       "0  2017-06-23T12:46:35.000Z 2017-04-11        WMT-US      1546        WMT-US  \n",
       "1  2017-06-23T12:46:36.000Z 2017-04-11        WMT-US      1546        WMT-US  \n",
       "2  2017-06-23T12:46:35.000Z 2017-04-11        WMT-US      1540        WMT-US  \n",
       "3  2017-06-23T12:46:36.000Z 2017-04-11        WMT-US      1540        WMT-US  \n",
       "4  2017-06-23T12:46:36.000Z 2017-04-11        WMT-US      1540        WMT-US  "
      ]
     },
     "execution_count": 25,
     "metadata": {},
     "output_type": "execute_result"
    }
   ],
   "source": [
    "print(\"shape : \", df.shape)\n",
    "df.head()"
   ]
  },
  {
   "cell_type": "markdown",
   "metadata": {},
   "source": [
    "---\n",
    "#### Reading the item_dim table from `/data/item_dim_mask.orc` stored in orc format"
   ]
  },
  {
   "cell_type": "code",
   "execution_count": 34,
   "metadata": {},
   "outputs": [
    {
     "name": "stdout",
     "output_type": "stream",
     "text": [
      "CPU times: user 2.16 s, sys: 612 ms, total: 2.77 s\n",
      "Wall time: 2.44 s\n"
     ]
    }
   ],
   "source": [
    "%%time\n",
    "item = read_orc('/data/item_dim_mask.orc')"
   ]
  },
  {
   "cell_type": "code",
   "execution_count": 35,
   "metadata": {},
   "outputs": [
    {
     "name": "stdout",
     "output_type": "stream",
     "text": [
      "shape :  (34110184, 4)\n"
     ]
    },
    {
     "data": {
      "text/html": [
       "<div>\n",
       "<style scoped>\n",
       "    .dataframe tbody tr th:only-of-type {\n",
       "        vertical-align: middle;\n",
       "    }\n",
       "\n",
       "    .dataframe tbody tr th {\n",
       "        vertical-align: top;\n",
       "    }\n",
       "\n",
       "    .dataframe thead th {\n",
       "        text-align: right;\n",
       "    }\n",
       "</style>\n",
       "<table border=\"1\" class=\"dataframe\">\n",
       "  <thead>\n",
       "    <tr style=\"text-align: right;\">\n",
       "      <th></th>\n",
       "      <th>mds_fam_id</th>\n",
       "      <th>item_nbr</th>\n",
       "      <th>upc_nbr</th>\n",
       "      <th>dept_nbr</th>\n",
       "    </tr>\n",
       "  </thead>\n",
       "  <tbody>\n",
       "    <tr>\n",
       "      <th>0</th>\n",
       "      <td>-905</td>\n",
       "      <td>-6989</td>\n",
       "      <td>-1994.0</td>\n",
       "      <td>8</td>\n",
       "    </tr>\n",
       "    <tr>\n",
       "      <th>1</th>\n",
       "      <td>-1787</td>\n",
       "      <td>-6989</td>\n",
       "      <td>-1994.0</td>\n",
       "      <td>400</td>\n",
       "    </tr>\n",
       "    <tr>\n",
       "      <th>2</th>\n",
       "      <td>-1778</td>\n",
       "      <td>-6989</td>\n",
       "      <td>-1994.0</td>\n",
       "      <td>396</td>\n",
       "    </tr>\n",
       "    <tr>\n",
       "      <th>3</th>\n",
       "      <td>-1769</td>\n",
       "      <td>-6989</td>\n",
       "      <td>-1994.0</td>\n",
       "      <td>392</td>\n",
       "    </tr>\n",
       "    <tr>\n",
       "      <th>4</th>\n",
       "      <td>-1760</td>\n",
       "      <td>-6989</td>\n",
       "      <td>-1994.0</td>\n",
       "      <td>388</td>\n",
       "    </tr>\n",
       "  </tbody>\n",
       "</table>\n",
       "</div>"
      ],
      "text/plain": [
       "   mds_fam_id  item_nbr  upc_nbr  dept_nbr\n",
       "0        -905     -6989  -1994.0         8\n",
       "1       -1787     -6989  -1994.0       400\n",
       "2       -1778     -6989  -1994.0       396\n",
       "3       -1769     -6989  -1994.0       392\n",
       "4       -1760     -6989  -1994.0       388"
      ]
     },
     "execution_count": 35,
     "metadata": {},
     "output_type": "execute_result"
    }
   ],
   "source": [
    "print(\"shape : \", item.shape)\n",
    "item.head()"
   ]
  },
  {
   "cell_type": "markdown",
   "metadata": {},
   "source": [
    "---\n",
    "### Performing inner join with item_dim"
   ]
  },
  {
   "cell_type": "code",
   "execution_count": 36,
   "metadata": {},
   "outputs": [
    {
     "name": "stdout",
     "output_type": "stream",
     "text": [
      "CPU times: user 11.2 s, sys: 2.6 s, total: 13.8 s\n",
      "Wall time: 13.8 s\n"
     ]
    }
   ],
   "source": [
    "%%time\n",
    "df = df.rename(columns = {'scan_id':'mds_fam_id'})\n",
    "df = df.merge(item, on=['mds_fam_id'], how='inner')"
   ]
  },
  {
   "cell_type": "code",
   "execution_count": 37,
   "metadata": {},
   "outputs": [
    {
     "name": "stdout",
     "output_type": "stream",
     "text": [
      "shape :  (6957414, 18)\n"
     ]
    },
    {
     "data": {
      "text/html": [
       "<div>\n",
       "<style scoped>\n",
       "    .dataframe tbody tr th:only-of-type {\n",
       "        vertical-align: middle;\n",
       "    }\n",
       "\n",
       "    .dataframe tbody tr th {\n",
       "        vertical-align: top;\n",
       "    }\n",
       "\n",
       "    .dataframe thead th {\n",
       "        text-align: right;\n",
       "    }\n",
       "</style>\n",
       "<table border=\"1\" class=\"dataframe\">\n",
       "  <thead>\n",
       "    <tr style=\"text-align: right;\">\n",
       "      <th></th>\n",
       "      <th>visit_nbr</th>\n",
       "      <th>store_nbr</th>\n",
       "      <th>scan_seq_nbr</th>\n",
       "      <th>mds_fam_id</th>\n",
       "      <th>scan_type</th>\n",
       "      <th>load_ts</th>\n",
       "      <th>cal_dt</th>\n",
       "      <th>op_cmpny_cd_x</th>\n",
       "      <th>visit_tm</th>\n",
       "      <th>op_cmpny_cd_y</th>\n",
       "      <th>item_nbr_x</th>\n",
       "      <th>upc_nbr_x</th>\n",
       "      <th>dept_nbr_x</th>\n",
       "      <th>cal_ind</th>\n",
       "      <th>join_date</th>\n",
       "      <th>item_nbr_y</th>\n",
       "      <th>upc_nbr_y</th>\n",
       "      <th>dept_nbr_y</th>\n",
       "    </tr>\n",
       "  </thead>\n",
       "  <tbody>\n",
       "    <tr>\n",
       "      <th>0</th>\n",
       "      <td>710103784</td>\n",
       "      <td>1099</td>\n",
       "      <td>8</td>\n",
       "      <td>877534402</td>\n",
       "      <td>0</td>\n",
       "      <td>2017-06-23T12:46:35.000Z</td>\n",
       "      <td>2017-04-11</td>\n",
       "      <td>WMT-US</td>\n",
       "      <td>1546</td>\n",
       "      <td>WMT-US</td>\n",
       "      <td>3882699650</td>\n",
       "      <td>1.020180e+10</td>\n",
       "      <td>12</td>\n",
       "      <td>C</td>\n",
       "      <td>2017-04-11</td>\n",
       "      <td>3882699650</td>\n",
       "      <td>1.020180e+10</td>\n",
       "      <td>12</td>\n",
       "    </tr>\n",
       "    <tr>\n",
       "      <th>1</th>\n",
       "      <td>710103784</td>\n",
       "      <td>1099</td>\n",
       "      <td>8</td>\n",
       "      <td>877534402</td>\n",
       "      <td>0</td>\n",
       "      <td>2017-06-23T12:46:35.000Z</td>\n",
       "      <td>2017-04-11</td>\n",
       "      <td>WMT-US</td>\n",
       "      <td>1546</td>\n",
       "      <td>WMT-US</td>\n",
       "      <td>3882699650</td>\n",
       "      <td>1.020180e+10</td>\n",
       "      <td>12</td>\n",
       "      <td>L</td>\n",
       "      <td>2016-04-11</td>\n",
       "      <td>3882699650</td>\n",
       "      <td>1.020180e+10</td>\n",
       "      <td>12</td>\n",
       "    </tr>\n",
       "    <tr>\n",
       "      <th>2</th>\n",
       "      <td>710103784</td>\n",
       "      <td>1099</td>\n",
       "      <td>8</td>\n",
       "      <td>877534402</td>\n",
       "      <td>0</td>\n",
       "      <td>2017-06-23T12:46:35.000Z</td>\n",
       "      <td>2017-04-11</td>\n",
       "      <td>WMT-US</td>\n",
       "      <td>1546</td>\n",
       "      <td>WMT-US</td>\n",
       "      <td>3882699650</td>\n",
       "      <td>1.020180e+10</td>\n",
       "      <td>12</td>\n",
       "      <td>R</td>\n",
       "      <td>2016-04-12</td>\n",
       "      <td>3882699650</td>\n",
       "      <td>1.020180e+10</td>\n",
       "      <td>12</td>\n",
       "    </tr>\n",
       "    <tr>\n",
       "      <th>3</th>\n",
       "      <td>710100640</td>\n",
       "      <td>1297</td>\n",
       "      <td>7</td>\n",
       "      <td>877534402</td>\n",
       "      <td>0</td>\n",
       "      <td>2017-06-23T12:47:44.000Z</td>\n",
       "      <td>2017-04-11</td>\n",
       "      <td>WMT-US</td>\n",
       "      <td>1007</td>\n",
       "      <td>WMT-US</td>\n",
       "      <td>3882699650</td>\n",
       "      <td>1.020180e+10</td>\n",
       "      <td>12</td>\n",
       "      <td>C</td>\n",
       "      <td>2017-04-11</td>\n",
       "      <td>3882699650</td>\n",
       "      <td>1.020180e+10</td>\n",
       "      <td>12</td>\n",
       "    </tr>\n",
       "    <tr>\n",
       "      <th>4</th>\n",
       "      <td>710100640</td>\n",
       "      <td>1297</td>\n",
       "      <td>7</td>\n",
       "      <td>877534402</td>\n",
       "      <td>0</td>\n",
       "      <td>2017-06-23T12:47:44.000Z</td>\n",
       "      <td>2017-04-11</td>\n",
       "      <td>WMT-US</td>\n",
       "      <td>1007</td>\n",
       "      <td>WMT-US</td>\n",
       "      <td>3882699650</td>\n",
       "      <td>1.020180e+10</td>\n",
       "      <td>12</td>\n",
       "      <td>L</td>\n",
       "      <td>2016-04-11</td>\n",
       "      <td>3882699650</td>\n",
       "      <td>1.020180e+10</td>\n",
       "      <td>12</td>\n",
       "    </tr>\n",
       "  </tbody>\n",
       "</table>\n",
       "</div>"
      ],
      "text/plain": [
       "   visit_nbr  store_nbr  scan_seq_nbr  mds_fam_id  scan_type  \\\n",
       "0  710103784       1099             8   877534402          0   \n",
       "1  710103784       1099             8   877534402          0   \n",
       "2  710103784       1099             8   877534402          0   \n",
       "3  710100640       1297             7   877534402          0   \n",
       "4  710100640       1297             7   877534402          0   \n",
       "\n",
       "                    load_ts     cal_dt op_cmpny_cd_x  visit_tm op_cmpny_cd_y  \\\n",
       "0  2017-06-23T12:46:35.000Z 2017-04-11        WMT-US      1546        WMT-US   \n",
       "1  2017-06-23T12:46:35.000Z 2017-04-11        WMT-US      1546        WMT-US   \n",
       "2  2017-06-23T12:46:35.000Z 2017-04-11        WMT-US      1546        WMT-US   \n",
       "3  2017-06-23T12:47:44.000Z 2017-04-11        WMT-US      1007        WMT-US   \n",
       "4  2017-06-23T12:47:44.000Z 2017-04-11        WMT-US      1007        WMT-US   \n",
       "\n",
       "   item_nbr_x     upc_nbr_x  dept_nbr_x cal_ind  join_date  item_nbr_y  \\\n",
       "0  3882699650  1.020180e+10          12       C 2017-04-11  3882699650   \n",
       "1  3882699650  1.020180e+10          12       L 2016-04-11  3882699650   \n",
       "2  3882699650  1.020180e+10          12       R 2016-04-12  3882699650   \n",
       "3  3882699650  1.020180e+10          12       C 2017-04-11  3882699650   \n",
       "4  3882699650  1.020180e+10          12       L 2016-04-11  3882699650   \n",
       "\n",
       "      upc_nbr_y  dept_nbr_y  \n",
       "0  1.020180e+10          12  \n",
       "1  1.020180e+10          12  \n",
       "2  1.020180e+10          12  \n",
       "3  1.020180e+10          12  \n",
       "4  1.020180e+10          12  "
      ]
     },
     "execution_count": 37,
     "metadata": {},
     "output_type": "execute_result"
    }
   ],
   "source": [
    "print(\"shape : \", df.shape)\n",
    "df.head()"
   ]
  },
  {
   "cell_type": "code",
   "execution_count": 38,
   "metadata": {},
   "outputs": [
    {
     "name": "stdout",
     "output_type": "stream",
     "text": [
      "CPU times: user 4.21 s, sys: 1.65 s, total: 5.87 s\n",
      "Wall time: 5.88 s\n"
     ]
    }
   ],
   "source": [
    "%%time\n",
    "df = df.rename(columns = {'visit_dt':'cal_dt'})\n",
    "df = df.merge(join_dates, on=['cal_dt'], how='inner')"
   ]
  },
  {
   "cell_type": "code",
   "execution_count": 39,
   "metadata": {},
   "outputs": [
    {
     "data": {
      "text/html": [
       "<div>\n",
       "<style scoped>\n",
       "    .dataframe tbody tr th:only-of-type {\n",
       "        vertical-align: middle;\n",
       "    }\n",
       "\n",
       "    .dataframe tbody tr th {\n",
       "        vertical-align: top;\n",
       "    }\n",
       "\n",
       "    .dataframe thead th {\n",
       "        text-align: right;\n",
       "    }\n",
       "</style>\n",
       "<table border=\"1\" class=\"dataframe\">\n",
       "  <thead>\n",
       "    <tr style=\"text-align: right;\">\n",
       "      <th></th>\n",
       "      <th>visit_nbr</th>\n",
       "      <th>store_nbr</th>\n",
       "      <th>scan_seq_nbr</th>\n",
       "      <th>mds_fam_id</th>\n",
       "      <th>scan_type</th>\n",
       "      <th>load_ts</th>\n",
       "      <th>cal_dt</th>\n",
       "      <th>op_cmpny_cd_x</th>\n",
       "      <th>visit_tm</th>\n",
       "      <th>op_cmpny_cd_y</th>\n",
       "      <th>item_nbr_x</th>\n",
       "      <th>upc_nbr_x</th>\n",
       "      <th>dept_nbr_x</th>\n",
       "      <th>cal_ind_x</th>\n",
       "      <th>join_date_x</th>\n",
       "      <th>item_nbr_y</th>\n",
       "      <th>upc_nbr_y</th>\n",
       "      <th>dept_nbr_y</th>\n",
       "      <th>cal_ind_y</th>\n",
       "      <th>join_date_y</th>\n",
       "    </tr>\n",
       "  </thead>\n",
       "  <tbody>\n",
       "    <tr>\n",
       "      <th>0</th>\n",
       "      <td>710103784</td>\n",
       "      <td>1099</td>\n",
       "      <td>8</td>\n",
       "      <td>877534402</td>\n",
       "      <td>0</td>\n",
       "      <td>2017-06-23T12:46:35.000Z</td>\n",
       "      <td>2017-04-11</td>\n",
       "      <td>WMT-US</td>\n",
       "      <td>1546</td>\n",
       "      <td>WMT-US</td>\n",
       "      <td>3882699650</td>\n",
       "      <td>1.020180e+10</td>\n",
       "      <td>12</td>\n",
       "      <td>C</td>\n",
       "      <td>2017-04-11</td>\n",
       "      <td>3882699650</td>\n",
       "      <td>1.020180e+10</td>\n",
       "      <td>12</td>\n",
       "      <td>C</td>\n",
       "      <td>2017-04-11</td>\n",
       "    </tr>\n",
       "    <tr>\n",
       "      <th>1</th>\n",
       "      <td>710103784</td>\n",
       "      <td>1099</td>\n",
       "      <td>8</td>\n",
       "      <td>877534402</td>\n",
       "      <td>0</td>\n",
       "      <td>2017-06-23T12:46:35.000Z</td>\n",
       "      <td>2017-04-11</td>\n",
       "      <td>WMT-US</td>\n",
       "      <td>1546</td>\n",
       "      <td>WMT-US</td>\n",
       "      <td>3882699650</td>\n",
       "      <td>1.020180e+10</td>\n",
       "      <td>12</td>\n",
       "      <td>C</td>\n",
       "      <td>2017-04-11</td>\n",
       "      <td>3882699650</td>\n",
       "      <td>1.020180e+10</td>\n",
       "      <td>12</td>\n",
       "      <td>L</td>\n",
       "      <td>2016-04-11</td>\n",
       "    </tr>\n",
       "    <tr>\n",
       "      <th>2</th>\n",
       "      <td>710103784</td>\n",
       "      <td>1099</td>\n",
       "      <td>8</td>\n",
       "      <td>877534402</td>\n",
       "      <td>0</td>\n",
       "      <td>2017-06-23T12:46:35.000Z</td>\n",
       "      <td>2017-04-11</td>\n",
       "      <td>WMT-US</td>\n",
       "      <td>1546</td>\n",
       "      <td>WMT-US</td>\n",
       "      <td>3882699650</td>\n",
       "      <td>1.020180e+10</td>\n",
       "      <td>12</td>\n",
       "      <td>C</td>\n",
       "      <td>2017-04-11</td>\n",
       "      <td>3882699650</td>\n",
       "      <td>1.020180e+10</td>\n",
       "      <td>12</td>\n",
       "      <td>R</td>\n",
       "      <td>2016-04-12</td>\n",
       "    </tr>\n",
       "    <tr>\n",
       "      <th>3</th>\n",
       "      <td>710103784</td>\n",
       "      <td>1099</td>\n",
       "      <td>8</td>\n",
       "      <td>877534402</td>\n",
       "      <td>0</td>\n",
       "      <td>2017-06-23T12:46:35.000Z</td>\n",
       "      <td>2017-04-11</td>\n",
       "      <td>WMT-US</td>\n",
       "      <td>1546</td>\n",
       "      <td>WMT-US</td>\n",
       "      <td>3882699650</td>\n",
       "      <td>1.020180e+10</td>\n",
       "      <td>12</td>\n",
       "      <td>L</td>\n",
       "      <td>2016-04-11</td>\n",
       "      <td>3882699650</td>\n",
       "      <td>1.020180e+10</td>\n",
       "      <td>12</td>\n",
       "      <td>C</td>\n",
       "      <td>2017-04-11</td>\n",
       "    </tr>\n",
       "    <tr>\n",
       "      <th>4</th>\n",
       "      <td>710103784</td>\n",
       "      <td>1099</td>\n",
       "      <td>8</td>\n",
       "      <td>877534402</td>\n",
       "      <td>0</td>\n",
       "      <td>2017-06-23T12:46:35.000Z</td>\n",
       "      <td>2017-04-11</td>\n",
       "      <td>WMT-US</td>\n",
       "      <td>1546</td>\n",
       "      <td>WMT-US</td>\n",
       "      <td>3882699650</td>\n",
       "      <td>1.020180e+10</td>\n",
       "      <td>12</td>\n",
       "      <td>L</td>\n",
       "      <td>2016-04-11</td>\n",
       "      <td>3882699650</td>\n",
       "      <td>1.020180e+10</td>\n",
       "      <td>12</td>\n",
       "      <td>L</td>\n",
       "      <td>2016-04-11</td>\n",
       "    </tr>\n",
       "  </tbody>\n",
       "</table>\n",
       "</div>"
      ],
      "text/plain": [
       "   visit_nbr  store_nbr  scan_seq_nbr  mds_fam_id  scan_type  \\\n",
       "0  710103784       1099             8   877534402          0   \n",
       "1  710103784       1099             8   877534402          0   \n",
       "2  710103784       1099             8   877534402          0   \n",
       "3  710103784       1099             8   877534402          0   \n",
       "4  710103784       1099             8   877534402          0   \n",
       "\n",
       "                    load_ts     cal_dt op_cmpny_cd_x  visit_tm op_cmpny_cd_y  \\\n",
       "0  2017-06-23T12:46:35.000Z 2017-04-11        WMT-US      1546        WMT-US   \n",
       "1  2017-06-23T12:46:35.000Z 2017-04-11        WMT-US      1546        WMT-US   \n",
       "2  2017-06-23T12:46:35.000Z 2017-04-11        WMT-US      1546        WMT-US   \n",
       "3  2017-06-23T12:46:35.000Z 2017-04-11        WMT-US      1546        WMT-US   \n",
       "4  2017-06-23T12:46:35.000Z 2017-04-11        WMT-US      1546        WMT-US   \n",
       "\n",
       "   item_nbr_x     upc_nbr_x  dept_nbr_x cal_ind_x join_date_x  item_nbr_y  \\\n",
       "0  3882699650  1.020180e+10          12         C  2017-04-11  3882699650   \n",
       "1  3882699650  1.020180e+10          12         C  2017-04-11  3882699650   \n",
       "2  3882699650  1.020180e+10          12         C  2017-04-11  3882699650   \n",
       "3  3882699650  1.020180e+10          12         L  2016-04-11  3882699650   \n",
       "4  3882699650  1.020180e+10          12         L  2016-04-11  3882699650   \n",
       "\n",
       "      upc_nbr_y  dept_nbr_y cal_ind_y join_date_y  \n",
       "0  1.020180e+10          12         C  2017-04-11  \n",
       "1  1.020180e+10          12         L  2016-04-11  \n",
       "2  1.020180e+10          12         R  2016-04-12  \n",
       "3  1.020180e+10          12         C  2017-04-11  \n",
       "4  1.020180e+10          12         L  2016-04-11  "
      ]
     },
     "execution_count": 39,
     "metadata": {},
     "output_type": "execute_result"
    }
   ],
   "source": [
    "df.head()"
   ]
  },
  {
   "cell_type": "markdown",
   "metadata": {},
   "source": [
    "### Perfroming groupby on store number to get the item counts"
   ]
  },
  {
   "cell_type": "code",
   "execution_count": 40,
   "metadata": {},
   "outputs": [
    {
     "name": "stdout",
     "output_type": "stream",
     "text": [
      "CPU times: user 331 ms, sys: 110 ms, total: 440 ms\n",
      "Wall time: 438 ms\n"
     ]
    }
   ],
   "source": [
    "%%time\n",
    "df_grpd = df.groupby('store_nbr').agg({'mds_fam_id':'count'})"
   ]
  },
  {
   "cell_type": "code",
   "execution_count": 41,
   "metadata": {},
   "outputs": [
    {
     "data": {
      "text/html": [
       "<div>\n",
       "<style scoped>\n",
       "    .dataframe tbody tr th:only-of-type {\n",
       "        vertical-align: middle;\n",
       "    }\n",
       "\n",
       "    .dataframe tbody tr th {\n",
       "        vertical-align: top;\n",
       "    }\n",
       "\n",
       "    .dataframe thead th {\n",
       "        text-align: right;\n",
       "    }\n",
       "</style>\n",
       "<table border=\"1\" class=\"dataframe\">\n",
       "  <thead>\n",
       "    <tr style=\"text-align: right;\">\n",
       "      <th></th>\n",
       "      <th>mds_fam_id</th>\n",
       "    </tr>\n",
       "    <tr>\n",
       "      <th>store_nbr</th>\n",
       "      <th></th>\n",
       "    </tr>\n",
       "  </thead>\n",
       "  <tbody>\n",
       "    <tr>\n",
       "      <th>7</th>\n",
       "      <td>6921</td>\n",
       "    </tr>\n",
       "    <tr>\n",
       "      <th>10</th>\n",
       "      <td>8478</td>\n",
       "    </tr>\n",
       "    <tr>\n",
       "      <th>13</th>\n",
       "      <td>6300</td>\n",
       "    </tr>\n",
       "    <tr>\n",
       "      <th>16</th>\n",
       "      <td>6579</td>\n",
       "    </tr>\n",
       "    <tr>\n",
       "      <th>19</th>\n",
       "      <td>4761</td>\n",
       "    </tr>\n",
       "    <tr>\n",
       "      <th>...</th>\n",
       "      <td>...</td>\n",
       "    </tr>\n",
       "    <tr>\n",
       "      <th>22051</th>\n",
       "      <td>1818</td>\n",
       "    </tr>\n",
       "    <tr>\n",
       "      <th>22075</th>\n",
       "      <td>1620</td>\n",
       "    </tr>\n",
       "    <tr>\n",
       "      <th>22087</th>\n",
       "      <td>1350</td>\n",
       "    </tr>\n",
       "    <tr>\n",
       "      <th>22090</th>\n",
       "      <td>1431</td>\n",
       "    </tr>\n",
       "    <tr>\n",
       "      <th>26794</th>\n",
       "      <td>4230</td>\n",
       "    </tr>\n",
       "  </tbody>\n",
       "</table>\n",
       "<p>4673 rows × 1 columns</p>\n",
       "</div>"
      ],
      "text/plain": [
       "           mds_fam_id\n",
       "store_nbr            \n",
       "7                6921\n",
       "10               8478\n",
       "13               6300\n",
       "16               6579\n",
       "19               4761\n",
       "...               ...\n",
       "22051            1818\n",
       "22075            1620\n",
       "22087            1350\n",
       "22090            1431\n",
       "26794            4230\n",
       "\n",
       "[4673 rows x 1 columns]"
      ]
     },
     "execution_count": 41,
     "metadata": {},
     "output_type": "execute_result"
    }
   ],
   "source": [
    "df_grpd"
   ]
  },
  {
   "cell_type": "code",
   "execution_count": 42,
   "metadata": {},
   "outputs": [
    {
     "data": {
      "text/html": [
       "<div>\n",
       "<style scoped>\n",
       "    .dataframe tbody tr th:only-of-type {\n",
       "        vertical-align: middle;\n",
       "    }\n",
       "\n",
       "    .dataframe tbody tr th {\n",
       "        vertical-align: top;\n",
       "    }\n",
       "\n",
       "    .dataframe thead th {\n",
       "        text-align: right;\n",
       "    }\n",
       "</style>\n",
       "<table border=\"1\" class=\"dataframe\">\n",
       "  <thead>\n",
       "    <tr style=\"text-align: right;\">\n",
       "      <th></th>\n",
       "      <th>mds_fam_id_count</th>\n",
       "    </tr>\n",
       "    <tr>\n",
       "      <th>store_nbr</th>\n",
       "      <th></th>\n",
       "    </tr>\n",
       "  </thead>\n",
       "  <tbody>\n",
       "    <tr>\n",
       "      <th>7</th>\n",
       "      <td>6921</td>\n",
       "    </tr>\n",
       "    <tr>\n",
       "      <th>10</th>\n",
       "      <td>8478</td>\n",
       "    </tr>\n",
       "    <tr>\n",
       "      <th>13</th>\n",
       "      <td>6300</td>\n",
       "    </tr>\n",
       "    <tr>\n",
       "      <th>16</th>\n",
       "      <td>6579</td>\n",
       "    </tr>\n",
       "    <tr>\n",
       "      <th>19</th>\n",
       "      <td>4761</td>\n",
       "    </tr>\n",
       "    <tr>\n",
       "      <th>...</th>\n",
       "      <td>...</td>\n",
       "    </tr>\n",
       "    <tr>\n",
       "      <th>22051</th>\n",
       "      <td>1818</td>\n",
       "    </tr>\n",
       "    <tr>\n",
       "      <th>22075</th>\n",
       "      <td>1620</td>\n",
       "    </tr>\n",
       "    <tr>\n",
       "      <th>22087</th>\n",
       "      <td>1350</td>\n",
       "    </tr>\n",
       "    <tr>\n",
       "      <th>22090</th>\n",
       "      <td>1431</td>\n",
       "    </tr>\n",
       "    <tr>\n",
       "      <th>26794</th>\n",
       "      <td>4230</td>\n",
       "    </tr>\n",
       "  </tbody>\n",
       "</table>\n",
       "<p>4673 rows × 1 columns</p>\n",
       "</div>"
      ],
      "text/plain": [
       "           mds_fam_id_count\n",
       "store_nbr                  \n",
       "7                      6921\n",
       "10                     8478\n",
       "13                     6300\n",
       "16                     6579\n",
       "19                     4761\n",
       "...                     ...\n",
       "22051                  1818\n",
       "22075                  1620\n",
       "22087                  1350\n",
       "22090                  1431\n",
       "26794                  4230\n",
       "\n",
       "[4673 rows x 1 columns]"
      ]
     },
     "execution_count": 42,
     "metadata": {},
     "output_type": "execute_result"
    }
   ],
   "source": [
    "df_grpd = df_grpd.rename(columns = {'mds_fam_id':'mds_fam_id_count'})\n",
    "df_grpd"
   ]
  },
  {
   "cell_type": "markdown",
   "metadata": {},
   "source": [
    "---\n",
    "### Top 5 store with maximum item sold on given day"
   ]
  },
  {
   "cell_type": "code",
   "execution_count": null,
   "metadata": {},
   "outputs": [],
   "source": [
    "df_grpd.mds_fam_id_count.nlargest(5).to_frame()"
   ]
  },
  {
   "cell_type": "markdown",
   "metadata": {},
   "source": [
    "---\n",
    "#### Total execution time:  \n",
    " = 4.79ms + 1.53s + 3.85s + 4.73s + 2.45s + 15.4s + 1.18s + 183ms  \n",
    " ~ 30s approx."
   ]
  },
  {
   "cell_type": "code",
   "execution_count": null,
   "metadata": {},
   "outputs": [],
   "source": []
  }
 ],
 "metadata": {
  "kernelspec": {
   "display_name": "Python 3",
   "language": "python",
   "name": "python3"
  },
  "language_info": {
   "codemirror_mode": {
    "name": "ipython",
    "version": 3
   },
   "file_extension": ".py",
   "mimetype": "text/x-python",
   "name": "python",
   "nbconvert_exporter": "python",
   "pygments_lexer": "ipython3",
   "version": "3.7.9"
  }
 },
 "nbformat": 4,
 "nbformat_minor": 4
}
