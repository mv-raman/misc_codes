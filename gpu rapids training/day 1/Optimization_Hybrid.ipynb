{
 "cells": [
  {
   "cell_type": "code",
   "execution_count": 1,
   "metadata": {},
   "outputs": [],
   "source": [
    "import math\n",
    "import numpy as np\n",
    "import pandas as pd\n",
    "import platypus as ptp\n",
    "import scipy.optimize as scop"
   ]
  },
  {
   "cell_type": "code",
   "execution_count": 2,
   "metadata": {},
   "outputs": [],
   "source": [
    "def functionCalcScipy(optVar):\n",
    "    x = optVar[0]\n",
    "    y = optVar[1]\n",
    "\n",
    "    num = ((math.sin(x ** 2 - y ** 2)) ** 2 - 0.5)\n",
    "    denom = (1 + 0.001 * (x ** 2 + y ** 2)) ** 2\n",
    "    func = 0.5 + num / denom\n",
    "\n",
    "    return func\n",
    "\n",
    "def functionCalc(optVar):\n",
    "\n",
    "    x = optVar[0]\n",
    "    y = optVar[1]\n",
    "\n",
    "    num = ((math.sin(x ** 2 - y ** 2)) ** 2 - 0.5)\n",
    "    denom = (1 + 0.001 * (x ** 2 + y ** 2)) ** 2\n",
    "    func = 0.5 + num / denom\n",
    "\n",
    "    return [func]"
   ]
  },
  {
   "cell_type": "code",
   "execution_count": 3,
   "metadata": {},
   "outputs": [
    {
     "name": "stdout",
     "output_type": "stream",
     "text": [
      "GA Solution\n",
      "[-0.2276996133203237, 0.25775189712910995] [0.00033103351281138504]\n"
     ]
    }
   ],
   "source": [
    "# define the problem definition\n",
    "nVar = 2\n",
    "nObj = 1\n",
    "\n",
    "# define 3 inputs and 1 objective (and no constraints)\n",
    "problem = ptp.Problem(nVar, nObj)\n",
    "problem.types[:] = ptp.Real(-100, 100)\n",
    "problem.directions[0] = ptp.Problem.MINIMIZE\n",
    "problem.function = functionCalc\n",
    "\n",
    "# problem.constraints[:] = \"<=0\"\n",
    "\n",
    "iteration_history = []\n",
    "\n",
    "with ptp.ProcessPoolEvaluator(12) as evaluator:\n",
    "    algorithm = ptp.GeneticAlgorithm(problem, population_size=20, offspring_size=20, archive=iteration_history,\n",
    "                                     evaluator=evaluator)\n",
    "    algorithm.run(2000)\n",
    "\n",
    "solutionHistory = pd.DataFrame(iteration_history)\n",
    "solutionHistory.to_csv(\"IterationHistory.csv\")\n",
    "\n",
    "# display the results\n",
    "\n",
    "print(\"GA Solution\")\n",
    "for solution in ptp.unique(ptp.nondominated(algorithm.result)):\n",
    "    print(solution.variables, solution.objectives)"
   ]
  },
  {
   "cell_type": "code",
   "execution_count": 4,
   "metadata": {},
   "outputs": [
    {
     "name": "stdout",
     "output_type": "stream",
     "text": [
      "Optimization terminated successfully.\n",
      "         Current function value: 0.000000\n",
      "         Iterations: 24\n",
      "         Function evaluations: 108\n",
      "         Gradient evaluations: 27\n",
      "After Local Search Solution\n",
      "      fun: 1.1472472971618686e-10\n",
      " hess_inv: array([[369.95311436, -87.50435605],\n",
      "       [-87.50435605, 439.67190278]])\n",
      "      jac: array([5.51342964e-07, 3.72529030e-07])\n",
      "  message: 'Optimization terminated successfully.'\n",
      "     nfev: 108\n",
      "      nit: 24\n",
      "     njev: 27\n",
      "   status: 0\n",
      "  success: True\n",
      "        x: array([0.00028064, 0.00018964])\n"
     ]
    }
   ],
   "source": [
    "x_ini_guess = solution.variables\n",
    "\n",
    "#res = scop.minimize(functionCalcScipy, x_ini_guess, method='nelder-mead')\n",
    "res = scop.minimize(functionCalcScipy, x_ini_guess, method='BFGS', options={'gtol': 1e-6, 'disp': True})\n",
    "print(\"After Local Search Solution\")\n",
    "print(res)"
   ]
  }
 ],
 "metadata": {
  "kernelspec": {
   "display_name": "Python 3",
   "language": "python",
   "name": "python3"
  },
  "language_info": {
   "codemirror_mode": {
    "name": "ipython",
    "version": 3
   },
   "file_extension": ".py",
   "mimetype": "text/x-python",
   "name": "python",
   "nbconvert_exporter": "python",
   "pygments_lexer": "ipython3",
   "version": "3.6.8"
  }
 },
 "nbformat": 4,
 "nbformat_minor": 4
}
