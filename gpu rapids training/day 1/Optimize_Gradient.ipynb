{
 "cells": [
  {
   "cell_type": "code",
   "execution_count": 4,
   "metadata": {},
   "outputs": [],
   "source": [
    "import math\n",
    "import numpy as np\n",
    "import scipy.optimize as scop"
   ]
  },
  {
   "cell_type": "code",
   "execution_count": 5,
   "metadata": {},
   "outputs": [],
   "source": [
    "def schafferFunction(Var):\n",
    "    x = Var[0]\n",
    "    y = Var[1]\n",
    "\n",
    "    num = ((math.sin(x ** 2 - y ** 2)) ** 2 - 0.5)\n",
    "    denom = (1 + 0.001 * (x ** 2 + y ** 2)) ** 2\n",
    "    func = 0.5 + num/denom\n",
    "\n",
    "    return func"
   ]
  },
  {
   "cell_type": "code",
   "execution_count": 6,
   "metadata": {},
   "outputs": [
    {
     "name": "stdout",
     "output_type": "stream",
     "text": [
      "Optimization terminated successfully.\n",
      "         Current function value: 0.000000\n",
      "         Iterations: 5\n",
      "         Function evaluations: 36\n",
      "         Gradient evaluations: 9\n",
      "Solution\n",
      "      fun: 2.6187940704858192e-12\n",
      " hess_inv: array([[250.92688868, 249.92688868],\n",
      "       [249.92688868, 250.92688868]])\n",
      "      jac: array([-7.4505806e-08, -7.4505806e-08])\n",
      "  message: 'Optimization terminated successfully.'\n",
      "     nfev: 36\n",
      "      nit: 5\n",
      "     njev: 9\n",
      "   status: 0\n",
      "  success: True\n",
      "        x: array([-3.61856676e-05, -3.61856676e-05])\n"
     ]
    }
   ],
   "source": [
    "# Optimize the function\n",
    "x0 = np.array([5, 5])\n",
    "\n",
    "# res = scop.minimize(schafferFunction, x0, method='nelder-mead')\n",
    "res = scop.minimize(schafferFunction, x0, method='BFGS', options={'gtol': 1e-6, 'disp': True})\n",
    "print(\"Solution\")\n",
    "print(res)\n"
   ]
  },
  {
   "cell_type": "code",
   "execution_count": null,
   "metadata": {},
   "outputs": [],
   "source": []
  }
 ],
 "metadata": {
  "kernelspec": {
   "display_name": "Python 3",
   "language": "python",
   "name": "python3"
  },
  "language_info": {
   "codemirror_mode": {
    "name": "ipython",
    "version": 3
   },
   "file_extension": ".py",
   "mimetype": "text/x-python",
   "name": "python",
   "nbconvert_exporter": "python",
   "pygments_lexer": "ipython3",
   "version": "3.6.8"
  }
 },
 "nbformat": 4,
 "nbformat_minor": 4
}
