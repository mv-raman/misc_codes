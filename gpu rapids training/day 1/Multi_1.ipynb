{
 "cells": [
  {
   "cell_type": "code",
   "execution_count": 1,
   "metadata": {},
   "outputs": [],
   "source": [
    "import pandas as pd\n",
    "import platypus as ptp\n",
    "import matplotlib.pyplot as plt"
   ]
  },
  {
   "cell_type": "code",
   "execution_count": 2,
   "metadata": {},
   "outputs": [],
   "source": [
    "def functionCalc(optVar):\n",
    "\n",
    "    x = optVar[0]\n",
    "\n",
    "    f1 = x*x\n",
    "    f2 = (x - 2)**2\n",
    "\n",
    "    return [f1, f2]"
   ]
  },
  {
   "cell_type": "code",
   "execution_count": 3,
   "metadata": {},
   "outputs": [],
   "source": [
    "# define the problem definition\n",
    "nVar = 1\n",
    "nObj = 2\n",
    "\n",
    "# define 3 inputs and 1 objective (and no constraints)\n",
    "problem = ptp.Problem(nVar, nObj)\n",
    "problem.types[:] = ptp.Real(-10, 10)\n",
    "problem.directions[0] = ptp.Problem.MINIMIZE\n",
    "problem.function = functionCalc\n",
    "\n",
    "# problem.constraints[:] = \"<=0\"\n",
    "\n",
    "iteration_history = []\n",
    "\n",
    "with ptp.ProcessPoolEvaluator(12) as evaluator:\n",
    "    algorithm = ptp.NSGAII(problem,\n",
    "                       population_size=20,\n",
    "                       variator=ptp.GAOperator(ptp.SBX(probability=0.9,\n",
    "                                                         distribution_index=20),\n",
    "                                                 ptp.PM(probability=0.1,\n",
    "                                                        distribution_index=10)),\n",
    "                       evaluator=evaluator,\n",
    "                       archive=iteration_history)\n",
    "    algorithm.run(1000)\n",
    "\n",
    "solutionHistory = pd.DataFrame(iteration_history)\n",
    "solutionHistory.to_csv(\"IterationHistory.csv\")\n",
    "\n",
    "nondominated_solutions = ptp.nondominated(algorithm.result)"
   ]
  },
  {
   "cell_type": "code",
   "execution_count": 4,
   "metadata": {},
   "outputs": [
    {
     "name": "stdout",
     "output_type": "stream",
     "text": [
      "Algo Done Plotting\n"
     ]
    },
    {
     "data": {
      "image/png": "[encoded data removed]",
      "text/plain": [
       "<Figure size 288x288 with 1 Axes>"
      ]
     },
     "metadata": {},
     "output_type": "display_data"
    }
   ],
   "source": [
    "print('Algo Done Plotting')\n",
    "# display the results\n",
    "fig = plt.figure(figsize=(4, 4))\n",
    "ax = fig.add_subplot(111)\n",
    "ax.scatter([s.objectives[0] for s in algorithm.result],\n",
    "            [s.objectives[1] for s in algorithm.result])\n",
    "\n",
    "ax.scatter([s.objectives[0] for s in nondominated_solutions],\n",
    "           [s.objectives[1] for s in nondominated_solutions])\n",
    "plt.xlabel(\"$f_1(x)$\")\n",
    "plt.ylabel(\"$f_2(x)$\")\n",
    "plt.xlim(-2, 20)\n",
    "plt.ylim(-2, 20)\n",
    "plt.show()"
   ]
  }
 ],
 "metadata": {
  "kernelspec": {
   "display_name": "Python 3",
   "language": "python",
   "name": "python3"
  },
  "language_info": {
   "codemirror_mode": {
    "name": "ipython",
    "version": 3
   },
   "file_extension": ".py",
   "mimetype": "text/x-python",
   "name": "python",
   "nbconvert_exporter": "python",
   "pygments_lexer": "ipython3",
   "version": "3.6.8"
  }
 },
 "nbformat": 4,
 "nbformat_minor": 4
}
