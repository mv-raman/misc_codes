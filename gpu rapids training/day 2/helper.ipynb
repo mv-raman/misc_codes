{
 "cells": [
  {
   "cell_type": "code",
   "execution_count": null,
   "id": "aquatic-norway",
   "metadata": {},
   "outputs": [],
   "source": [
    "from cudf import DataFrame\n",
    "import cudf\n",
    "import math\n",
    "from math import log\n",
    "import nvstrings, nvcategory\n",
    "from numba import cuda, float32\n",
    "import time\n",
    "import rmm \n",
    "import numpy as np\n",
    "from cudf.utils import cudautils"
   ]
  },
  {
   "cell_type": "markdown",
   "id": "level-toilet",
   "metadata": {},
   "source": [
    "### Q5. Series UDFs: example using forall API \n",
    "(reference link: https://docs.rapids.ai/api/cudf/stable/guide-to-udfs.html#Numba-Kernels-on-CuPy-Arrays#:~:text=The%20easiest%20way%20to,on%20our%20Series)"
   ]
  },
  {
   "cell_type": "code",
   "execution_count": null,
   "id": "apart-rachel",
   "metadata": {},
   "outputs": [],
   "source": [
    "@cuda.jit\n",
    "def add(in_col, out_col, num):\n",
    "    i = cuda.grid(1)\n",
    "    if i < in_col.size: # boundary guard\n",
    "        out_col[i] = in_col[i] + num"
   ]
  },
  {
   "cell_type": "code",
   "execution_count": null,
   "id": "electric-dublin",
   "metadata": {},
   "outputs": [],
   "source": [
    "n = 1000 # data size\n",
    "a = cudf.Series(cudautils.zeros(n, dtype='float32'))\n",
    "e = cudf.Series(cudautils.zeros(n, dtype='float32'))\n",
    "add.forall(n)(a, e, 10.0)"
   ]
  },
  {
   "cell_type": "markdown",
   "id": "pursuant-guard",
   "metadata": {},
   "source": [
    "### Q6. DataFrame UDFs: example using forall\n",
    "(reference link: https://docs.rapids.ai/api/cudf/stable/guide-to-udfs.html#Numba-Kernels-on-CuPy-Arrays#:~:text=The%20easiest%20way%20to,on%20our%20Series)"
   ]
  },
  {
   "cell_type": "code",
   "execution_count": null,
   "id": "level-gabriel",
   "metadata": {},
   "outputs": [],
   "source": [
    "@cuda.jit\n",
    "def multiply_1(in_col, out_col, multiplier):\n",
    "    i = cuda.grid(1)\n",
    "    if i < in_col.size: # boundary guard\n",
    "        out_col[i] = in_col[i] * multiplier"
   ]
  },
  {
   "cell_type": "code",
   "execution_count": null,
   "id": "blank-visibility",
   "metadata": {},
   "outputs": [],
   "source": [
    "df = cudf.DataFrame({'a':[1,2]*50})\n",
    "df['e'] = 0\n",
    "size = df.shape[0]\n",
    "multiply_1.forall(size)(df['a'], df['e'], 10.0)"
   ]
  },
  {
   "cell_type": "markdown",
   "id": "oriented-desire",
   "metadata": {},
   "source": [
    "### Q7. DataFrame UDFs: example using apply_rows\n",
    "(reference link: https://docs.rapids.ai/api/cudf/stable/guide-to-udfs.html#Numba-Kernels-on-CuPy-Arrays#:~:text=We%20could%20apply%20a%20UDF,on%20the%20core%20data%20structures%20of%20cuDF"
   ]
  },
  {
   "cell_type": "code",
   "execution_count": null,
   "id": "supreme-investing",
   "metadata": {},
   "outputs": [],
   "source": [
    "def multiply_2(x, e, multiplier):\n",
    "    for i, a in enumerate(x):\n",
    "        e[i] = a * multiplier\n",
    "        "
   ]
  },
  {
   "cell_type": "code",
   "execution_count": null,
   "id": "confident-dressing",
   "metadata": {},
   "outputs": [],
   "source": [
    "df = cudf.DataFrame({'a':[1,2]*50})\n",
    "df = df.apply_rows(multiply_2,\n",
    "                   incols={'a':'x'},\n",
    "                   outcols={'e': np.float64},\n",
    "                   kwargs={'multiplier':3}\n",
    "                  )"
   ]
  }
 ],
 "metadata": {
  "kernelspec": {
   "display_name": "Python 3",
   "language": "python",
   "name": "python3"
  },
  "language_info": {
   "codemirror_mode": {
    "name": "ipython",
    "version": 3
   },
   "file_extension": ".py",
   "mimetype": "text/x-python",
   "name": "python",
   "nbconvert_exporter": "python",
   "pygments_lexer": "ipython3",
   "version": "3.6.12"
  }
 },
 "nbformat": 4,
 "nbformat_minor": 5
}
