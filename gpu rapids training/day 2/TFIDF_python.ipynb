{
 "cells": [
  {
   "cell_type": "code",
   "execution_count": 5,
   "id": "going-europe",
   "metadata": {},
   "outputs": [
    {
     "name": "stderr",
     "output_type": "stream",
     "text": [
      "[nltk_data] Downloading package punkt to /root/nltk_data...\n",
      "[nltk_data]   Package punkt is already up-to-date!\n",
      "[nltk_data] Downloading package stopwords to /root/nltk_data...\n",
      "[nltk_data]   Package stopwords is already up-to-date!\n"
     ]
    }
   ],
   "source": [
    "import numpy as np\n",
    "import pandas as pd\n",
    "from nltk.tokenize import word_tokenize, sent_tokenize\n",
    "import math\n",
    "import nltk\n",
    "nltk.download('punkt')\n",
    "import re\n",
    "nltk.download('stopwords')\n",
    "from nltk.corpus import stopwords\n",
    "from nltk.stem.porter import PorterStemmer\n",
    "from cudf import DataFrame\n",
    "import nvstrings, nvcategory\n"
   ]
  },
  {
   "cell_type": "code",
   "execution_count": 6,
   "id": "designing-amazon",
   "metadata": {},
   "outputs": [
    {
     "name": "stdout",
     "output_type": "stream",
     "text": [
      "CPU times: user 17.5 s, sys: 23.6 ms, total: 17.5 s\n",
      "Wall time: 17.5 s\n"
     ]
    },
    {
     "data": {
      "text/plain": [
       "[{'doc_id': 1, 'TFIDF_score': 0.0, 'key': 'the'},\n",
       " {'doc_id': 1, 'TFIDF_score': 0.09902102579427789, 'key': 'man'},\n",
       " {'doc_id': 1, 'TFIDF_score': 0.09902102579427789, 'key': 'went'},\n",
       " {'doc_id': 1, 'TFIDF_score': 0.09902102579427789, 'key': 'out'},\n",
       " {'doc_id': 1, 'TFIDF_score': 0.09902102579427789, 'key': 'for'}]"
      ]
     },
     "execution_count": 6,
     "metadata": {},
     "output_type": "execute_result"
    }
   ],
   "source": [
    "%%time\n",
    "\n",
    "def count_words(sent):\n",
    "    count = 0\n",
    "    words = word_tokenize(sent)\n",
    "    for word in words:\n",
    "        count += 1\n",
    "    return count\n",
    "\n",
    "\n",
    "def get_doc(corpus):\n",
    "    doc_info = []\n",
    "    i = 0\n",
    "    for i in range(0,len(corpus)):      \n",
    "        count = count_words(corpus[i])\n",
    "        temp = {'doc_id':i, 'doc_length' : count}\n",
    "        doc_info.append(temp)\n",
    "        i += 1\n",
    "    return doc_info\n",
    "\n",
    "\n",
    "def create_freq_dict(sents):\n",
    "    i = 0\n",
    "    freqDict_list = []\n",
    "    for sent in sents:\n",
    "        i += 1\n",
    "        freq_dict = {}\n",
    "        words = word_tokenize(sent)\n",
    "        for word in words:\n",
    "            word = word.lower()\n",
    "            if word in freq_dict:\n",
    "                freq_dict[word] += 1\n",
    "            else:\n",
    "                freq_dict[word] = 1\n",
    "            temp = {'doc_id': i, 'freq_dict': freq_dict}\n",
    "        freqDict_list.append(temp)\n",
    "    return freqDict_list\n",
    "\n",
    "\n",
    "def computeTF(doc_info, freqDict_list):\n",
    "    \"\"\"\n",
    "    tf = (frequency of the term in the doc/total number of terms in the doc)\n",
    "    \"\"\"\n",
    "    TF_scores = []\n",
    "    for tempDict in freqDict_list:\n",
    "        id = tempDict['doc_id']\n",
    "        for k in tempDict['freq_dict']:\n",
    "            temp = {'doc_id': id,\n",
    "                    'TF_score': tempDict['freq_dict'][k]/doc_info[id-1]['doc_length'],\n",
    "                    'key': k}\n",
    "            TF_scores.append(temp)\n",
    "    return TF_scores\n",
    "\n",
    "def computeIDF(doc_info, freqDict_list):\n",
    "    \"\"\"\n",
    "    idf = ln(total number of docs/number of docs with term in it)\n",
    "    \"\"\"\n",
    "    IDF_scores = []\n",
    "    counter = 0\n",
    "    for dict in freqDict_list:\n",
    "        counter += 1\n",
    "        for k in dict['freq_dict'].keys():\n",
    "            count = sum([k in tempDict['freq_dict'] for tempDict in freqDict_list])\n",
    "            temp = {'doc_id': counter, 'IDF_score': math.log(len(doc_info)/count), 'key' : k}\n",
    "            \n",
    "            IDF_scores.append(temp)\n",
    "            \n",
    "    return IDF_scores\n",
    "\n",
    "\n",
    "def computeTFIDF(TF_scores, IDF_scores):\n",
    "    TFIDF_scores = []\n",
    "    for j in IDF_scores:\n",
    "        for i in TF_scores:\n",
    "            if j['key'] == i['key'] and j['doc_id'] == i['doc_id']:\n",
    "                temp = {'doc_id': j['doc_id'],\n",
    "                        'TFIDF_score': j['IDF_score']*i['TF_score'],\n",
    "                        'key': i['key']}\n",
    "                TFIDF_scores.append(temp)\n",
    "    return TFIDF_scores\n",
    "\n",
    "# 1.6M data\n",
    "# text_sents_clean = list(pd.read_csv('/data/tweet_data.csv', delimiter=',', names=['note'],skiprows=1).note)\n",
    "\n",
    "# 1k data\n",
    "text_sents_clean = list(pd.read_csv('/data/note1000.csv', delimiter=',', names=['note'],skiprows=1).note)\n",
    "doc_info = get_doc(text_sents_clean)\n",
    "freqDict_list = create_freq_dict(text_sents_clean)\n",
    "TF_scores = computeTF(doc_info, freqDict_list)\n",
    "IDF_scores = computeIDF(doc_info, freqDict_list)\n",
    "TFIDF_scores = computeTFIDF(TF_scores, IDF_scores)\n",
    "TFIDF_scores[:5]"
   ]
  },
  {
   "cell_type": "code",
   "execution_count": null,
   "id": "engaging-connection",
   "metadata": {},
   "outputs": [],
   "source": []
  }
 ],
 "metadata": {
  "kernelspec": {
   "display_name": "Python 3",
   "language": "python",
   "name": "python3"
  },
  "language_info": {
   "codemirror_mode": {
    "name": "ipython",
    "version": 3
   },
   "file_extension": ".py",
   "mimetype": "text/x-python",
   "name": "python",
   "nbconvert_exporter": "python",
   "pygments_lexer": "ipython3",
   "version": "3.6.12"
  }
 },
 "nbformat": 4,
 "nbformat_minor": 5
}
