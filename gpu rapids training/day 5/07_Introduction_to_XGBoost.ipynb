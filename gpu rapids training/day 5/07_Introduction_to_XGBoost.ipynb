{
 "cells": [
  {
   "cell_type": "markdown",
   "metadata": {},
   "source": [
    "<a id=\"introduction\"></a>\n",
    "## Introduction to XGBoost\n",
    "#### By Paul Hendricks\n",
    "-------\n",
    "\n",
    "In this notebook, we will show how to work with GPU accelerated XGBoost in RAPIDS.\n",
    "\n",
    "**Table of Contents**\n",
    "\n",
    "* [Introduction to XGBoost](#introduction)\n",
    "* [Setup](#setup)\n",
    "* [Load Libraries](#libraries)\n",
    "* [Generate Data](#generate)\n",
    "  * [Load Data](#load)\n",
    "  * [Simulate Data](#simulate)\n",
    "  * [Split Data](#split)\n",
    "  * [Check Dimensions](#check)\n",
    "* [Convert NumPy data to DMatrix format](#convert)\n",
    "* [Set Parameters](#parameters)\n",
    "* [Train Model](#train)\n",
    "* [Conclusion](#conclusion)"
   ]
  },
  {
   "cell_type": "markdown",
   "metadata": {},
   "source": [
    "<a id=\"setup\"></a>\n",
    "## Setup\n",
    "\n",
    "This notebook was tested using the following Docker containers:\n",
    "\n",
    "* `rapidsai/rapidsai-dev-nightly:0.10-cuda10.0-devel-ubuntu18.04-py3.7` container from [DockerHub](https://hub.docker.com/r/rapidsai/rapidsai-nightly)\n",
    "\n",
    "This notebook was run on the NVIDIA GV100 GPU. Please be aware that your system may be different and you may need to modify the code or install packages to run the below examples. \n",
    "\n",
    "If you think you have found a bug or an error, please file an issue here: https://github.com/rapidsai/notebooks-contrib/issues\n",
    "\n",
    "Before we begin, let's check out our hardware setup by running the `nvidia-smi` command."
   ]
  },
  {
   "cell_type": "code",
   "execution_count": 1,
   "metadata": {
    "ExecuteTime": {
     "end_time": "2018-11-06T21:03:38.237293Z",
     "start_time": "2018-11-06T21:03:37.388285Z"
    }
   },
   "outputs": [
    {
     "name": "stdout",
     "output_type": "stream",
     "text": [
      "Fri Feb 19 17:42:17 2021       \n",
      "+-----------------------------------------------------------------------------+\n",
      "| NVIDIA-SMI 455.23.05    Driver Version: 455.23.05    CUDA Version: 11.1     |\n",
      "|-------------------------------+----------------------+----------------------+\n",
      "| GPU  Name        Persistence-M| Bus-Id        Disp.A | Volatile Uncorr. ECC |\n",
      "| Fan  Temp  Perf  Pwr:Usage/Cap|         Memory-Usage | GPU-Util  Compute M. |\n",
      "|                               |                      |               MIG M. |\n",
      "|===============================+======================+======================|\n",
      "|   0  Tesla V100-SXM2...  On   | 00000000:3B:00.0 Off |                    0 |\n",
      "| N/A   41C    P0    59W / 300W |   2581MiB / 32510MiB |      0%      Default |\n",
      "|                               |                      |                  N/A |\n",
      "+-------------------------------+----------------------+----------------------+\n",
      "                                                                               \n",
      "+-----------------------------------------------------------------------------+\n",
      "| Processes:                                                                  |\n",
      "|  GPU   GI   CI        PID   Type   Process name                  GPU Memory |\n",
      "|        ID   ID                                                   Usage      |\n",
      "|=============================================================================|\n",
      "+-----------------------------------------------------------------------------+\n"
     ]
    }
   ],
   "source": [
    "!nvidia-smi"
   ]
  },
  {
   "cell_type": "markdown",
   "metadata": {},
   "source": [
    "Next, let's see what CUDA version we have."
   ]
  },
  {
   "cell_type": "code",
   "execution_count": 2,
   "metadata": {
    "ExecuteTime": {
     "end_time": "2018-11-06T21:03:39.490984Z",
     "start_time": "2018-11-06T21:03:39.134608Z"
    }
   },
   "outputs": [
    {
     "name": "stdout",
     "output_type": "stream",
     "text": [
      "/bin/sh: 1: nvcc: not found\r\n"
     ]
    }
   ],
   "source": [
    "!nvcc --version"
   ]
  },
  {
   "cell_type": "markdown",
   "metadata": {},
   "source": [
    "<a id=\"libraries\"></a>\n",
    "## Load Libraries\n",
    "\n",
    "Let's load some of the libraries within the RAPIDs ecosystem and see which versions we have."
   ]
  },
  {
   "cell_type": "code",
   "execution_count": 3,
   "metadata": {
    "ExecuteTime": {
     "end_time": "2018-11-06T21:03:41.067879Z",
     "start_time": "2018-11-06T21:03:40.256654Z"
    }
   },
   "outputs": [
    {
     "name": "stdout",
     "output_type": "stream",
     "text": [
      "numpy Version: 1.19.4\n",
      "pandas Version: 1.1.4\n",
      "Scikit-Learn Version: 0.23.1\n",
      "XGBoost Version: 1.3.0\n"
     ]
    }
   ],
   "source": [
    "import numpy as np; print('numpy Version:', np.__version__)\n",
    "import pandas as pd; print('pandas Version:', pd.__version__)\n",
    "import sklearn; print('Scikit-Learn Version:', sklearn.__version__)\n",
    "import xgboost as xgb; print('XGBoost Version:', xgb.__version__)"
   ]
  },
  {
   "cell_type": "markdown",
   "metadata": {},
   "source": [
    "<a id=\"generate\"></a>\n",
    "## Generate Data\n",
    "\n",
    "<a id=\"load\"></a>\n",
    "### Load Data\n",
    "\n",
    "We can load the data using `pandas.read_csv`. We've provided a helper function `load_data` that will load data from a CSV file (and will only read the first 1 billion rows if that file is unreasonably big)."
   ]
  },
  {
   "cell_type": "code",
   "execution_count": 4,
   "metadata": {},
   "outputs": [],
   "source": [
    "# helper function for loading data\n",
    "def load_data(filename, n_rows):\n",
    "    if n_rows >= 1e9:\n",
    "        df = pd.read_csv(filename)\n",
    "    else:\n",
    "        df = pd.read_csv(filename, nrows=n_rows)\n",
    "    return df.values.astype(np.float32)"
   ]
  },
  {
   "cell_type": "markdown",
   "metadata": {},
   "source": [
    "<a id=\"simulate\"></a>\n",
    "### Simulate Data\n",
    "\n",
    "Alternatively, we can simulate data for our train and validation datasets. The features will be tabular with `n_rows` and `n_columns` in the training dataset, where each value is either of type `np.float32`. We can simulate data for both classification and regression using the `make_classification` or `make_regression` functions from the Scikit-Learn package."
   ]
  },
  {
   "cell_type": "code",
   "execution_count": 5,
   "metadata": {},
   "outputs": [],
   "source": [
    "from sklearn.datasets import make_classification, make_regression\n",
    "\n",
    "\n",
    "# helper function for simulating data\n",
    "def simulate_data(m, n, k=2, random_state=None, classification=True):\n",
    "    if classification:\n",
    "        features, labels = make_classification(n_samples=m, n_features=n, \n",
    "                                               n_informative=int(n/5), n_classes=k, \n",
    "                                              random_state=random_state)\n",
    "    else:\n",
    "        features, labels = make_regression(n_samples=m, n_features=n, \n",
    "                                           n_informative=int(n/5), n_targets=1, \n",
    "                                           random_state=random_state)\n",
    "    return np.c_[labels, features].astype(np.float32)"
   ]
  },
  {
   "cell_type": "code",
   "execution_count": 6,
   "metadata": {},
   "outputs": [],
   "source": [
    "# settings\n",
    "simulate = True\n",
    "classification = True  # change this to false to use regression\n",
    "n_rows = int(1e6)  # we'll use 1 millions rows\n",
    "n_columns = int(100)\n",
    "n_categories = 2\n",
    "random_state = np.random.RandomState(43210)"
   ]
  },
  {
   "cell_type": "code",
   "execution_count": 7,
   "metadata": {},
   "outputs": [
    {
     "name": "stdout",
     "output_type": "stream",
     "text": [
      "(1000000, 101)\n",
      "CPU times: user 18.4 s, sys: 23.9 s, total: 42.4 s\n",
      "Wall time: 7.26 s\n"
     ]
    }
   ],
   "source": [
    "%%time\n",
    "\n",
    "if simulate:\n",
    "    dataset = simulate_data(n_rows, n_columns, n_categories, \n",
    "                            random_state=random_state, \n",
    "                            classification=classification)\n",
    "else:\n",
    "    dataset = load_data('/tmp', n_rows)\n",
    "print(dataset.shape)"
   ]
  },
  {
   "cell_type": "markdown",
   "metadata": {},
   "source": [
    "<a id=\"split\"></a>\n",
    "### Split Data\n",
    "\n",
    "We'll split our dataset into a 80% training dataset and a 20% validation dataset."
   ]
  },
  {
   "cell_type": "code",
   "execution_count": 8,
   "metadata": {},
   "outputs": [],
   "source": [
    "# identify shape and indices\n",
    "n_rows, n_columns = dataset.shape\n",
    "train_size = 0.80\n",
    "train_index = int(n_rows * train_size)\n",
    "\n",
    "# split X, y\n",
    "X, y = dataset[:, 1:], dataset[:, 0]\n",
    "del dataset\n",
    "\n",
    "# split train data\n",
    "X_train, y_train = X[:train_index, :], y[:train_index]\n",
    "\n",
    "# split validation data\n",
    "X_validation, y_validation = X[train_index:, :], y[train_index:]"
   ]
  },
  {
   "cell_type": "markdown",
   "metadata": {},
   "source": [
    "<a id=\"check\"></a>\n",
    "### Check Dimensions\n",
    "\n",
    "We can check the dimensions and proportions of our training and validation dataets."
   ]
  },
  {
   "cell_type": "code",
   "execution_count": 9,
   "metadata": {},
   "outputs": [
    {
     "name": "stdout",
     "output_type": "stream",
     "text": [
      "X_train:  (800000, 100) float32 y_train:  (800000,) float32\n",
      "X_validation (200000, 100) float32 y_validation:  (200000,) float32\n",
      "X_train proportion: 0.8\n",
      "X_validation proportion: 0.2\n"
     ]
    }
   ],
   "source": [
    "# check dimensions\n",
    "print('X_train: ', X_train.shape, X_train.dtype, 'y_train: ', y_train.shape, y_train.dtype)\n",
    "print('X_validation', X_validation.shape, X_validation.dtype, 'y_validation: ', y_validation.shape, y_validation.dtype)\n",
    "\n",
    "# check the proportions\n",
    "total = X_train.shape[0] + X_validation.shape[0]\n",
    "print('X_train proportion:', X_train.shape[0] / total)\n",
    "print('X_validation proportion:', X_validation.shape[0] / total)"
   ]
  },
  {
   "cell_type": "markdown",
   "metadata": {},
   "source": [
    "<a id=\"convert\"></a>\n",
    "## Convert NumPy data to DMatrix format\n",
    "\n",
    "With out data loaded and formatted as NumPy arrays, our next step is to convert this to a `DMatrix` object that XGBoost can work with. We can instantiate an object of the `xgboost.DMatrix` by passing in the feature matrix as the first argument followed by the label vector using the `label=` keyword argument. To learn more about XGBoost's support for data structures other than NumPy arrays, see the documentation for the Data Interface:\n",
    "\n",
    "\n",
    "https://xgboost.readthedocs.io/en/latest/python/python_intro.html#data-interface"
   ]
  },
  {
   "cell_type": "code",
   "execution_count": 10,
   "metadata": {
    "ExecuteTime": {
     "end_time": "2018-11-06T21:03:55.278322Z",
     "start_time": "2018-11-06T21:03:54.059643Z"
    }
   },
   "outputs": [
    {
     "name": "stdout",
     "output_type": "stream",
     "text": [
      "CPU times: user 23.3 s, sys: 1.67 s, total: 25 s\n",
      "Wall time: 1.09 s\n"
     ]
    },
    {
     "name": "stderr",
     "output_type": "stream",
     "text": [
      "/opt/conda/envs/rapids/lib/python3.7/site-packages/xgboost/data.py:106: UserWarning: Use subset (sliced data) of np.ndarray is not recommended because it will generate extra copies and increase memory consumption\n",
      "  \"because it will generate extra copies and increase \" +\n"
     ]
    }
   ],
   "source": [
    "%%time\n",
    "\n",
    "dtrain = xgb.DMatrix(X_train, label=y_train)\n",
    "dvalidation = xgb.DMatrix(X_validation, label=y_validation)"
   ]
  },
  {
   "cell_type": "markdown",
   "metadata": {},
   "source": [
    "<a id=\"parameters\"></a>\n",
    "## Set Parameters\n",
    "\n",
    "There are a number of parameters that can be set before XGBoost can be run. \n",
    "\n",
    "* General parameters relate to which booster we are using to do boosting, commonly tree or linear model\n",
    "* Booster parameters depend on which booster you have chosen\n",
    "* Learning task parameters decide on the learning scenario. For example, regression tasks may use different parameters with ranking tasks.\n",
    "\n",
    "For more information on the configurable parameters within the XGBoost module, see the documentation here:\n",
    "\n",
    "\n",
    "https://xgboost.readthedocs.io/en/latest/parameter.html"
   ]
  },
  {
   "cell_type": "code",
   "execution_count": 11,
   "metadata": {
    "ExecuteTime": {
     "end_time": "2018-11-06T21:03:57.443698Z",
     "start_time": "2018-11-06T21:03:57.438288Z"
    }
   },
   "outputs": [
    {
     "name": "stdout",
     "output_type": "stream",
     "text": [
      "{'silent': 1, 'tree_method': 'gpu_hist', 'n_gpus': 1, 'eval_metric': 'auc', 'objective': 'binary:logistic'}\n"
     ]
    }
   ],
   "source": [
    "# instantiate params\n",
    "params = {}\n",
    "\n",
    "# general params\n",
    "general_params = {'silent': 1}\n",
    "params.update(general_params)\n",
    "\n",
    "# booster params\n",
    "n_gpus = 1  # change this to -1 to use all GPUs available or 0 to use the CPU\n",
    "booster_params = {}\n",
    "\n",
    "if n_gpus != 0:\n",
    "    booster_params['tree_method'] = 'gpu_hist'\n",
    "    booster_params['n_gpus'] = n_gpus   \n",
    "params.update(booster_params)\n",
    "\n",
    "# learning task params\n",
    "learning_task_params = {}\n",
    "if classification:\n",
    "    learning_task_params['eval_metric'] = 'auc'\n",
    "    learning_task_params['objective'] = 'binary:logistic'\n",
    "else:\n",
    "    learning_task_params['eval_metric'] = 'rmse'\n",
    "    learning_task_params['objective'] = 'reg:squarederror'\n",
    "params.update(learning_task_params)\n",
    "print(params)"
   ]
  },
  {
   "cell_type": "markdown",
   "metadata": {},
   "source": [
    "<a id=\"train\"></a>\n",
    "## Train Model\n",
    "\n",
    "Now it's time to train our model! We can use the `xgb.train` function and pass in the parameters, training dataset, the number of boosting iterations, and the list of items to be evaluated during training. For more information on the parameters that can be passed into `xgb.train`, check out the documentation:\n",
    "\n",
    "\n",
    "https://xgboost.readthedocs.io/en/latest/python/python_api.html#xgboost.train"
   ]
  },
  {
   "cell_type": "code",
   "execution_count": 12,
   "metadata": {},
   "outputs": [],
   "source": [
    "# model training settings\n",
    "evallist = [(dvalidation, 'validation'), (dtrain, 'train')]\n",
    "num_round = 100"
   ]
  },
  {
   "cell_type": "code",
   "execution_count": 13,
   "metadata": {
    "ExecuteTime": {
     "end_time": "2018-11-06T21:04:50.201308Z",
     "start_time": "2018-11-06T21:04:00.363740Z"
    },
    "scrolled": true
   },
   "outputs": [
    {
     "name": "stdout",
     "output_type": "stream",
     "text": [
      "[17:43:41] WARNING: /opt/conda/envs/rapids/conda-bld/xgboost_1607463112280/work/include/xgboost/generic_parameters.h:39: \n",
      "n_gpus: \n",
      "\tDeprecated. Single process multi-GPU training is no longer supported.\n",
      "\tPlease switch to distributed training with one process per GPU.\n",
      "\tThis can be done using Dask or Spark.  See documentation for details.\n",
      "[17:43:41] WARNING: /opt/conda/envs/rapids/conda-bld/xgboost_1607463112280/work/src/learner.cc:541: \n",
      "Parameters: { silent } might not be used.\n",
      "\n",
      "  This may not be accurate due to some parameters are only used in language bindings but\n",
      "  passed down to XGBoost core.  Or some parameters are not used but slip through this\n",
      "  verification. Please open an issue if you find above cases.\n",
      "\n",
      "\n",
      "[0]\tvalidation-auc:0.89151\ttrain-auc:0.89287\n",
      "[1]\tvalidation-auc:0.91919\ttrain-auc:0.92031\n",
      "[2]\tvalidation-auc:0.93933\ttrain-auc:0.94059\n",
      "[3]\tvalidation-auc:0.94889\ttrain-auc:0.95029\n",
      "[4]\tvalidation-auc:0.95480\ttrain-auc:0.95607\n",
      "[5]\tvalidation-auc:0.96132\ttrain-auc:0.96256\n",
      "[6]\tvalidation-auc:0.96544\ttrain-auc:0.96675\n",
      "[7]\tvalidation-auc:0.96826\ttrain-auc:0.96955\n",
      "[8]\tvalidation-auc:0.97146\ttrain-auc:0.97269\n",
      "[9]\tvalidation-auc:0.97340\ttrain-auc:0.97467\n",
      "[10]\tvalidation-auc:0.97551\ttrain-auc:0.97675\n",
      "[11]\tvalidation-auc:0.97732\ttrain-auc:0.97849\n",
      "[12]\tvalidation-auc:0.97843\ttrain-auc:0.97961\n",
      "[13]\tvalidation-auc:0.97940\ttrain-auc:0.98062\n",
      "[14]\tvalidation-auc:0.98052\ttrain-auc:0.98172\n",
      "[15]\tvalidation-auc:0.98140\ttrain-auc:0.98258\n",
      "[16]\tvalidation-auc:0.98270\ttrain-auc:0.98384\n",
      "[17]\tvalidation-auc:0.98317\ttrain-auc:0.98432\n",
      "[18]\tvalidation-auc:0.98397\ttrain-auc:0.98510\n",
      "[19]\tvalidation-auc:0.98439\ttrain-auc:0.98549\n",
      "[20]\tvalidation-auc:0.98502\ttrain-auc:0.98610\n",
      "[21]\tvalidation-auc:0.98537\ttrain-auc:0.98647\n",
      "[22]\tvalidation-auc:0.98586\ttrain-auc:0.98694\n",
      "[23]\tvalidation-auc:0.98614\ttrain-auc:0.98722\n",
      "[24]\tvalidation-auc:0.98665\ttrain-auc:0.98769\n",
      "[25]\tvalidation-auc:0.98709\ttrain-auc:0.98813\n",
      "[26]\tvalidation-auc:0.98751\ttrain-auc:0.98854\n",
      "[27]\tvalidation-auc:0.98764\ttrain-auc:0.98868\n",
      "[28]\tvalidation-auc:0.98790\ttrain-auc:0.98894\n",
      "[29]\tvalidation-auc:0.98813\ttrain-auc:0.98915\n",
      "[30]\tvalidation-auc:0.98848\ttrain-auc:0.98950\n",
      "[31]\tvalidation-auc:0.98868\ttrain-auc:0.98966\n",
      "[32]\tvalidation-auc:0.98878\ttrain-auc:0.98976\n",
      "[33]\tvalidation-auc:0.98917\ttrain-auc:0.99009\n",
      "[34]\tvalidation-auc:0.98931\ttrain-auc:0.99023\n",
      "[35]\tvalidation-auc:0.98949\ttrain-auc:0.99041\n",
      "[36]\tvalidation-auc:0.98967\ttrain-auc:0.99058\n",
      "[37]\tvalidation-auc:0.98976\ttrain-auc:0.99068\n",
      "[38]\tvalidation-auc:0.99001\ttrain-auc:0.99091\n",
      "[39]\tvalidation-auc:0.99013\ttrain-auc:0.99102\n",
      "[40]\tvalidation-auc:0.99038\ttrain-auc:0.99127\n",
      "[41]\tvalidation-auc:0.99043\ttrain-auc:0.99133\n",
      "[42]\tvalidation-auc:0.99048\ttrain-auc:0.99139\n",
      "[43]\tvalidation-auc:0.99060\ttrain-auc:0.99150\n",
      "[44]\tvalidation-auc:0.99071\ttrain-auc:0.99161\n",
      "[45]\tvalidation-auc:0.99093\ttrain-auc:0.99183\n",
      "[46]\tvalidation-auc:0.99097\ttrain-auc:0.99188\n",
      "[47]\tvalidation-auc:0.99110\ttrain-auc:0.99203\n",
      "[48]\tvalidation-auc:0.99118\ttrain-auc:0.99211\n",
      "[49]\tvalidation-auc:0.99132\ttrain-auc:0.99225\n",
      "[50]\tvalidation-auc:0.99138\ttrain-auc:0.99231\n",
      "[51]\tvalidation-auc:0.99142\ttrain-auc:0.99237\n",
      "[52]\tvalidation-auc:0.99163\ttrain-auc:0.99258\n",
      "[53]\tvalidation-auc:0.99169\ttrain-auc:0.99266\n",
      "[54]\tvalidation-auc:0.99173\ttrain-auc:0.99271\n",
      "[55]\tvalidation-auc:0.99182\ttrain-auc:0.99281\n",
      "[56]\tvalidation-auc:0.99187\ttrain-auc:0.99286\n",
      "[57]\tvalidation-auc:0.99189\ttrain-auc:0.99290\n",
      "[58]\tvalidation-auc:0.99192\ttrain-auc:0.99294\n",
      "[59]\tvalidation-auc:0.99194\ttrain-auc:0.99296\n",
      "[60]\tvalidation-auc:0.99204\ttrain-auc:0.99308\n",
      "[61]\tvalidation-auc:0.99220\ttrain-auc:0.99322\n",
      "[62]\tvalidation-auc:0.99225\ttrain-auc:0.99329\n",
      "[63]\tvalidation-auc:0.99228\ttrain-auc:0.99332\n",
      "[64]\tvalidation-auc:0.99230\ttrain-auc:0.99335\n",
      "[65]\tvalidation-auc:0.99237\ttrain-auc:0.99342\n",
      "[66]\tvalidation-auc:0.99243\ttrain-auc:0.99349\n",
      "[67]\tvalidation-auc:0.99243\ttrain-auc:0.99352\n",
      "[68]\tvalidation-auc:0.99258\ttrain-auc:0.99364\n",
      "[69]\tvalidation-auc:0.99267\ttrain-auc:0.99372\n",
      "[70]\tvalidation-auc:0.99272\ttrain-auc:0.99379\n",
      "[71]\tvalidation-auc:0.99277\ttrain-auc:0.99384\n",
      "[72]\tvalidation-auc:0.99290\ttrain-auc:0.99396\n",
      "[73]\tvalidation-auc:0.99298\ttrain-auc:0.99404\n",
      "[74]\tvalidation-auc:0.99304\ttrain-auc:0.99410\n",
      "[75]\tvalidation-auc:0.99304\ttrain-auc:0.99412\n",
      "[76]\tvalidation-auc:0.99307\ttrain-auc:0.99415\n",
      "[77]\tvalidation-auc:0.99307\ttrain-auc:0.99417\n",
      "[78]\tvalidation-auc:0.99310\ttrain-auc:0.99421\n",
      "[79]\tvalidation-auc:0.99313\ttrain-auc:0.99426\n",
      "[80]\tvalidation-auc:0.99320\ttrain-auc:0.99433\n",
      "[81]\tvalidation-auc:0.99327\ttrain-auc:0.99441\n",
      "[82]\tvalidation-auc:0.99328\ttrain-auc:0.99443\n",
      "[83]\tvalidation-auc:0.99333\ttrain-auc:0.99448\n",
      "[84]\tvalidation-auc:0.99338\ttrain-auc:0.99453\n",
      "[85]\tvalidation-auc:0.99343\ttrain-auc:0.99459\n",
      "[86]\tvalidation-auc:0.99348\ttrain-auc:0.99464\n",
      "[87]\tvalidation-auc:0.99349\ttrain-auc:0.99467\n",
      "[88]\tvalidation-auc:0.99354\ttrain-auc:0.99472\n",
      "[89]\tvalidation-auc:0.99357\ttrain-auc:0.99476\n",
      "[90]\tvalidation-auc:0.99361\ttrain-auc:0.99480\n",
      "[91]\tvalidation-auc:0.99363\ttrain-auc:0.99484\n",
      "[92]\tvalidation-auc:0.99364\ttrain-auc:0.99486\n",
      "[93]\tvalidation-auc:0.99367\ttrain-auc:0.99490\n",
      "[94]\tvalidation-auc:0.99368\ttrain-auc:0.99492\n",
      "[95]\tvalidation-auc:0.99372\ttrain-auc:0.99497\n",
      "[96]\tvalidation-auc:0.99372\ttrain-auc:0.99499\n",
      "[97]\tvalidation-auc:0.99375\ttrain-auc:0.99503\n",
      "[98]\tvalidation-auc:0.99375\ttrain-auc:0.99505\n",
      "[99]\tvalidation-auc:0.99377\ttrain-auc:0.99508\n",
      "CPU times: user 13.2 s, sys: 2.46 s, total: 15.6 s\n",
      "Wall time: 4.35 s\n"
     ]
    }
   ],
   "source": [
    "%%time\n",
    "\n",
    "bst = xgb.train(params, dtrain, num_round, evallist)"
   ]
  },
  {
   "cell_type": "markdown",
   "metadata": {},
   "source": [
    "<a id=\"conclusion\"></a>\n",
    "## Conclusion\n",
    "\n",
    "In this notebook, we showed how to work with GPU accelerated XGBoost in RAPIDS.\n",
    "\n",
    "To learn more about RAPIDS, be sure to check out: \n",
    "\n",
    "* [Open Source Website](http://rapids.ai)\n",
    "* [GitHub](https://github.com/rapidsai/)\n",
    "* [Press Release](https://nvidianews.nvidia.com/news/nvidia-introduces-rapids-open-source-gpu-acceleration-platform-for-large-scale-data-analytics-and-machine-learning)\n",
    "* [NVIDIA Blog](https://blogs.nvidia.com/blog/2018/10/10/rapids-data-science-open-source-community/)\n",
    "* [Developer Blog](https://devblogs.nvidia.com/gpu-accelerated-analytics-rapids/)\n",
    "* [NVIDIA Data Science Webpage](https://www.nvidia.com/en-us/deep-learning-ai/solutions/data-science/)"
   ]
  },
  {
   "cell_type": "code",
   "execution_count": null,
   "metadata": {},
   "outputs": [],
   "source": []
  },
  {
   "cell_type": "code",
   "execution_count": null,
   "metadata": {},
   "outputs": [],
   "source": []
  }
 ],
 "metadata": {
  "kernelspec": {
   "display_name": "Python 3",
   "language": "python",
   "name": "python3"
  },
  "language_info": {
   "codemirror_mode": {
    "name": "ipython",
    "version": 3
   },
   "file_extension": ".py",
   "mimetype": "text/x-python",
   "name": "python",
   "nbconvert_exporter": "python",
   "pygments_lexer": "ipython3",
   "version": "3.7.8"
  }
 },
 "nbformat": 4,
 "nbformat_minor": 4
}
