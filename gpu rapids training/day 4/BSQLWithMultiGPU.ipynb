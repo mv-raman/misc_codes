{
 "cells": [
  {
   "cell_type": "markdown",
   "id": "numerous-house",
   "metadata": {},
   "source": [
    "## Imports and Creating a Cluster, attaching it to client"
   ]
  },
  {
   "cell_type": "code",
   "execution_count": 17,
   "id": "accessible-dynamics",
   "metadata": {},
   "outputs": [
    {
     "name": "stderr",
     "output_type": "stream",
     "text": [
      "/conda/envs/rapids/lib/python3.7/site-packages/distributed/node.py:155: UserWarning: Port 8001 is already in use.\n",
      "Perhaps you already have a cluster running?\n",
      "Hosting the HTTP server on port 34953 instead\n",
      "  http_address[\"port\"], self.http_server.port\n"
     ]
    }
   ],
   "source": [
    "from blazingsql import BlazingContext\n",
    "from dask_cuda import LocalCUDACluster\n",
    "from dask.distributed import Client\n",
    "\n",
    "cluster = LocalCUDACluster(dashboard_address='0.0.0.0:8001') ## networks the GPUs togther to work together\n",
    "client = Client(cluster) # attached the GPU cluster, to Client"
   ]
  },
  {
   "cell_type": "markdown",
   "id": "thick-syndicate",
   "metadata": {},
   "source": [
    "## Creating Blazing Context with Dask Client"
   ]
  },
  {
   "cell_type": "code",
   "execution_count": 18,
   "id": "manual-latter",
   "metadata": {},
   "outputs": [
    {
     "name": "stdout",
     "output_type": "stream",
     "text": [
      "BlazingContext ready\n"
     ]
    }
   ],
   "source": [
    "# create blazing context, and passing the Client to Blazing Context\n",
    "bc = BlazingContext(dask_client=client) \n"
   ]
  },
  {
   "cell_type": "code",
   "execution_count": 19,
   "id": "coordinate-newton",
   "metadata": {},
   "outputs": [
    {
     "data": {
      "text/html": [
       "<div><strong>Dask DataFrame Structure:</strong></div>\n",
       "<div>\n",
       "<style scoped>\n",
       "    .dataframe tbody tr th:only-of-type {\n",
       "        vertical-align: middle;\n",
       "    }\n",
       "\n",
       "    .dataframe tbody tr th {\n",
       "        vertical-align: top;\n",
       "    }\n",
       "\n",
       "    .dataframe thead th {\n",
       "        text-align: right;\n",
       "    }\n",
       "</style>\n",
       "<table border=\"1\" class=\"dataframe\">\n",
       "  <thead>\n",
       "    <tr style=\"text-align: right;\">\n",
       "      <th></th>\n",
       "      <th>a</th>\n",
       "      <th>b</th>\n",
       "      <th>c</th>\n",
       "      <th>d</th>\n",
       "    </tr>\n",
       "    <tr>\n",
       "      <th>npartitions=1</th>\n",
       "      <th></th>\n",
       "      <th></th>\n",
       "      <th></th>\n",
       "      <th></th>\n",
       "    </tr>\n",
       "  </thead>\n",
       "  <tbody>\n",
       "    <tr>\n",
       "      <th></th>\n",
       "      <td>int64</td>\n",
       "      <td>float64</td>\n",
       "      <td>float64</td>\n",
       "      <td>float64</td>\n",
       "    </tr>\n",
       "    <tr>\n",
       "      <th></th>\n",
       "      <td>...</td>\n",
       "      <td>...</td>\n",
       "      <td>...</td>\n",
       "      <td>...</td>\n",
       "    </tr>\n",
       "  </tbody>\n",
       "</table>\n",
       "</div>\n",
       "<div>Dask Name: from-delayed, 2 tasks</div>"
      ],
      "text/plain": [
       "<dask_cudf.DataFrame | 2 tasks | 1 npartitions>"
      ]
     },
     "execution_count": 19,
     "metadata": {},
     "output_type": "execute_result"
    }
   ],
   "source": [
    "bc.create_table('table1', '/root/code/*.csv') ## Creating Table\n",
    "\n",
    "## Making the query String\n",
    "q= '''\n",
    "SELECT * FROM table1\n",
    "WHERE a=1\n",
    "'''\n",
    "\n",
    "## Running the Query String\n",
    "res = bc.sql(q)\n",
    "res"
   ]
  },
  {
   "cell_type": "code",
   "execution_count": 20,
   "id": "italian-clerk",
   "metadata": {},
   "outputs": [
    {
     "data": {
      "text/plain": [
       "dask_cudf.core.DataFrame"
      ]
     },
     "execution_count": 20,
     "metadata": {},
     "output_type": "execute_result"
    }
   ],
   "source": [
    "type(res)"
   ]
  },
  {
   "cell_type": "code",
   "execution_count": 21,
   "id": "apart-alcohol",
   "metadata": {},
   "outputs": [
    {
     "data": {
      "text/html": [
       "<div>\n",
       "<style scoped>\n",
       "    .dataframe tbody tr th:only-of-type {\n",
       "        vertical-align: middle;\n",
       "    }\n",
       "\n",
       "    .dataframe tbody tr th {\n",
       "        vertical-align: top;\n",
       "    }\n",
       "\n",
       "    .dataframe thead th {\n",
       "        text-align: right;\n",
       "    }\n",
       "</style>\n",
       "<table border=\"1\" class=\"dataframe\">\n",
       "  <thead>\n",
       "    <tr style=\"text-align: right;\">\n",
       "      <th></th>\n",
       "      <th>a</th>\n",
       "      <th>b</th>\n",
       "      <th>c</th>\n",
       "      <th>d</th>\n",
       "    </tr>\n",
       "  </thead>\n",
       "  <tbody>\n",
       "    <tr>\n",
       "      <th>0</th>\n",
       "      <td>1</td>\n",
       "      <td>0.728617</td>\n",
       "      <td>-0.846392</td>\n",
       "      <td>0.176448</td>\n",
       "    </tr>\n",
       "    <tr>\n",
       "      <th>1</th>\n",
       "      <td>1</td>\n",
       "      <td>0.194267</td>\n",
       "      <td>0.574008</td>\n",
       "      <td>0.308305</td>\n",
       "    </tr>\n",
       "    <tr>\n",
       "      <th>2</th>\n",
       "      <td>1</td>\n",
       "      <td>-0.020245</td>\n",
       "      <td>-1.046001</td>\n",
       "      <td>0.267910</td>\n",
       "    </tr>\n",
       "    <tr>\n",
       "      <th>3</th>\n",
       "      <td>1</td>\n",
       "      <td>1.585304</td>\n",
       "      <td>-2.608947</td>\n",
       "      <td>0.716433</td>\n",
       "    </tr>\n",
       "    <tr>\n",
       "      <th>4</th>\n",
       "      <td>1</td>\n",
       "      <td>1.584202</td>\n",
       "      <td>1.665679</td>\n",
       "      <td>-0.866326</td>\n",
       "    </tr>\n",
       "    <tr>\n",
       "      <th>...</th>\n",
       "      <td>...</td>\n",
       "      <td>...</td>\n",
       "      <td>...</td>\n",
       "      <td>...</td>\n",
       "    </tr>\n",
       "    <tr>\n",
       "      <th>9997294</th>\n",
       "      <td>1</td>\n",
       "      <td>0.698527</td>\n",
       "      <td>-1.141175</td>\n",
       "      <td>2.048563</td>\n",
       "    </tr>\n",
       "    <tr>\n",
       "      <th>9997295</th>\n",
       "      <td>1</td>\n",
       "      <td>0.637495</td>\n",
       "      <td>-0.753099</td>\n",
       "      <td>-0.170067</td>\n",
       "    </tr>\n",
       "    <tr>\n",
       "      <th>9997296</th>\n",
       "      <td>1</td>\n",
       "      <td>0.035239</td>\n",
       "      <td>0.102899</td>\n",
       "      <td>-1.461216</td>\n",
       "    </tr>\n",
       "    <tr>\n",
       "      <th>9997297</th>\n",
       "      <td>1</td>\n",
       "      <td>0.283887</td>\n",
       "      <td>-0.484700</td>\n",
       "      <td>1.994155</td>\n",
       "    </tr>\n",
       "    <tr>\n",
       "      <th>9997298</th>\n",
       "      <td>1</td>\n",
       "      <td>1.543419</td>\n",
       "      <td>0.809247</td>\n",
       "      <td>0.176667</td>\n",
       "    </tr>\n",
       "  </tbody>\n",
       "</table>\n",
       "<p>9997299 rows × 4 columns</p>\n",
       "</div>"
      ],
      "text/plain": [
       "         a         b         c         d\n",
       "0        1  0.728617 -0.846392  0.176448\n",
       "1        1  0.194267  0.574008  0.308305\n",
       "2        1 -0.020245 -1.046001  0.267910\n",
       "3        1  1.585304 -2.608947  0.716433\n",
       "4        1  1.584202  1.665679 -0.866326\n",
       "...     ..       ...       ...       ...\n",
       "9997294  1  0.698527 -1.141175  2.048563\n",
       "9997295  1  0.637495 -0.753099 -0.170067\n",
       "9997296  1  0.035239  0.102899 -1.461216\n",
       "9997297  1  0.283887 -0.484700  1.994155\n",
       "9997298  1  1.543419  0.809247  0.176667\n",
       "\n",
       "[9997299 rows x 4 columns]"
      ]
     },
     "execution_count": 21,
     "metadata": {},
     "output_type": "execute_result"
    }
   ],
   "source": [
    "res.compute()"
   ]
  },
  {
   "cell_type": "markdown",
   "id": "tamil-exhibit",
   "metadata": {},
   "source": [
    "## Tuning The Blazing Context"
   ]
  },
  {
   "cell_type": "code",
   "execution_count": 22,
   "id": "swiss-instruction",
   "metadata": {},
   "outputs": [
    {
     "name": "stdout",
     "output_type": "stream",
     "text": [
      "BlazingContext ready\n"
     ]
    }
   ],
   "source": [
    "config = {'JOIN_PARTITION_SIZE_THRESHOLD': 585640000,\n",
    " 'MAX_JOIN_SCATTER_MEM_OVERHEAD': 500000000,\n",
    " 'MAX_NUM_ORDER_BY_PARTITIONS_PER_NODE': 8,\n",
    " 'NUM_BYTES_PER_ORDER_BY_PARTITION': 400000000,\n",
    " 'TABLE_SCAN_KERNEL_NUM_THREADS': 2,\n",
    " 'MAX_CONCAT_CACHE_BYTE_SIZE': 400000000,\n",
    " 'ORDER_BY_SAMPLES_RATIO': 0.1,\n",
    " 'BLAZING_DEVICE_MEM_RESOURCE_CONSUMPTION_THRESHOLD': 0.95,\n",
    " \"FLOW_CONTROL_BYTES_THRESHOLD'\": 600000000.0}\n",
    "\n",
    "bc = BlazingContext(dask_client=client, config_options=config) "
   ]
  },
  {
   "cell_type": "markdown",
   "id": "unexpected-candle",
   "metadata": {},
   "source": [
    "## Return Futures"
   ]
  },
  {
   "cell_type": "code",
   "execution_count": 23,
   "id": "major-ready",
   "metadata": {},
   "outputs": [
    {
     "name": "stdout",
     "output_type": "stream",
     "text": [
      "BlazingContext ready\n"
     ]
    },
    {
     "data": {
      "text/plain": [
       "[<Future: pending, key: executeGraph-3f299cec-be23-44c5-9186-bf966ac8f272>]"
      ]
     },
     "execution_count": 23,
     "metadata": {},
     "output_type": "execute_result"
    }
   ],
   "source": [
    "# create blazing context, and passing the Client to Blazing Context\n",
    "bc = BlazingContext(dask_client=Client(cluster)) \n",
    "\n",
    "bc.create_table('table0', '/root/code/*.csv') ## Creating Table\n",
    "\n",
    "## Making the query String\n",
    "q= f'''\n",
    "    SELECT * FROM table0\n",
    "    WHERE a=1\n",
    "'''\n",
    "## Running the Query String\n",
    "## return_futures is set to True, bc.sql returns the future, becoming a non blocking call.\n",
    "res = bc.sql(q, return_futures=True)\n",
    "res"
   ]
  },
  {
   "cell_type": "markdown",
   "id": "extraordinary-health",
   "metadata": {},
   "source": [
    "## Single GPU\n"
   ]
  },
  {
   "cell_type": "code",
   "execution_count": 24,
   "id": "taken-sailing",
   "metadata": {},
   "outputs": [
    {
     "name": "stdout",
     "output_type": "stream",
     "text": [
      "BlazingContext ready\n"
     ]
    },
    {
     "data": {
      "text/plain": [
       "[<Future: finished, type: builtins.tuple, key: executeGraph-b277d8a1-60a6-4341-953d-99987fc81d32>,\n",
       " <Future: pending, key: executeGraph-a66f049f-b131-4225-9521-e5e357ba31b5>]"
      ]
     },
     "execution_count": 24,
     "metadata": {},
     "output_type": "execute_result"
    }
   ],
   "source": [
    "from blazingsql import BlazingContext\n",
    "\n",
    "# create blazing context, and passing the Client to Blazing Context\n",
    "bc = BlazingContext(dask_client=Client(cluster)) \n",
    "\n",
    "bc.create_table('table0', '/root/code/0.csv') ## Creating Table\n",
    "bc.create_table('table1', '/root/code/1.csv') ## Creating Table\n",
    "\n",
    "res=[]\n",
    "for i in range(2):\n",
    "    ## Making the query String\n",
    "    q= f'''\n",
    "        SELECT * FROM table{i}\n",
    "        WHERE a=1\n",
    "    '''\n",
    "    ## Running the Query String\n",
    "    ## runs non blocking on a single GPU.\n",
    "    res += bc.sql(q, single_gpu=True, return_futures=True)\n",
    "res"
   ]
  },
  {
   "cell_type": "code",
   "execution_count": 25,
   "id": "compressed-empire",
   "metadata": {},
   "outputs": [
    {
     "data": {
      "text/html": [
       "<div><strong>Dask DataFrame Structure:</strong></div>\n",
       "<div>\n",
       "<style scoped>\n",
       "    .dataframe tbody tr th:only-of-type {\n",
       "        vertical-align: middle;\n",
       "    }\n",
       "\n",
       "    .dataframe tbody tr th {\n",
       "        vertical-align: top;\n",
       "    }\n",
       "\n",
       "    .dataframe thead th {\n",
       "        text-align: right;\n",
       "    }\n",
       "</style>\n",
       "<table border=\"1\" class=\"dataframe\">\n",
       "  <thead>\n",
       "    <tr style=\"text-align: right;\">\n",
       "      <th></th>\n",
       "      <th>a</th>\n",
       "      <th>b</th>\n",
       "      <th>c</th>\n",
       "      <th>d</th>\n",
       "    </tr>\n",
       "    <tr>\n",
       "      <th>npartitions=2</th>\n",
       "      <th></th>\n",
       "      <th></th>\n",
       "      <th></th>\n",
       "      <th></th>\n",
       "    </tr>\n",
       "  </thead>\n",
       "  <tbody>\n",
       "    <tr>\n",
       "      <th></th>\n",
       "      <td>int64</td>\n",
       "      <td>float64</td>\n",
       "      <td>float64</td>\n",
       "      <td>float64</td>\n",
       "    </tr>\n",
       "    <tr>\n",
       "      <th></th>\n",
       "      <td>...</td>\n",
       "      <td>...</td>\n",
       "      <td>...</td>\n",
       "      <td>...</td>\n",
       "    </tr>\n",
       "    <tr>\n",
       "      <th></th>\n",
       "      <td>...</td>\n",
       "      <td>...</td>\n",
       "      <td>...</td>\n",
       "      <td>...</td>\n",
       "    </tr>\n",
       "  </tbody>\n",
       "</table>\n",
       "</div>\n",
       "<div>Dask Name: from-delayed, 4 tasks</div>"
      ],
      "text/plain": [
       "<dask_cudf.DataFrame | 4 tasks | 2 npartitions>"
      ]
     },
     "execution_count": 25,
     "metadata": {},
     "output_type": "execute_result"
    }
   ],
   "source": [
    "import dask\n",
    "def get_element(query_partid):\n",
    "    worker = dask.distributed.get_worker()\n",
    "    df = worker.query_parts[query_partid]\n",
    "    del  worker.query_parts[query_partid]\n",
    "    return df\n",
    "\n",
    "def convert_to_df(futures):\n",
    "    res = bc.dask_client.gather(futures)\n",
    "    futures = []\n",
    "    for query_partids, meta, worker_id in res:\n",
    "        for query_partid in query_partids:\n",
    "            futures.append(bc.dask_client.submit(get_element, query_partid, workers=[worker_id]))\n",
    "    result = dask.dataframe.from_delayed(futures, meta=meta)\n",
    "    return result\n",
    "\n",
    "df = convert_to_df(res)\n",
    "df"
   ]
  },
  {
   "cell_type": "code",
   "execution_count": 26,
   "id": "amino-drawing",
   "metadata": {},
   "outputs": [
    {
     "data": {
      "text/html": [
       "<div>\n",
       "<style scoped>\n",
       "    .dataframe tbody tr th:only-of-type {\n",
       "        vertical-align: middle;\n",
       "    }\n",
       "\n",
       "    .dataframe tbody tr th {\n",
       "        vertical-align: top;\n",
       "    }\n",
       "\n",
       "    .dataframe thead th {\n",
       "        text-align: right;\n",
       "    }\n",
       "</style>\n",
       "<table border=\"1\" class=\"dataframe\">\n",
       "  <thead>\n",
       "    <tr style=\"text-align: right;\">\n",
       "      <th></th>\n",
       "      <th>a</th>\n",
       "      <th>b</th>\n",
       "      <th>c</th>\n",
       "      <th>d</th>\n",
       "    </tr>\n",
       "  </thead>\n",
       "  <tbody>\n",
       "    <tr>\n",
       "      <th>0</th>\n",
       "      <td>1</td>\n",
       "      <td>0.728617</td>\n",
       "      <td>-0.846392</td>\n",
       "      <td>0.176448</td>\n",
       "    </tr>\n",
       "    <tr>\n",
       "      <th>1</th>\n",
       "      <td>1</td>\n",
       "      <td>0.194267</td>\n",
       "      <td>0.574008</td>\n",
       "      <td>0.308305</td>\n",
       "    </tr>\n",
       "    <tr>\n",
       "      <th>2</th>\n",
       "      <td>1</td>\n",
       "      <td>-0.020245</td>\n",
       "      <td>-1.046001</td>\n",
       "      <td>0.267910</td>\n",
       "    </tr>\n",
       "    <tr>\n",
       "      <th>3</th>\n",
       "      <td>1</td>\n",
       "      <td>1.585304</td>\n",
       "      <td>-2.608947</td>\n",
       "      <td>0.716433</td>\n",
       "    </tr>\n",
       "    <tr>\n",
       "      <th>4</th>\n",
       "      <td>1</td>\n",
       "      <td>1.584202</td>\n",
       "      <td>1.665679</td>\n",
       "      <td>-0.866326</td>\n",
       "    </tr>\n",
       "    <tr>\n",
       "      <th>...</th>\n",
       "      <td>...</td>\n",
       "      <td>...</td>\n",
       "      <td>...</td>\n",
       "      <td>...</td>\n",
       "    </tr>\n",
       "    <tr>\n",
       "      <th>4997438</th>\n",
       "      <td>1</td>\n",
       "      <td>0.698527</td>\n",
       "      <td>-1.141175</td>\n",
       "      <td>2.048563</td>\n",
       "    </tr>\n",
       "    <tr>\n",
       "      <th>4997439</th>\n",
       "      <td>1</td>\n",
       "      <td>0.637495</td>\n",
       "      <td>-0.753099</td>\n",
       "      <td>-0.170067</td>\n",
       "    </tr>\n",
       "    <tr>\n",
       "      <th>4997440</th>\n",
       "      <td>1</td>\n",
       "      <td>0.035239</td>\n",
       "      <td>0.102899</td>\n",
       "      <td>-1.461216</td>\n",
       "    </tr>\n",
       "    <tr>\n",
       "      <th>4997441</th>\n",
       "      <td>1</td>\n",
       "      <td>0.283887</td>\n",
       "      <td>-0.484700</td>\n",
       "      <td>1.994155</td>\n",
       "    </tr>\n",
       "    <tr>\n",
       "      <th>4997442</th>\n",
       "      <td>1</td>\n",
       "      <td>1.543419</td>\n",
       "      <td>0.809247</td>\n",
       "      <td>0.176667</td>\n",
       "    </tr>\n",
       "  </tbody>\n",
       "</table>\n",
       "<p>9997299 rows × 4 columns</p>\n",
       "</div>"
      ],
      "text/plain": [
       "         a         b         c         d\n",
       "0        1  0.728617 -0.846392  0.176448\n",
       "1        1  0.194267  0.574008  0.308305\n",
       "2        1 -0.020245 -1.046001  0.267910\n",
       "3        1  1.585304 -2.608947  0.716433\n",
       "4        1  1.584202  1.665679 -0.866326\n",
       "...     ..       ...       ...       ...\n",
       "4997438  1  0.698527 -1.141175  2.048563\n",
       "4997439  1  0.637495 -0.753099 -0.170067\n",
       "4997440  1  0.035239  0.102899 -1.461216\n",
       "4997441  1  0.283887 -0.484700  1.994155\n",
       "4997442  1  1.543419  0.809247  0.176667\n",
       "\n",
       "[9997299 rows x 4 columns]"
      ]
     },
     "execution_count": 26,
     "metadata": {},
     "output_type": "execute_result"
    }
   ],
   "source": [
    "df.compute()"
   ]
  },
  {
   "cell_type": "code",
   "execution_count": null,
   "id": "infectious-nudist",
   "metadata": {},
   "outputs": [],
   "source": []
  }
 ],
 "metadata": {
  "kernelspec": {
   "display_name": "Python 3",
   "language": "python",
   "name": "python3"
  },
  "language_info": {
   "codemirror_mode": {
    "name": "ipython",
    "version": 3
   },
   "file_extension": ".py",
   "mimetype": "text/x-python",
   "name": "python",
   "nbconvert_exporter": "python",
   "pygments_lexer": "ipython3",
   "version": "3.7.9"
  }
 },
 "nbformat": 4,
 "nbformat_minor": 5
}
