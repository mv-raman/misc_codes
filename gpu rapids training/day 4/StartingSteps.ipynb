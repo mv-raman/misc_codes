{
 "cells": [
  {
   "cell_type": "code",
   "execution_count": 12,
   "id": "through-entity",
   "metadata": {},
   "outputs": [
    {
     "name": "stdout",
     "output_type": "stream",
     "text": [
      "Fri Feb 12 17:30:26 2021       \r\n",
      "+-----------------------------------------------------------------------------+\r\n",
      "| NVIDIA-SMI 455.23.05    Driver Version: 455.23.05    CUDA Version: 11.1     |\r\n",
      "|-------------------------------+----------------------+----------------------+\r\n",
      "| GPU  Name        Persistence-M| Bus-Id        Disp.A | Volatile Uncorr. ECC |\r\n",
      "| Fan  Temp  Perf  Pwr:Usage/Cap|         Memory-Usage | GPU-Util  Compute M. |\r\n",
      "|                               |                      |               MIG M. |\r\n",
      "|===============================+======================+======================|\r\n",
      "|   0  Tesla V100-SXM2...  On   | 00000000:3B:00.0 Off |                    0 |\r\n",
      "| N/A   40C    P0    59W / 300W |    832MiB / 32510MiB |      0%      Default |\r\n",
      "|                               |                      |                  N/A |\r\n",
      "+-------------------------------+----------------------+----------------------+\r\n",
      "                                                                               \r\n",
      "+-----------------------------------------------------------------------------+\r\n",
      "| Processes:                                                                  |\r\n",
      "|  GPU   GI   CI        PID   Type   Process name                  GPU Memory |\r\n",
      "|        ID   ID                                                   Usage      |\r\n",
      "|=============================================================================|\r\n",
      "+-----------------------------------------------------------------------------+\r\n"
     ]
    }
   ],
   "source": [
    "!nvidia-smi ## Check the number of GPUs, their usage in the containers"
   ]
  },
  {
   "cell_type": "markdown",
   "id": "changing-despite",
   "metadata": {},
   "source": [
    "## Imports"
   ]
  },
  {
   "cell_type": "code",
   "execution_count": 13,
   "id": "distinguished-subject",
   "metadata": {},
   "outputs": [],
   "source": [
    "## Import Blazing Context from blazingsql\n",
    "from blazingsql import BlazingContext\n"
   ]
  },
  {
   "cell_type": "markdown",
   "id": "protecting-desert",
   "metadata": {},
   "source": [
    "## Creating Blazing Context - This step is compulsary for running Blazing Queries"
   ]
  },
  {
   "cell_type": "code",
   "execution_count": 14,
   "id": "labeled-paper",
   "metadata": {},
   "outputs": [
    {
     "name": "stdout",
     "output_type": "stream",
     "text": [
      "BlazingContext ready\n"
     ]
    }
   ],
   "source": [
    "## Creating a Blazing Context -> Global Context, handles all the tables, quries that needs to be run \n",
    "bc = BlazingContext() \n"
   ]
  },
  {
   "cell_type": "code",
   "execution_count": 15,
   "id": "appointed-verse",
   "metadata": {},
   "outputs": [
    {
     "data": {
      "text/html": [
       "<div>\n",
       "<style scoped>\n",
       "    .dataframe tbody tr th:only-of-type {\n",
       "        vertical-align: middle;\n",
       "    }\n",
       "\n",
       "    .dataframe tbody tr th {\n",
       "        vertical-align: top;\n",
       "    }\n",
       "\n",
       "    .dataframe thead th {\n",
       "        text-align: right;\n",
       "    }\n",
       "</style>\n",
       "<table border=\"1\" class=\"dataframe\">\n",
       "  <thead>\n",
       "    <tr style=\"text-align: right;\">\n",
       "      <th></th>\n",
       "      <th>y</th>\n",
       "      <th>x</th>\n",
       "    </tr>\n",
       "  </thead>\n",
       "  <tbody>\n",
       "    <tr>\n",
       "      <th>0</th>\n",
       "      <td>0</td>\n",
       "      <td>0</td>\n",
       "    </tr>\n",
       "    <tr>\n",
       "      <th>1</th>\n",
       "      <td>1</td>\n",
       "      <td>1</td>\n",
       "    </tr>\n",
       "    <tr>\n",
       "      <th>2</th>\n",
       "      <td>2</td>\n",
       "      <td>0</td>\n",
       "    </tr>\n",
       "    <tr>\n",
       "      <th>3</th>\n",
       "      <td>3</td>\n",
       "      <td>1</td>\n",
       "    </tr>\n",
       "    <tr>\n",
       "      <th>4</th>\n",
       "      <td>4</td>\n",
       "      <td>0</td>\n",
       "    </tr>\n",
       "  </tbody>\n",
       "</table>\n",
       "</div>"
      ],
      "text/plain": [
       "   y  x\n",
       "0  0  0\n",
       "1  1  1\n",
       "2  2  0\n",
       "3  3  1\n",
       "4  4  0"
      ]
     },
     "execution_count": 15,
     "metadata": {},
     "output_type": "execute_result"
    }
   ],
   "source": [
    "## Creating a Data Frame to be loaded\n",
    "import cudf\n",
    "df = cudf.DataFrame()\n",
    "df['y'] = range(5)\n",
    "df['x'] = [i%2 for i in range(5)]\n",
    "df"
   ]
  },
  {
   "cell_type": "markdown",
   "id": "corrected-qatar",
   "metadata": {},
   "source": [
    "## Creating a Table in Blazing Context"
   ]
  },
  {
   "cell_type": "code",
   "execution_count": 16,
   "id": "endangered-luxembourg",
   "metadata": {},
   "outputs": [],
   "source": [
    "bc.create_table('A', df)\n"
   ]
  },
  {
   "cell_type": "markdown",
   "id": "employed-disaster",
   "metadata": {},
   "source": [
    "## Writing the Query as Python String"
   ]
  },
  {
   "cell_type": "code",
   "execution_count": 17,
   "id": "controlled-librarian",
   "metadata": {},
   "outputs": [],
   "source": [
    "q= '''\n",
    "SELECT * FROM A\n",
    "'''\n"
   ]
  },
  {
   "cell_type": "markdown",
   "id": "optional-narrow",
   "metadata": {},
   "source": [
    "## Running the Query"
   ]
  },
  {
   "cell_type": "code",
   "execution_count": 18,
   "id": "considered-syntax",
   "metadata": {},
   "outputs": [
    {
     "data": {
      "text/html": [
       "<div>\n",
       "<style scoped>\n",
       "    .dataframe tbody tr th:only-of-type {\n",
       "        vertical-align: middle;\n",
       "    }\n",
       "\n",
       "    .dataframe tbody tr th {\n",
       "        vertical-align: top;\n",
       "    }\n",
       "\n",
       "    .dataframe thead th {\n",
       "        text-align: right;\n",
       "    }\n",
       "</style>\n",
       "<table border=\"1\" class=\"dataframe\">\n",
       "  <thead>\n",
       "    <tr style=\"text-align: right;\">\n",
       "      <th></th>\n",
       "      <th>y</th>\n",
       "      <th>x</th>\n",
       "    </tr>\n",
       "  </thead>\n",
       "  <tbody>\n",
       "    <tr>\n",
       "      <th>0</th>\n",
       "      <td>0</td>\n",
       "      <td>0</td>\n",
       "    </tr>\n",
       "    <tr>\n",
       "      <th>1</th>\n",
       "      <td>1</td>\n",
       "      <td>1</td>\n",
       "    </tr>\n",
       "    <tr>\n",
       "      <th>2</th>\n",
       "      <td>2</td>\n",
       "      <td>0</td>\n",
       "    </tr>\n",
       "    <tr>\n",
       "      <th>3</th>\n",
       "      <td>3</td>\n",
       "      <td>1</td>\n",
       "    </tr>\n",
       "    <tr>\n",
       "      <th>4</th>\n",
       "      <td>4</td>\n",
       "      <td>0</td>\n",
       "    </tr>\n",
       "  </tbody>\n",
       "</table>\n",
       "</div>"
      ],
      "text/plain": [
       "   y  x\n",
       "0  0  0\n",
       "1  1  1\n",
       "2  2  0\n",
       "3  3  1\n",
       "4  4  0"
      ]
     },
     "execution_count": 18,
     "metadata": {},
     "output_type": "execute_result"
    }
   ],
   "source": [
    "## pass the query q written in the previous cell to bc.sql, this will read the query\n",
    "## optimize the query using calcite, translate the query into cuda code, get the results in cudf.dataframe\n",
    "bc.sql(q)"
   ]
  },
  {
   "cell_type": "code",
   "execution_count": 19,
   "id": "otherwise-python",
   "metadata": {},
   "outputs": [
    {
     "data": {
      "text/plain": [
       "'LogicalTableScan(table=[[main, A]])\\n'"
      ]
     },
     "execution_count": 19,
     "metadata": {},
     "output_type": "execute_result"
    }
   ],
   "source": [
    "## Relational Algebra\n",
    "\n",
    "bc.explain(q)"
   ]
  },
  {
   "cell_type": "code",
   "execution_count": null,
   "id": "hungry-distributor",
   "metadata": {},
   "outputs": [],
   "source": []
  }
 ],
 "metadata": {
  "kernelspec": {
   "display_name": "Python 3",
   "language": "python",
   "name": "python3"
  },
  "language_info": {
   "codemirror_mode": {
    "name": "ipython",
    "version": 3
   },
   "file_extension": ".py",
   "mimetype": "text/x-python",
   "name": "python",
   "nbconvert_exporter": "python",
   "pygments_lexer": "ipython3",
   "version": "3.7.9"
  }
 },
 "nbformat": 4,
 "nbformat_minor": 5
}
