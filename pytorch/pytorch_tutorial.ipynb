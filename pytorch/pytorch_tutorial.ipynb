{
 "cells": [
  {
   "cell_type": "code",
   "execution_count": 2,
   "metadata": {},
   "outputs": [
    {
     "name": "stdout",
     "output_type": "stream",
     "text": [
      "tensor([[[0.4632, 0.8653, 0.0556],\n",
      "         [0.2376, 0.1276, 0.2664]],\n",
      "\n",
      "        [[0.2643, 0.9560, 0.3486],\n",
      "         [0.6495, 0.7348, 0.8742]]])\n"
     ]
    }
   ],
   "source": [
    "import torch\n",
    "import numpy as np\n",
    "\n",
    "x = torch.rand(2, 2, 3)\n",
    "print(x)"
   ]
  },
  {
   "cell_type": "code",
   "execution_count": 3,
   "metadata": {},
   "outputs": [
    {
     "name": "stdout",
     "output_type": "stream",
     "text": [
      "tensor([[[0., 0., 0.],\n",
      "         [0., 0., 0.]],\n",
      "\n",
      "        [[0., 0., 0.],\n",
      "         [0., 0., 0.]]])\n"
     ]
    }
   ],
   "source": [
    "x = torch.empty(2, 2, 3)\n",
    "print(x)"
   ]
  },
  {
   "cell_type": "code",
   "execution_count": 4,
   "metadata": {},
   "outputs": [
    {
     "name": "stdout",
     "output_type": "stream",
     "text": [
      "torch.float64 torch.Size([2, 2, 3])\n"
     ]
    }
   ],
   "source": [
    "x = torch.ones(2, 2, 3, dtype=torch.double)\n",
    "print(x.dtype, x.size())"
   ]
  },
  {
   "cell_type": "code",
   "execution_count": 5,
   "metadata": {},
   "outputs": [
    {
     "name": "stdout",
     "output_type": "stream",
     "text": [
      "tensor([2.5000, 0.1000])\n"
     ]
    }
   ],
   "source": [
    "x = torch.tensor([2.5, 0.1])\n",
    "print(x)"
   ]
  },
  {
   "cell_type": "code",
   "execution_count": 6,
   "metadata": {},
   "outputs": [
    {
     "name": "stdout",
     "output_type": "stream",
     "text": [
      "tensor([[0.1469, 0.2928],\n",
      "        [0.7931, 0.3426]])\n",
      "tensor([[0.5981, 0.2524],\n",
      "        [0.0371, 0.4493]])\n",
      "tensor([[0.7450, 0.5452],\n",
      "        [0.8303, 0.7918]])\n",
      "tensor([[0.7450, 0.5452],\n",
      "        [0.8303, 0.7918]])\n",
      "tensor([[0.7450, 0.5452],\n",
      "        [0.8303, 0.7918]])\n",
      "tensor([[-0.5981, -0.2524],\n",
      "        [-0.0371, -0.4493]])\n",
      "tensor([[-0.5981, -0.2524],\n",
      "        [-0.0371, -0.4493]])\n",
      "tensor([[0.1094, 0.1596],\n",
      "        [0.6585, 0.2713]])\n",
      "tensor([[0.1972, 0.5371],\n",
      "        [0.9553, 0.4326]])\n"
     ]
    }
   ],
   "source": [
    "x = torch.rand(2, 2)\n",
    "y = torch.rand(2, 2)\n",
    "print(x)\n",
    "print(y)\n",
    "\n",
    "z = x + y\n",
    "print(z)\n",
    "z = torch.add(x, y)\n",
    "print(z)\n",
    "\n",
    "y.add_(x)\n",
    "print(y)\n",
    "\n",
    "z = x - y\n",
    "print(z)\n",
    "z = torch.sub(x,y)\n",
    "print(z)\n",
    "\n",
    "z = torch.mul(x, y)\n",
    "print(z)\n",
    "z = torch.div(x, y)\n",
    "print(z)"
   ]
  },
  {
   "cell_type": "code",
   "execution_count": 7,
   "metadata": {},
   "outputs": [
    {
     "name": "stdout",
     "output_type": "stream",
     "text": [
      "tensor([[0.5652, 0.0667, 0.6182],\n",
      "        [0.0082, 0.9264, 0.9179],\n",
      "        [0.7790, 0.7128, 0.1523],\n",
      "        [0.1834, 0.3410, 0.0509],\n",
      "        [0.0660, 0.7429, 0.7391]])\n",
      "tensor([0.5652, 0.0082, 0.7790, 0.1834, 0.0660])\n",
      "tensor([0.0082, 0.9264, 0.9179])\n",
      "0.15232282876968384\n"
     ]
    }
   ],
   "source": [
    "x = torch.rand(5,3)\n",
    "print(x)\n",
    "print(x[:,0])\n",
    "print(x[1,:])\n",
    "print(x[2,2].item())"
   ]
  },
  {
   "cell_type": "code",
   "execution_count": 10,
   "metadata": {},
   "outputs": [
    {
     "name": "stdout",
     "output_type": "stream",
     "text": [
      "tensor([[0.1563, 0.8618, 0.4270, 0.8844],\n",
      "        [0.9901, 0.5636, 0.0232, 0.9692],\n",
      "        [0.0907, 0.3561, 0.3774, 0.2916],\n",
      "        [0.7227, 0.3870, 0.7014, 0.3612]])\n",
      "tensor([0.1563, 0.8618, 0.4270, 0.8844, 0.9901, 0.5636, 0.0232, 0.9692, 0.0907,\n",
      "        0.3561, 0.3774, 0.2916, 0.7227, 0.3870, 0.7014, 0.3612])\n",
      "tensor([[0.1563, 0.8618, 0.4270, 0.8844, 0.9901, 0.5636, 0.0232, 0.9692],\n",
      "        [0.0907, 0.3561, 0.3774, 0.2916, 0.7227, 0.3870, 0.7014, 0.3612]])\n",
      "torch.Size([2, 8])\n"
     ]
    }
   ],
   "source": [
    "x = torch.rand(4, 4)\n",
    "print(x)\n",
    "y = x.view(16)\n",
    "print(y)\n",
    "y = x.view(-1, 8)\n",
    "print(y)\n",
    "print(y.size())"
   ]
  },
  {
   "cell_type": "code",
   "execution_count": 11,
   "metadata": {},
   "outputs": [
    {
     "name": "stdout",
     "output_type": "stream",
     "text": [
      "tensor([1., 1., 1., 1., 1.]) [1. 1. 1. 1. 1.]\n",
      "<class 'numpy.ndarray'>\n",
      "tensor([2., 2., 2., 2., 2.]) [2. 2. 2. 2. 2.]\n"
     ]
    }
   ],
   "source": [
    "a = torch.ones(5,)\n",
    "b = a.numpy()\n",
    "print(a, b)\n",
    "print(type(b))\n",
    "a.add_(1)\n",
    "print(a, b)"
   ]
  },
  {
   "cell_type": "code",
   "execution_count": 12,
   "metadata": {},
   "outputs": [
    {
     "name": "stdout",
     "output_type": "stream",
     "text": [
      "[1. 1. 1. 1. 1.]\n",
      "tensor([1., 1., 1., 1., 1.], dtype=torch.float64)\n",
      "[2. 2. 2. 2. 2.]\n",
      "tensor([2., 2., 2., 2., 2.], dtype=torch.float64)\n"
     ]
    }
   ],
   "source": [
    "a = np.ones(5)\n",
    "print(a)\n",
    "b = torch.from_numpy(a)\n",
    "print(b)\n",
    "a += 1\n",
    "print(a)\n",
    "print(b)\n"
   ]
  },
  {
   "cell_type": "code",
   "execution_count": 13,
   "metadata": {},
   "outputs": [],
   "source": [
    "if torch.cuda.is_available():\n",
    "    device = torch.device(\"cuda\")\n",
    "    x = torch.ones(5, device=device)\n",
    "    y = torch.ones(5)\n",
    "    y = y.to(device)\n",
    "    z = x + y\n",
    "    z = z.to(\"cpu\")"
   ]
  },
  {
   "cell_type": "code",
   "execution_count": 14,
   "metadata": {},
   "outputs": [
    {
     "name": "stdout",
     "output_type": "stream",
     "text": [
      "tensor([1., 1., 1., 1., 1.], requires_grad=True)\n"
     ]
    }
   ],
   "source": [
    "x = torch.ones(5, requires_grad=True)\n",
    "print(x)"
   ]
  },
  {
   "cell_type": "code",
   "execution_count": 15,
   "metadata": {},
   "outputs": [
    {
     "name": "stdout",
     "output_type": "stream",
     "text": [
      "tensor([ 1.3788,  1.2816, -0.1120], requires_grad=True)\n",
      "tensor([3.3788, 3.2816, 1.8880], grad_fn=<AddBackward0>)\n",
      "tensor(17.1666, grad_fn=<MeanBackward0>)\n",
      "tensor([4.5051, 4.3755, 2.5173])\n"
     ]
    }
   ],
   "source": [
    "import torch\n",
    "x = torch.randn(3, requires_grad=True)\n",
    "print(x)\n",
    "\n",
    "y = x+2\n",
    "print(y)\n",
    "\n",
    "z = y*y*2\n",
    "z = z.mean()\n",
    "print(z)\n",
    "\n",
    "z.backward() # dz/dx\n",
    "print(x.grad)\n"
   ]
  },
  {
   "cell_type": "code",
   "execution_count": 78,
   "metadata": {},
   "outputs": [],
   "source": [
    "# import torch\n",
    "# x = torch.randn(3, requires_grad=False)\n",
    "# print(x)\n",
    "\n",
    "# y = x+2\n",
    "# print(y)\n",
    "\n",
    "# z = y*y*2\n",
    "# z = z.mean()\n",
    "# print(z)\n",
    "\n",
    "# z.backward() # dz/dx\n",
    "# print(x.grad)"
   ]
  },
  {
   "cell_type": "code",
   "execution_count": 18,
   "metadata": {},
   "outputs": [
    {
     "name": "stdout",
     "output_type": "stream",
     "text": [
      "tensor([-0.1655,  0.2442, -0.9923], requires_grad=True)\n",
      "tensor([1.8345, 2.2442, 1.0077], grad_fn=<AddBackward0>)\n",
      "tensor([ 6.7306, 10.0731,  2.0310], grad_fn=<MulBackward0>)\n",
      "tensor([7.3379e-01, 8.9769e+00, 4.0309e-03])\n"
     ]
    }
   ],
   "source": [
    "import torch\n",
    "x = torch.randn(3, requires_grad=True)\n",
    "print(x)\n",
    "\n",
    "y = x+2\n",
    "print(y)\n",
    "\n",
    "z = y*y*2\n",
    "#z = z.mean()\n",
    "print(z)\n",
    "\n",
    "v = torch.tensor([.1, 1., .001], dtype=torch.float32)\n",
    "z.backward(v) # dz/dx\n",
    "print(x.grad)\n"
   ]
  },
  {
   "cell_type": "code",
   "execution_count": 21,
   "metadata": {},
   "outputs": [
    {
     "name": "stdout",
     "output_type": "stream",
     "text": [
      "tensor([-1.7476,  0.5875,  0.7222], requires_grad=True)\n",
      "tensor([0.2524, 2.5875, 2.7222])\n",
      "tensor([0.2524, 2.5875, 2.7222], grad_fn=<AddBackward0>)\n"
     ]
    }
   ],
   "source": [
    "import torch\n",
    "x = torch.randn(3, requires_grad=True)\n",
    "print(x)\n",
    "\n",
    "# x.requires_grad_(False)\n",
    "# x.detach()\n",
    "# with torch.no_grad(): do operation\n",
    "\n",
    "# x.requires_grad_(False)\n",
    "# print(x)\n",
    "# y = x.detach()\n",
    "# print(y)\n",
    "\n",
    "with torch.no_grad():\n",
    "    y = x+2\n",
    "    print(y)\n",
    "y=x+2\n",
    "print(y)"
   ]
  },
  {
   "cell_type": "code",
   "execution_count": 22,
   "metadata": {},
   "outputs": [
    {
     "name": "stdout",
     "output_type": "stream",
     "text": [
      "tensor([1., 1., 1., 1.], requires_grad=True)\n",
      "tensor([3., 3., 3., 3.])\n",
      "tensor([3., 3., 3., 3.])\n",
      "tensor([3., 3., 3., 3.])\n"
     ]
    }
   ],
   "source": [
    "weights = torch.ones(4, requires_grad=True)\n",
    "print(weights)\n",
    "\n",
    "for epoch in range(3):\n",
    "    model_output = (weights*3).sum()\n",
    "\n",
    "    model_output.backward()\n",
    "\n",
    "    print(weights.grad)\n",
    "\n",
    "    weights.grad.zero_()"
   ]
  },
  {
   "attachments": {},
   "cell_type": "markdown",
   "metadata": {},
   "source": [
    "### Backpropagation"
   ]
  },
  {
   "cell_type": "code",
   "execution_count": 23,
   "metadata": {},
   "outputs": [
    {
     "name": "stdout",
     "output_type": "stream",
     "text": [
      "tensor(1., grad_fn=<PowBackward0>)\n",
      "tensor(-2.)\n"
     ]
    }
   ],
   "source": [
    "import torch\n",
    "x = torch.tensor(1.0)\n",
    "y = torch.tensor(2.0)\n",
    "\n",
    "w = torch.tensor(1.0, requires_grad=True)\n",
    "\n",
    "#forward pass and compute loss\n",
    "\n",
    "y_hat = w * x\n",
    "loss = (y_hat - y)**2\n",
    "\n",
    "print(loss)\n",
    "\n",
    "#backward pass\n",
    "\n",
    "loss.backward()\n",
    "print(w.grad)\n",
    "\n",
    "#update weights\n",
    "#next forward and backward pass"
   ]
  },
  {
   "attachments": {},
   "cell_type": "markdown",
   "metadata": {},
   "source": [
    "### Linear Regression"
   ]
  },
  {
   "cell_type": "code",
   "execution_count": 24,
   "metadata": {},
   "outputs": [
    {
     "name": "stdout",
     "output_type": "stream",
     "text": [
      "prediction before training: f(5)=0.000\n",
      "epoch1: w =1.200, loss = 30.00000000\n",
      "epoch2: w =1.680, loss = 4.79999924\n",
      "epoch3: w =1.872, loss = 0.76800019\n",
      "epoch4: w =1.949, loss = 0.12288000\n",
      "epoch5: w =1.980, loss = 0.01966083\n",
      "epoch6: w =1.992, loss = 0.00314570\n",
      "epoch7: w =1.997, loss = 0.00050332\n",
      "epoch8: w =1.999, loss = 0.00008053\n",
      "epoch9: w =1.999, loss = 0.00001288\n",
      "epoch10: w =2.000, loss = 0.00000206\n",
      "prediction after training: f(5)=9.999\n"
     ]
    }
   ],
   "source": [
    "import torch, numpy as np\n",
    "#f = w*x, f=2*x\n",
    "\n",
    "X = np.array([1, 2, 3, 4], dtype=np.float32)\n",
    "y = np.array([2, 4, 6, 8], dtype=np.float32)\n",
    "\n",
    "w=0.0\n",
    "\n",
    "#model prediction\n",
    "def forward(x):\n",
    "    return w*x\n",
    "\n",
    "#loss = MSE\n",
    "def loss(y, y_predicted):\n",
    "    return ((y_predicted-y)**2).mean()\n",
    "\n",
    "#gradient\n",
    "# MSE = 1/N * (w*x -y)**2\n",
    "# dJ/dw = 1/N 2x (w*x - y)\n",
    "\n",
    "def gradient(x, y, y_predicted):\n",
    "    return np.dot(2*x, y_predicted-y).mean()\n",
    "\n",
    "\n",
    "print(f'prediction before training: f(5)={forward(5):.3f}')\n",
    "\n",
    "# training\n",
    "\n",
    "learning_rate = 0.01\n",
    "n_iters=10\n",
    "\n",
    "for epoch in range(n_iters):\n",
    "    # prediction = forward pass\n",
    "\n",
    "    y_pred = forward(X)\n",
    "\n",
    "    #loss\n",
    "    l = loss(y, y_pred)\n",
    "\n",
    "    #gradients\n",
    "    dw = gradient(X, y, y_pred)\n",
    "\n",
    "    #update weights\n",
    "    w -= learning_rate * dw\n",
    "\n",
    "    if epoch % 1==0:\n",
    "        print(f'epoch{epoch+1}: w ={w:.3f}, loss = {l:.8f}')\n",
    "\n",
    "\n",
    "print(f'prediction after training: f(5)={forward(5):.3f}')"
   ]
  },
  {
   "attachments": {},
   "cell_type": "markdown",
   "metadata": {},
   "source": [
    "### Linear Regression - 2"
   ]
  },
  {
   "cell_type": "code",
   "execution_count": 25,
   "metadata": {},
   "outputs": [
    {
     "name": "stdout",
     "output_type": "stream",
     "text": [
      "prediction before training: f(5)=0.000\n",
      "epoch1: w =0.300, loss = 30.00000000\n",
      "epoch11: w =1.665, loss = 1.16278565\n",
      "epoch21: w =1.934, loss = 0.04506890\n",
      "epoch31: w =1.987, loss = 0.00174685\n",
      "epoch41: w =1.997, loss = 0.00006770\n",
      "epoch51: w =1.999, loss = 0.00000262\n",
      "epoch61: w =2.000, loss = 0.00000010\n",
      "epoch71: w =2.000, loss = 0.00000000\n",
      "epoch81: w =2.000, loss = 0.00000000\n",
      "epoch91: w =2.000, loss = 0.00000000\n",
      "prediction after training: f(5)=10.000\n"
     ]
    }
   ],
   "source": [
    "import torch\n",
    "#f = w*x, f=2*x\n",
    "\n",
    "X = torch.tensor([1, 2, 3, 4], dtype=torch.float32)\n",
    "y = torch.tensor([2, 4, 6, 8], dtype=torch.float32)\n",
    "\n",
    "w = torch.tensor(0.0, dtype = torch.float32, requires_grad=True)\n",
    "\n",
    "#model prediction\n",
    "def forward(x):\n",
    "    return w*x\n",
    "\n",
    "#loss = MSE\n",
    "def loss(y, y_predicted):\n",
    "    return ((y_predicted-y)**2).mean()\n",
    "\n",
    "print(f'prediction before training: f(5)={forward(5):.3f}')\n",
    "\n",
    "# training\n",
    "\n",
    "learning_rate = 0.01\n",
    "n_iters=100\n",
    "\n",
    "for epoch in range(n_iters):\n",
    "    # prediction = forward pass\n",
    "\n",
    "    y_pred = forward(X)\n",
    "\n",
    "    #loss\n",
    "    l = loss(y, y_pred)\n",
    "\n",
    "    #gradients = backward pass\n",
    "    l.backward() # dl/dw \n",
    "\n",
    "    #update weights but not part of computation graph\n",
    "    with torch.no_grad():\n",
    "        w -= learning_rate * w.grad\n",
    "    \n",
    "    # zero gradients\n",
    "    w.grad.zero_()\n",
    "\n",
    "    if epoch % 10==0:\n",
    "        print(f'epoch{epoch+1}: w ={w:.3f}, loss = {l:.8f}')\n",
    "\n",
    "\n",
    "print(f'prediction after training: f(5)={forward(5):.3f}')"
   ]
  },
  {
   "cell_type": "markdown",
   "metadata": {},
   "source": [
    "## Linear regression with torch methods"
   ]
  },
  {
   "cell_type": "code",
   "execution_count": 33,
   "metadata": {},
   "outputs": [
    {
     "name": "stdout",
     "output_type": "stream",
     "text": [
      "4 1\n",
      "prediction before training: f(5)=-3.345\n",
      "epoch1: w =0.011, loss = 50.82451248\n",
      "epoch11: w =1.561, loss = 0.26312882\n",
      "epoch21: w =1.611, loss = 0.22014369\n",
      "epoch31: w =1.634, loss = 0.19522324\n",
      "epoch41: w =1.656, loss = 0.17312734\n",
      "epoch51: w =1.676, loss = 0.15353248\n",
      "epoch61: w =1.695, loss = 0.13615525\n",
      "epoch71: w =1.713, loss = 0.12074482\n",
      "epoch81: w =1.729, loss = 0.10707863\n",
      "epoch91: w =1.745, loss = 0.09495924\n",
      "prediction after training: f(5)=9.503\n"
     ]
    }
   ],
   "source": [
    "# 1. Design model(input size, output size, forward pass)\n",
    "# 2. Construct loss and optimizer\n",
    "# 3. Training loop\n",
    "#   - forward pass : compute prediction\n",
    "#   - backward pass : gradients\n",
    "#   - update weights\n",
    "     \n",
    "import torch\n",
    "import torch.nn as nn\n",
    "\n",
    "X = torch.tensor([[1], [2], [3], [4]], dtype=torch.float32)\n",
    "y = torch.tensor([[2], [4], [6], [8]], dtype=torch.float32)\n",
    "\n",
    "\n",
    "X_test = torch.tensor([5], dtype = torch.float32)\n",
    "\n",
    "\n",
    "n_samples, n_features = X.shape\n",
    "print(n_samples, n_features)\n",
    "\n",
    "input_size = n_features\n",
    "output_size = n_features\n",
    "\n",
    "\n",
    "# model = nn.Linear(input_size, output_size)\n",
    "\n",
    "class LinearRegression(nn.Module):\n",
    "\n",
    "    def __init__(self, input_dim, output_dim):\n",
    "        super(LinearRegression, self).__init__()\n",
    "        # define Layers\n",
    "        self.lin = nn.Linear(input_dim, output_dim)\n",
    "\n",
    "    def forward(self, x):\n",
    "        return self.lin(x)\n",
    "        \n",
    "model = LinearRegression(input_size, output_size)\n",
    "\n",
    "print(f'prediction before training: f(5)={model(X_test).item():.3f}')\n",
    "\n",
    "# training\n",
    "\n",
    "learning_rate = 0.02\n",
    "n_iters=100\n",
    "\n",
    "#loss = MSE\n",
    "loss = nn.MSELoss()\n",
    "optimizer = torch.optim.SGD(model.parameters(), lr=learning_rate)\n",
    "\n",
    "for epoch in range(n_iters):\n",
    "    # prediction = forward pass\n",
    "\n",
    "    y_pred = model(X)\n",
    "\n",
    "    #loss\n",
    "    l = loss(y, y_pred)\n",
    "\n",
    "    #gradients = backward pass\n",
    "    l.backward() # dl/dw \n",
    "\n",
    "    #update weights but not part of computation graph\n",
    "    optimizer.step()\n",
    "    \n",
    "    # zero gradients\n",
    "    optimizer.zero_grad()\n",
    "\n",
    "    if epoch % 10==0:\n",
    "        [w, b] = model.parameters()\n",
    "        print(f'epoch{epoch+1}: w ={w[0][0].item():.3f}, loss = {l:.8f}')\n",
    "\n",
    "\n",
    "print(f'prediction after training: f(5)={model(X_test).item():.3f}')\n"
   ]
  },
  {
   "cell_type": "markdown",
   "metadata": {},
   "source": [
    "## Linear Regression with Data"
   ]
  },
  {
   "cell_type": "code",
   "execution_count": 3,
   "metadata": {},
   "outputs": [
    {
     "name": "stdout",
     "output_type": "stream",
     "text": [
      "eopch:10, loss = 4429.3950\n",
      "eopch:20, loss = 3304.7319\n",
      "eopch:30, loss = 2490.6821\n",
      "eopch:40, loss = 1900.8475\n",
      "eopch:50, loss = 1473.0593\n",
      "eopch:60, loss = 1162.5229\n",
      "eopch:70, loss = 936.9153\n",
      "eopch:80, loss = 772.8853\n",
      "eopch:90, loss = 653.5429\n",
      "eopch:100, loss = 566.6584\n"
     ]
    },
    {
     "data": {
      "image/png": "[encoded data removed]",
      "text/plain": [
       "<Figure size 640x480 with 1 Axes>"
      ]
     },
     "metadata": {},
     "output_type": "display_data"
    }
   ],
   "source": [
    "import torch\n",
    "import torch.nn as nn\n",
    "import numpy as np\n",
    "from sklearn import datasets\n",
    "import matplotlib.pyplot as plt\n",
    "\n",
    "#0.prepare dataset\n",
    "\n",
    "\n",
    "X_numpy , y_numpy = datasets.make_regression(n_samples=100, n_features=1, noise=20,\n",
    "                                             random_state=1)\n",
    "\n",
    "X = torch.from_numpy(X_numpy.astype(np.float32))\n",
    "y = torch.from_numpy(y_numpy.astype(np.float32))\n",
    "y = y.view(y.shape[0], 1)\n",
    "\n",
    "n_samples, n_features = X.shape\n",
    "\n",
    "\n",
    "#1.model\n",
    "input_size = n_features\n",
    "output_size = n_features\n",
    "model = nn.Linear(input_size, output_size)\n",
    "\n",
    "\n",
    "#2.loss and optimizer\n",
    "learning_rate = 0.01\n",
    "criterion = nn.MSELoss()\n",
    "optimizer = torch.optim.SGD(model.parameters(), lr = learning_rate)\n",
    "\n",
    "#3.training loop\n",
    "num_epochs = 100\n",
    "\n",
    "for epoch in range(num_epochs):\n",
    "    # forward pass and loss\n",
    "\n",
    "    y_predicted = model(X)\n",
    "    loss = criterion(y_predicted, y)\n",
    "\n",
    "    #backward pass\n",
    "    loss.backward()\n",
    "\n",
    "    #update\n",
    "    optimizer.step()\n",
    "\n",
    "    optimizer.zero_grad()\n",
    "\n",
    "    if (epoch+1)%10 == 0:\n",
    "        print(f'eopch:{epoch+1}, loss = {loss.item():.4f}')\n",
    "              \n",
    "\n",
    "\n",
    "predicted = model(X).detach().numpy()\n",
    "plt.plot(X_numpy, y_numpy, 'ro')\n",
    "plt.plot(X_numpy, predicted, 'b')\n",
    "plt.show()\n",
    "\n"
   ]
  },
  {
   "cell_type": "markdown",
   "metadata": {},
   "source": [
    "## Logistic regression"
   ]
  },
  {
   "cell_type": "code",
   "execution_count": 8,
   "metadata": {},
   "outputs": [
    {
     "name": "stdout",
     "output_type": "stream",
     "text": [
      "epoch:10, loss= 0.6247\n",
      "epoch:20, loss= 0.5043\n",
      "epoch:30, loss= 0.4304\n",
      "epoch:40, loss= 0.3803\n",
      "epoch:50, loss= 0.3438\n",
      "epoch:60, loss= 0.3159\n",
      "epoch:70, loss= 0.2938\n",
      "epoch:80, loss= 0.2756\n",
      "epoch:90, loss= 0.2605\n",
      "epoch:100, loss= 0.2475\n",
      "accuracy = 0.9211\n"
     ]
    }
   ],
   "source": [
    "import torch\n",
    "import torch.nn as nn\n",
    "import numpy as np\n",
    "from sklearn import datasets\n",
    "from sklearn.preprocessing import StandardScaler\n",
    "from sklearn.model_selection import train_test_split\n",
    "\n",
    "# 0. prepare data\n",
    "bc = datasets.load_breast_cancer()\n",
    "X, y = bc.data, bc.target\n",
    "\n",
    "n_samples, n_features = X.shape\n",
    "\n",
    "X_train, X_test, y_train, y_test = train_test_split(X, y, test_size=.2, random_state=1234)\n",
    "\n",
    "# scale\n",
    "sc = StandardScaler()\n",
    "X_train = sc.fit_transform(X_train)\n",
    "X_test = sc.transform(X_test)\n",
    "\n",
    "X_train = torch.from_numpy(X_train.astype(np.float32))\n",
    "X_test = torch.from_numpy(X_test.astype(np.float32))\n",
    "y_train = torch.from_numpy(y_train.astype(np.float32))\n",
    "y_test = torch.from_numpy(y_test.astype(np.float32))\n",
    "\n",
    "y_train = y_train.view(y_train.shape[0], 1)\n",
    "y_test = y_test.view(y_test.shape[0], 1)\n",
    "\n",
    "# 1. model\n",
    "# f= wx+b , sigmoid\n",
    "\n",
    "class LogisticRegression(nn.Module):\n",
    "\n",
    "    def __init__(self, n_input_features):\n",
    "        super(LogisticRegression, self).__init__()\n",
    "        self.linear = nn.Linear(n_input_features, 1)\n",
    "    \n",
    "    def forward(self, x):\n",
    "        y_predicted = torch.sigmoid(self.linear(x))\n",
    "        return y_predicted\n",
    "\n",
    "model = LogisticRegression(n_features)\n",
    "\n",
    "# 2. loss and optmizer\n",
    "learning_rate = 0.01\n",
    "criterion = nn.BCELoss()\n",
    "optimizer = torch.optim.SGD(model.parameters(), lr=learning_rate)\n",
    "\n",
    "# 3. training loop\n",
    "num_epochs = 100\n",
    "for epoch in range(num_epochs):\n",
    "    #forward pass and loss \n",
    "    y_predicted = model(X_train)\n",
    "    loss = criterion(y_predicted, y_train)\n",
    "    #backward pass\n",
    "    loss.backward()\n",
    "    #updates\n",
    "    optimizer.step()\n",
    "\n",
    "    optimizer.zero_grad()\n",
    "\n",
    "    if (epoch+1)%10==0:\n",
    "        print(f'epoch:{epoch+1}, loss= {loss.item():.4f}')\n",
    "\n",
    "with torch.no_grad():\n",
    "    y_predicted = model(X_test)\n",
    "    y_predicted_cls = y_predicted.round()\n",
    "    acc = y_predicted_cls.eq(y_test).sum() /float(y_test.shape[0])\n",
    "    print(f'accuracy = {acc:.4f}')\n",
    "\n",
    "\n",
    "\n"
   ]
  },
  {
   "cell_type": "markdown",
   "metadata": {},
   "source": [
    "### Dataset and dataloader"
   ]
  },
  {
   "cell_type": "markdown",
   "metadata": {},
   "source": [
    "\n",
    "epoch = 1 forward and backward pass of all training samples\n",
    "\n",
    "batch_size = number of training samples in one forward and backward pass\n",
    "\n",
    "number of iterations = number of passes, each pass using [batch_size] number of samples\n",
    "\n",
    "eg: 100 samples, batch_size = 20, 100/20 = 5 iterations for 1 epoch\n",
    "\n"
   ]
  },
  {
   "cell_type": "code",
   "execution_count": 12,
   "metadata": {},
   "outputs": [
    {
     "name": "stdout",
     "output_type": "stream",
     "text": [
      "178 45\n",
      "epoch 1/2, step 5/45, inputs torch.Size([4, 13])\n",
      "epoch 1/2, step 10/45, inputs torch.Size([4, 13])\n",
      "epoch 1/2, step 15/45, inputs torch.Size([4, 13])\n",
      "epoch 1/2, step 20/45, inputs torch.Size([4, 13])\n",
      "epoch 1/2, step 25/45, inputs torch.Size([4, 13])\n",
      "epoch 1/2, step 30/45, inputs torch.Size([4, 13])\n",
      "epoch 1/2, step 35/45, inputs torch.Size([4, 13])\n",
      "epoch 1/2, step 40/45, inputs torch.Size([4, 13])\n",
      "epoch 1/2, step 45/45, inputs torch.Size([2, 13])\n",
      "epoch 2/2, step 5/45, inputs torch.Size([4, 13])\n",
      "epoch 2/2, step 10/45, inputs torch.Size([4, 13])\n",
      "epoch 2/2, step 15/45, inputs torch.Size([4, 13])\n",
      "epoch 2/2, step 20/45, inputs torch.Size([4, 13])\n",
      "epoch 2/2, step 25/45, inputs torch.Size([4, 13])\n",
      "epoch 2/2, step 30/45, inputs torch.Size([4, 13])\n",
      "epoch 2/2, step 35/45, inputs torch.Size([4, 13])\n",
      "epoch 2/2, step 40/45, inputs torch.Size([4, 13])\n",
      "epoch 2/2, step 45/45, inputs torch.Size([2, 13])\n"
     ]
    }
   ],
   "source": [
    "import torch\n",
    "import torchvision\n",
    "#torchvision.datsets.MNIST() # fashion-mnist,cifar,coco\n",
    "from torch.utils.data import Dataset, DataLoader\n",
    "import numpy as np\n",
    "import math\n",
    "\n",
    "\n",
    "class WineDataset(Dataset):\n",
    "\n",
    "    def __init__(self):\n",
    "        # data loading\n",
    "        xy = np.loadtxt('./data/wine.csv', delimiter=',', dtype=np.float32,skiprows=1)\n",
    "        self.x = torch.from_numpy(xy[:, 1:]) # n_samples, n_features\n",
    "        self.y = torch.from_numpy(xy[:,[0]]) # n_samples, 1\n",
    "        self.n_samples = xy.shape[0]\n",
    "\n",
    "    def __getitem__(self, index):\n",
    "        #dataset[0]\n",
    "        return self.x[index], self.y[index]\n",
    "    \n",
    "    def __len__(self):\n",
    "        #len(dataset)\n",
    "        return self.n_samples\n",
    "    \n",
    "dataset = WineDataset()\n",
    "# first_data = dataset[0]\n",
    "# features, labels = first_data\n",
    "# print(features, labels)\n",
    "dataloader = DataLoader(dataset=dataset, batch_size=4, shuffle=True, num_workers=0)\n",
    "# dataiter = iter(dataloader)\n",
    "# data = next(dataiter)\n",
    "# features, labels = data\n",
    "# print(features, labels)\n",
    "\n",
    "## training loop\n",
    "\n",
    "num_epochs = 2\n",
    "total_samples = len(dataset)\n",
    "n_iterations = math.ceil(total_samples/4)\n",
    "print(total_samples, n_iterations)\n",
    "\n",
    "\n",
    "for epoch in range(num_epochs):\n",
    "    for i, (inputs, labels) in enumerate(dataloader):\n",
    "        #forward pass , update weights\n",
    "        if (i+1)%5==0:\n",
    "            print(f'epoch {epoch+1}/{num_epochs}, step {i+1}/{n_iterations}, inputs {inputs.shape}')\n"
   ]
  },
  {
   "cell_type": "markdown",
   "metadata": {},
   "source": [
    "## Dataset Transforms"
   ]
  },
  {
   "cell_type": "code",
   "execution_count": 11,
   "metadata": {},
   "outputs": [
    {
     "name": "stdout",
     "output_type": "stream",
     "text": [
      "<class 'numpy.ndarray'> <class 'numpy.ndarray'>\n",
      "[1.423e+01 1.710e+00 2.430e+00 1.560e+01 1.270e+02 2.800e+00 3.060e+00\n",
      " 2.800e-01 2.290e+00 5.640e+00 1.040e+00 3.920e+00 1.065e+03] [1.]\n",
      "<class 'torch.Tensor'> <class 'torch.Tensor'>\n",
      "tensor([2.8460e+01, 3.4200e+00, 4.8600e+00, 3.1200e+01, 2.5400e+02, 5.6000e+00,\n",
      "        6.1200e+00, 5.6000e-01, 4.5800e+00, 1.1280e+01, 2.0800e+00, 7.8400e+00,\n",
      "        2.1300e+03]) tensor([1.])\n"
     ]
    }
   ],
   "source": [
    "import torch\n",
    "import torchvision\n",
    "from torch.utils.data import Dataset, DataLoader\n",
    "import numpy as np\n",
    "\n",
    "dataset = torchvision.datasets.MNIST(\n",
    "    root='./data', transform=torchvision.transforms.ToTensor(), download=True\n",
    ")\n",
    "\n",
    "class WineDataset(Dataset):\n",
    "\n",
    "    def __init__(self, transform=None):\n",
    "        # data loading\n",
    "        xy = np.loadtxt('./data/wine.csv', delimiter=',', dtype=np.float32,skiprows=1)\n",
    "        self.x = xy[:, 1:] # n_samples, n_features\n",
    "        self.y = xy[:,[0]] # n_samples, 1\n",
    "        self.n_samples = xy.shape[0]\n",
    "        self.transform = transform\n",
    "\n",
    "    def __getitem__(self, index):\n",
    "        #dataset[0]\n",
    "        sample = self.x[index], self.y[index]\n",
    "        \n",
    "        if self.transform:\n",
    "            sample = self.transform(sample)\n",
    "        \n",
    "        return sample\n",
    "    \n",
    "    def __len__(self):\n",
    "        #len(dataset)\n",
    "        return self.n_samples\n",
    "    \n",
    "\n",
    "class ToTensor:\n",
    "    def __call__(self, sample):\n",
    "        inputs, targets = sample\n",
    "        return torch.from_numpy(inputs), torch.from_numpy(targets)\n",
    "\n",
    "\n",
    "\n",
    "class MulTransform:\n",
    "    def __init__(self, factor):\n",
    "        self.factor = factor\n",
    "    \n",
    "    def __call__(self,sample):\n",
    "        inputs, targets = sample\n",
    "        inputs *= self.factor\n",
    "        return inputs, targets\n",
    "\n",
    "\n",
    "\n",
    "\n",
    "dataset = WineDataset(transform=None)\n",
    "first_data = dataset[0]\n",
    "features, labels = first_data\n",
    "print(type(features), type(labels))\n",
    "print(features, labels)\n",
    "\n",
    "composed = torchvision.transforms.Compose([ToTensor(), MulTransform(2)])\n",
    "\n",
    "dataset = WineDataset(transform=composed)\n",
    "first_data = dataset[0]\n",
    "features, labels = first_data\n",
    "print(type(features), type(labels))\n",
    "print(features, labels)\n",
    "\n",
    "\n"
   ]
  },
  {
   "cell_type": "markdown",
   "metadata": {},
   "source": [
    "## Softmax"
   ]
  },
  {
   "cell_type": "code",
   "execution_count": 27,
   "metadata": {},
   "outputs": [
    {
     "name": "stdout",
     "output_type": "stream",
     "text": [
      "softmax numpy: [0.65900114 0.24243297 0.09856589]\n",
      "torch softmax: tensor([0.6590, 0.2424, 0.0986])\n"
     ]
    }
   ],
   "source": [
    "import torch\n",
    "import torch.nn as nn\n",
    "import numpy as np\n",
    "\n",
    "def softmax(x):\n",
    "    return np.exp(x) / np.sum(np.exp(x), axis=0)\n",
    "\n",
    "x = np.array([2.0, 1.0, 0.1])\n",
    "outputs = softmax(x)\n",
    "print('softmax numpy:', outputs)\n",
    "\n",
    "\n",
    "x = torch.tensor([2.0, 1.0, 0.1])\n",
    "outputs = torch.softmax(x, dim=0)\n",
    "print('torch softmax:', outputs)"
   ]
  },
  {
   "cell_type": "markdown",
   "metadata": {},
   "source": [
    "## Cross entropy"
   ]
  },
  {
   "cell_type": "code",
   "execution_count": 33,
   "metadata": {},
   "outputs": [
    {
     "name": "stdout",
     "output_type": "stream",
     "text": [
      "loss1 numpy : 0.3567\n",
      "loss2 numpy : 2.3026\n"
     ]
    }
   ],
   "source": [
    "import torch\n",
    "import torch.nn as nn\n",
    "import numpy as np\n",
    "\n",
    "def cross_entropy(actual, predicted):\n",
    "    loss = -np.sum(actual * np.log(predicted))\n",
    "    return loss # / float(predicted.shape[0])\n",
    "\n",
    "# y must be one hot encoded\n",
    "Y = np.array([1, 0, 0])\n",
    "\n",
    "\n",
    "Y_pred_good = np.array([.7, .2, .1 ])\n",
    "Y_pred_bad = np.array([.1, .3, .6 ])\n",
    "\n",
    "l1 = cross_entropy(Y, Y_pred_good)\n",
    "l2 = cross_entropy(Y, Y_pred_bad)\n",
    "\n",
    "print(f'loss1 numpy : {l1:.4f}')\n",
    "print(f'loss2 numpy : {l2:.4f}')\n"
   ]
  },
  {
   "cell_type": "code",
   "execution_count": 41,
   "metadata": {},
   "outputs": [
    {
     "name": "stdout",
     "output_type": "stream",
     "text": [
      "loss1 torch : 0.4170\n",
      "loss2 torch : 1.8406\n",
      "tensor([0])\n",
      "tensor([1])\n"
     ]
    }
   ],
   "source": [
    "import torch\n",
    "import torch.nn as nn\n",
    "import numpy as np\n",
    "\n",
    "loss = nn.CrossEntropyLoss()\n",
    "## cross entropy loss applies nn.LogSoftmax + nn.NLLLoss( negative log likelihood loss)\n",
    "# no softmax in last layer\n",
    "\n",
    "# Y has class labels , not one hot\n",
    "# y pred has to be raw scores (logits), no softmax\n",
    "\n",
    "Y = torch.tensor([0])\n",
    "# n_sample * n_classes = 1*3\n",
    "Y_pred_good = torch.tensor([[2.0, 1.0, 0.1]])\n",
    "Y_pred_bad = torch.tensor([[0.5, 2.0, 0.3]])\n",
    "\n",
    "\n",
    "l1 = loss(Y_pred_good, Y)\n",
    "l2 = loss(Y_pred_bad, Y)\n",
    "\n",
    "print(f'loss1 torch : {l1:.4f}')\n",
    "print(f'loss2 torch : {l2:.4f}')\n",
    "\n",
    "_, predictions1 = torch.max(Y_pred_good,1)\n",
    "_, predictions2 = torch.max(Y_pred_bad,1)\n",
    "\n",
    "print(predictions1)\n",
    "print(predictions2)\n",
    "\n"
   ]
  },
  {
   "cell_type": "code",
   "execution_count": 42,
   "metadata": {},
   "outputs": [
    {
     "name": "stdout",
     "output_type": "stream",
     "text": [
      "loss1 torch : 0.3018\n",
      "loss2 torch : 1.6242\n",
      "tensor([2, 0, 1])\n",
      "tensor([0, 2, 1])\n"
     ]
    }
   ],
   "source": [
    "import torch\n",
    "import torch.nn as nn\n",
    "import numpy as np\n",
    "\n",
    "loss = nn.CrossEntropyLoss()\n",
    "## cross entropy loss applies nn.LogSoftmax + nn.NLLLoss( negative log likelihood loss)\n",
    "# no softmax in last layer\n",
    "\n",
    "# Y has class labels , not one hot\n",
    "# y pred has to be raw scores (logits), no softmax\n",
    "\n",
    "Y = torch.tensor([2, 0, 1])\n",
    "# n_sample * n_classes = 3*3\n",
    "Y_pred_good = torch.tensor([[.1, 1.0, 2.1], [2.0, 1.0, 0.1], [.1, 3.0, 0.1]])\n",
    "Y_pred_bad = torch.tensor([[2.1, 1.0, 0.1], [0.1, 1.0, 2.1], [0.1, 3.0, 0.1]])\n",
    "\n",
    "\n",
    "l1 = loss(Y_pred_good, Y)\n",
    "l2 = loss(Y_pred_bad, Y)\n",
    "\n",
    "print(f'loss1 torch : {l1:.4f}')\n",
    "print(f'loss2 torch : {l2:.4f}')\n",
    "\n",
    "_, predictions1 = torch.max(Y_pred_good,1)\n",
    "_, predictions2 = torch.max(Y_pred_bad,1)\n",
    "\n",
    "print(predictions1)\n",
    "print(predictions2)\n",
    "\n"
   ]
  },
  {
   "cell_type": "markdown",
   "metadata": {},
   "source": [
    "## Activation functions"
   ]
  },
  {
   "cell_type": "markdown",
   "metadata": {},
   "source": [
    "## Feed forward NN"
   ]
  },
  {
   "cell_type": "code",
   "execution_count": 63,
   "metadata": {},
   "outputs": [
    {
     "name": "stdout",
     "output_type": "stream",
     "text": [
      "epoch 1/2, step 100/600, loss=0.3420\n",
      "epoch 1/2, step 200/600, loss=0.4789\n",
      "epoch 1/2, step 300/600, loss=0.2963\n",
      "epoch 1/2, step 400/600, loss=0.2266\n",
      "epoch 1/2, step 500/600, loss=0.2246\n",
      "epoch 1/2, step 600/600, loss=0.2734\n",
      "epoch 2/2, step 100/600, loss=0.1678\n",
      "epoch 2/2, step 200/600, loss=0.2060\n",
      "epoch 2/2, step 300/600, loss=0.2300\n",
      "epoch 2/2, step 400/600, loss=0.1574\n",
      "epoch 2/2, step 500/600, loss=0.2537\n",
      "epoch 2/2, step 600/600, loss=0.3160\n",
      "accuracy = 95.05\n"
     ]
    }
   ],
   "source": [
    "import torch\n",
    "import torch.nn as nn\n",
    "import torchvision\n",
    "import torchvision.transforms as transforms\n",
    "import matplotlib.pyplot as plt\n",
    "\n",
    "\n",
    "#device config\n",
    "\n",
    "device = torch.device('cuda' if torch.cuda.is_available() else 'cpu')\n",
    "\n",
    "# hyper parameters\n",
    "\n",
    "input_size = 784 # 28*28 \n",
    "hidden_size = 100\n",
    "num_classes = 10\n",
    "\n",
    "\n",
    "num_epochs = 2\n",
    "batch_size = 100\n",
    "learning_rate = .001\n",
    "\n",
    "## MNIST\n",
    "train_dataset = torchvision.datasets.MNIST(root='./data', \n",
    "                                           train=True,\n",
    "                                           transform=transforms.ToTensor(),\n",
    "                                           download=True)\n",
    "\n",
    "test_dataset = torchvision.datasets.MNIST(root='./data', \n",
    "                                           train=False,\n",
    "                                           transform=transforms.ToTensor())\n",
    " \n",
    "train_loader = torch.utils.data.DataLoader(dataset=train_dataset,\n",
    "                                           batch_size=batch_size,\n",
    "                                           shuffle=True,)\n",
    "test_loader = torch.utils.data.DataLoader(dataset=test_dataset,\n",
    "                                           batch_size=batch_size,\n",
    "                                           shuffle=False,)\n",
    "\n",
    "# examples = iter(train_loader)\n",
    "# samples, labels = next(examples)\n",
    "# print(samples.shape, labels.shape)\n",
    "\n",
    "# for i in range(6):\n",
    "#     plt.subplot(2,3, i+1)\n",
    "#     plt.imshow(samples[i][0], cmap='gray')\n",
    "# plt.show()\n",
    "\n",
    "\n",
    "class NeuralNet(nn.Module):\n",
    "    def __init__(self, input_size, hidden_size, num_classes):\n",
    "        super(NeuralNet, self).__init__()\n",
    "        self.l1 = nn.Linear(input_size, hidden_size)\n",
    "        self.relu = nn.ReLU()\n",
    "        self.l2 = nn.Linear(hidden_size, num_classes)\n",
    "\n",
    "    def forward(self, x):\n",
    "        out = self.l1(x)\n",
    "        out = self.relu(out)\n",
    "        out = self.l2(out)\n",
    "        return out\n",
    "    \n",
    "model = NeuralNet(input_size, hidden_size, num_classes)\n",
    "\n",
    "# loss and optimizer\n",
    "\n",
    "criterion = nn.CrossEntropyLoss()\n",
    "optimizer = torch.optim.Adam(model.parameters(), lr=learning_rate)\n",
    "\n",
    "## training loop\n",
    "n_total_steps = len(train_loader)\n",
    "\n",
    "for epoch in range(num_epochs):\n",
    "    for i, (images, labels) in enumerate(train_loader):\n",
    "        # 100, 1, 28, 28\n",
    "        # 100,784\n",
    "        images = images.reshape(-1, 28*28).to(device)\n",
    "        labels = labels.to(device)\n",
    "\n",
    "        #forward\n",
    "        outputs = model(images)\n",
    "        loss = criterion(outputs, labels)\n",
    "\n",
    "        #backward\n",
    "        optimizer.zero_grad()\n",
    "        loss.backward()\n",
    "        optimizer.step()\n",
    "\n",
    "        if (i+1) % 100 ==0:\n",
    "            print(f'epoch {epoch+1}/{num_epochs}, step {i+1}/{n_total_steps}, loss={loss.item():.4f}')\n",
    "\n",
    "\n",
    "## test\n",
    "\n",
    "with torch.no_grad():\n",
    "    n_correct = 0\n",
    "    n_samples = 0\n",
    "    for images, labels in test_loader:\n",
    "        images = images.reshape(-1, 28*28).to(device)\n",
    "        labels = labels.to(device)\n",
    "        outputs = model(images)\n",
    "\n",
    "        _, predictions = torch.max(outputs, 1)\n",
    "        n_samples += labels.shape[0]\n",
    "        n_correct += (predictions == labels).sum().item()\n",
    "\n",
    "    acc = 100.0 * n_correct / n_samples\n",
    "    print(f'accuracy = {acc}')\n",
    "\n",
    "\n",
    "\n",
    "\n",
    "\n",
    "\n"
   ]
  },
  {
   "cell_type": "markdown",
   "metadata": {},
   "source": [
    "# convolution NN"
   ]
  },
  {
   "cell_type": "code",
   "execution_count": 73,
   "metadata": {},
   "outputs": [
    {
     "name": "stdout",
     "output_type": "stream",
     "text": [
      "Files already downloaded and verified\n",
      "Files already downloaded and verified\n"
     ]
    },
    {
     "data": {
      "image/png": "[encoded data removed]",
      "text/plain": [
       "<Figure size 640x480 with 1 Axes>"
      ]
     },
     "metadata": {},
     "output_type": "display_data"
    },
    {
     "name": "stdout",
     "output_type": "stream",
     "text": [
      "Epoch [1/5], Step [2000/12500], Loss: 2.3028\n",
      "Epoch [1/5], Step [4000/12500], Loss: 2.2939\n",
      "Epoch [1/5], Step [6000/12500], Loss: 2.2722\n",
      "Epoch [1/5], Step [8000/12500], Loss: 2.3048\n",
      "Epoch [1/5], Step [10000/12500], Loss: 2.1959\n",
      "Epoch [1/5], Step [12000/12500], Loss: 2.3988\n",
      "Epoch [2/5], Step [2000/12500], Loss: 2.1254\n",
      "Epoch [2/5], Step [4000/12500], Loss: 2.1424\n",
      "Epoch [2/5], Step [6000/12500], Loss: 1.5450\n",
      "Epoch [2/5], Step [8000/12500], Loss: 2.2758\n",
      "Epoch [2/5], Step [10000/12500], Loss: 1.8076\n",
      "Epoch [2/5], Step [12000/12500], Loss: 1.7408\n",
      "Epoch [3/5], Step [2000/12500], Loss: 1.6560\n",
      "Epoch [3/5], Step [4000/12500], Loss: 2.4847\n",
      "Epoch [3/5], Step [6000/12500], Loss: 1.3073\n",
      "Epoch [3/5], Step [8000/12500], Loss: 1.6418\n",
      "Epoch [3/5], Step [10000/12500], Loss: 1.6553\n",
      "Epoch [3/5], Step [12000/12500], Loss: 1.4791\n",
      "Epoch [4/5], Step [2000/12500], Loss: 1.8236\n",
      "Epoch [4/5], Step [4000/12500], Loss: 1.6149\n",
      "Epoch [4/5], Step [6000/12500], Loss: 1.1042\n",
      "Epoch [4/5], Step [8000/12500], Loss: 1.9742\n",
      "Epoch [4/5], Step [10000/12500], Loss: 1.4654\n",
      "Epoch [4/5], Step [12000/12500], Loss: 1.5689\n",
      "Epoch [5/5], Step [2000/12500], Loss: 1.3896\n",
      "Epoch [5/5], Step [4000/12500], Loss: 1.8323\n",
      "Epoch [5/5], Step [6000/12500], Loss: 1.2604\n",
      "Epoch [5/5], Step [8000/12500], Loss: 1.1488\n",
      "Epoch [5/5], Step [10000/12500], Loss: 1.1124\n",
      "Epoch [5/5], Step [12000/12500], Loss: 1.2109\n",
      "finished Training\n",
      "accuracy of the network: 49.33 %\n",
      "accuracy of plane: 49.7 %\n",
      "accuracy of car: 78.9 %\n",
      "accuracy of bird: 29.0 %\n",
      "accuracy of cat: 38.6 %\n",
      "accuracy of deer: 38.0 %\n",
      "accuracy of dog: 33.7 %\n",
      "accuracy of frog: 63.1 %\n",
      "accuracy of horse: 65.5 %\n",
      "accuracy of ship: 57.1 %\n",
      "accuracy of truck: 39.7 %\n"
     ]
    }
   ],
   "source": [
    "import torch\n",
    "import torch.nn as nn\n",
    "import torch.nn.functional as F\n",
    "import torchvision\n",
    "import torchvision.transforms as transforms\n",
    "import matplotlib.pyplot as plt\n",
    "import numpy as np\n",
    "\n",
    "\n",
    "device = torch.device('cuda' if torch.cuda.is_available() else 'cpu')\n",
    "\n",
    "num_epochs = 5\n",
    "batch_size = 4\n",
    "learning_rate = 0.001\n",
    "\n",
    "transform = transforms.Compose([\n",
    "    transforms.ToTensor(),\n",
    "    transforms.Normalize((0.5, 0.5, 0.5), (0.5, 0.5, 0.5))\n",
    "])\n",
    "\n",
    "\n",
    "train_dataset = torchvision.datasets.CIFAR10(root = './data', train=True,\n",
    "                                             download=True, transform=transform)\n",
    "\n",
    "test_dataset = torchvision.datasets.CIFAR10(root='./data', train=False,\n",
    "                                            download=True, transform=transform)\n",
    "\n",
    "train_loader = torch.utils.data.DataLoader(train_dataset, batch_size=batch_size,\n",
    "                                           shuffle=True)\n",
    "\n",
    "test_loader = torch.utils.data.DataLoader(test_dataset, batch_size=batch_size,\n",
    "                                          shuffle=False)\n",
    "\n",
    "\n",
    "classes = ('plane', 'car', 'bird', 'cat',\n",
    "           'deer', 'dog', 'frog', 'horse', 'ship', 'truck')\n",
    "\n",
    "\n",
    "\n",
    "def imshow(img):\n",
    "    img = img/2 + 0.5 # unnormalize\n",
    "    npimg = img.numpy()\n",
    "    plt.imshow(np.transpose(npimg, (1,2,0)))\n",
    "    plt.show()\n",
    "\n",
    "\n",
    "dataiter = iter(train_loader)\n",
    "images, labels = next(dataiter)\n",
    "\n",
    "imshow(torchvision.utils.make_grid(images))\n",
    "\n",
    "class ConvNet(nn.Module):\n",
    "    def __init__(self):\n",
    "        super(ConvNet, self).__init__()\n",
    "        self.conv1 = nn.Conv2d(3, 6, 5)\n",
    "        self.pool = nn.MaxPool2d(2, 2)\n",
    "        self.conv2 = nn.Conv2d(6, 16, 5)\n",
    "        self.fc1 = nn.Linear(16*5*5, 120)\n",
    "        self.fc2 = nn.Linear(120, 84)\n",
    "        self.fc3 = nn.Linear(84, 10)\n",
    "\n",
    "    def forward(self, x):\n",
    "        x = self.pool(F.relu(self.conv1(x)))\n",
    "        x = self.pool(F.relu(self.conv2(x)))\n",
    "        x = x.view(-1, 16*5*5)\n",
    "        x = F.relu(self.fc1(x))\n",
    "        x = F.relu(self.fc2(x))\n",
    "        x = self.fc3(x)\n",
    "        return x\n",
    "    \n",
    "model = ConvNet().to(device)\n",
    "\n",
    "criterion = nn.CrossEntropyLoss()\n",
    "optimizer = torch.optim.SGD(model.parameters(), lr = learning_rate)\n",
    "\n",
    "n_total_steps = len(train_loader)\n",
    "\n",
    "for epoch in range(num_epochs):\n",
    "    for i, (images, labels) in enumerate(train_loader):\n",
    "        images = images.to(device)\n",
    "        labels = labels.to(device)\n",
    "\n",
    "        #forward pass\n",
    "        outputs = model(images)\n",
    "        loss = criterion(outputs, labels)\n",
    "\n",
    "        #backward and optimize\n",
    "        optimizer.zero_grad()\n",
    "        loss.backward()\n",
    "        optimizer.step()\n",
    "\n",
    "        if (i+1)%2000 == 0:\n",
    "            print(f'Epoch [{epoch+1}/{num_epochs}], Step [{i+1}/{n_total_steps}], Loss: {loss.item():.4f}')\n",
    "\n",
    "print('finished Training')\n",
    "\n",
    "PATH = './cnn.pth'\n",
    "torch.save(model.state_dict(), PATH)\n",
    "\n",
    "\n",
    "with torch.no_grad():\n",
    "    n_correct = 0\n",
    "    n_samples = 0\n",
    "    n_class_correct = [0 for i in range(10)]\n",
    "    n_class_samples = [0 for i in range(10)]\n",
    "\n",
    "    for images, labels in test_loader:\n",
    "        images = images.to(device)\n",
    "        labels = labels.to(device)\n",
    "        outputs = model(images)\n",
    "\n",
    "        _, predicted = torch.max(outputs, 1)\n",
    "        n_samples += labels.size(0)\n",
    "        n_correct +=(predicted ==labels).sum().item()\n",
    "\n",
    "        for i in range(batch_size):\n",
    "            label = labels[i]\n",
    "            pred = predicted[i]\n",
    "            if (label==pred):\n",
    "                n_class_correct[label]+=1\n",
    "            n_class_samples[label]+=1\n",
    "\n",
    "acc = 100 * n_correct / n_samples\n",
    "print(f'accuracy of the network: {acc} %')\n",
    "\n",
    "for i in range(10):\n",
    "    acc = 100.0* n_class_correct[i] / n_class_samples[i]\n",
    "    print(f'accuracy of {classes[i]}: {acc} %')"
   ]
  },
  {
   "cell_type": "markdown",
   "metadata": {},
   "source": [
    "## Save and load models"
   ]
  },
  {
   "cell_type": "code",
   "execution_count": 76,
   "metadata": {},
   "outputs": [],
   "source": [
    "import torch\n",
    "import torch.nn as nn\n",
    "\n",
    "\n",
    "## complete model\n",
    "torch.save(arg, PATH)\n",
    "\n",
    "torch.load(PATH)\n",
    "\n",
    "model.eval()\n",
    "\n",
    "\n",
    "## state dict\n",
    "torch.save(model.state_dict(), PATH)\n",
    "\n",
    "## model must be created again with parameters\n",
    "\n",
    "model = Model(*args, **kwargs)\n",
    "model.load_state_dict(torch.load(PATH))\n",
    "model.eval()\n"
   ]
  },
  {
   "cell_type": "code",
   "execution_count": 84,
   "metadata": {},
   "outputs": [],
   "source": [
    "import torch\n",
    "import torch.nn as nn\n",
    "\n",
    "class Model(nn.Module):\n",
    "    def __init__(self, n_input_features):\n",
    "        super(Model, self).__init__()\n",
    "        self.linear = nn.Linear(n_input_features, 1)\n",
    "\n",
    "    def foward(self, x):\n",
    "        y_pred = torch.sigmoid(self.linear(x))\n",
    "        return y_pred\n",
    "\n",
    "model = Model(n_input_features=6)"
   ]
  },
  {
   "cell_type": "code",
   "execution_count": 86,
   "metadata": {},
   "outputs": [
    {
     "name": "stdout",
     "output_type": "stream",
     "text": [
      "Parameter containing:\n",
      "tensor([[-0.1411,  0.0516,  0.1793, -0.0742,  0.2767,  0.0311]],\n",
      "       requires_grad=True)\n",
      "Parameter containing:\n",
      "tensor([-0.0286], requires_grad=True)\n"
     ]
    }
   ],
   "source": [
    "FILE = \"model.pth\" #pytorch\n",
    "torch.save(model, FILE)\n",
    "\n",
    "model = torch.load(FILE)\n",
    "model.eval()\n",
    "\n",
    "for param in model.parameters():\n",
    "    print(param)\n"
   ]
  },
  {
   "cell_type": "code",
   "execution_count": 89,
   "metadata": {},
   "outputs": [
    {
     "name": "stdout",
     "output_type": "stream",
     "text": [
      "Parameter containing:\n",
      "tensor([[-0.1411,  0.0516,  0.1793, -0.0742,  0.2767,  0.0311]],\n",
      "       requires_grad=True)\n",
      "Parameter containing:\n",
      "tensor([-0.0286], requires_grad=True)\n",
      "OrderedDict([('linear.weight', tensor([[-0.1411,  0.0516,  0.1793, -0.0742,  0.2767,  0.0311]])), ('linear.bias', tensor([-0.0286]))])\n"
     ]
    }
   ],
   "source": [
    "FILE = \"model.pth\" #pytorch\n",
    "torch.save(model.state_dict(), FILE)\n",
    "\n",
    "loaded_model = Model(n_input_features=6)\n",
    "loaded_model.load_state_dict(torch.load(FILE))\n",
    "loaded_model.eval()\n",
    "\n",
    "for param in model.parameters():\n",
    "    print(param)\n",
    "\n",
    "print(model.state_dict())"
   ]
  },
  {
   "cell_type": "markdown",
   "metadata": {},
   "source": [
    "## Saving model checkpoints"
   ]
  },
  {
   "cell_type": "code",
   "execution_count": 94,
   "metadata": {},
   "outputs": [
    {
     "name": "stdout",
     "output_type": "stream",
     "text": [
      "{'state': {}, 'param_groups': [{'lr': 0.01, 'momentum': 0, 'dampening': 0, 'weight_decay': 0, 'nesterov': False, 'maximize': False, 'foreach': None, 'differentiable': False, 'params': [0, 1]}]}\n"
     ]
    }
   ],
   "source": [
    "learning_rate = 0.01\n",
    "optimizer = torch.optim.SGD(model.parameters(), lr = learning_rate)\n",
    "print(optimizer.state_dict())\n",
    "\n",
    "checkpoint = {\n",
    "    \"epoch\": 90,\n",
    "    \"model_state\": model.state_dict(),\n",
    "    \"optim_state\": optimizer.state_dict()\n",
    "}\n",
    "\n",
    "torch.save(checkpoint, \"checkpoint.pth\")\n",
    "\n"
   ]
  },
  {
   "cell_type": "code",
   "execution_count": 98,
   "metadata": {},
   "outputs": [
    {
     "name": "stdout",
     "output_type": "stream",
     "text": [
      "{'state': {}, 'param_groups': [{'lr': 0.01, 'momentum': 0, 'dampening': 0, 'weight_decay': 0, 'nesterov': False, 'maximize': False, 'foreach': None, 'differentiable': False, 'params': [0, 1]}]}\n",
      "OrderedDict([('linear.weight', tensor([[-0.1411,  0.0516,  0.1793, -0.0742,  0.2767,  0.0311]])), ('linear.bias', tensor([-0.0286]))])\n"
     ]
    }
   ],
   "source": [
    "loaded_checkpoint = torch.load(\"checkpoint.pth\")\n",
    "epoch = loaded_checkpoint['epoch']\n",
    "\n",
    "model = Model(n_input_features=6)\n",
    "optimizer = torch.optim.SGD(model.parameters(), lr = 0)\n",
    "\n",
    "model.load_state_dict(checkpoint['model_state'])\n",
    "optimizer.load_state_dict(checkpoint['optim_state'])\n",
    "\n",
    "print(optimizer.state_dict())\n",
    "print(model.state_dict())\n"
   ]
  },
  {
   "cell_type": "code",
   "execution_count": null,
   "metadata": {},
   "outputs": [],
   "source": []
  }
 ],
 "metadata": {
  "kernelspec": {
   "display_name": "Python 3",
   "language": "python",
   "name": "python3"
  },
  "language_info": {
   "codemirror_mode": {
    "name": "ipython",
    "version": 3
   },
   "file_extension": ".py",
   "mimetype": "text/x-python",
   "name": "python",
   "nbconvert_exporter": "python",
   "pygments_lexer": "ipython3",
   "version": "3.8.10"
  },
  "orig_nbformat": 4
 },
 "nbformat": 4,
 "nbformat_minor": 2
}
